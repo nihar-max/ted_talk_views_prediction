{
  "nbformat": 4,
  "nbformat_minor": 0,
  "metadata": {
    "colab": {
      "provenance": [],
      "include_colab_link": true
    },
    "kernelspec": {
      "name": "python3",
      "display_name": "Python 3"
    },
    "language_info": {
      "name": "python"
    }
  },
  "cells": [
    {
      "cell_type": "markdown",
      "metadata": {
        "id": "view-in-github",
        "colab_type": "text"
      },
      "source": [
        "<a href=\"https://colab.research.google.com/github/nihar-max/ted_talk_views_prediction/blob/master/TED_Talk_Views_Prediction_Part_1_EDA.ipynb\" target=\"_parent\"><img src=\"https://colab.research.google.com/assets/colab-badge.svg\" alt=\"Open In Colab\"/></a>"
      ]
    },
    {
      "cell_type": "markdown",
      "source": [
        "![tedx-logo.png](data:image/png;base64,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)"
      ],
      "metadata": {
        "id": "nB3c2kYKWWlD"
      }
    },
    {
      "cell_type": "markdown",
      "source": [
        "# TED Talk views Prediction\n",
        "\n",
        "\n",
        "#### TED is devoted to spread powerful ideas on any topic.Founded in 1984 by Richard Salman as a nonprofit organization that aimed at bringing experts from the fields of Technology, Entertainment, and Design together, TED Conferences have gone on to become the Mecca of ideas from virtually all walks of life.\n",
        "\n",
        "\n",
        "Number of TED talks: 4,005<br>\n",
        "Number of speakers: 3,274<br>\n",
        "Number of events: 459<br>\n",
        "Timespan: Jun 2006 - Apr 2020<br>\n",
        "Attributes: 19<br>\n",
        "\n",
        "Attribute Information:\n",
        "\n",
        "1. talk_id\n",
        "2. title - Title of talk\n",
        "3. speaker_1 - First speaker in TED's speaker list\n",
        "4. all_speakers -Speakers in the talk\n",
        "5. occupations - Occupations of the speakers\n",
        "6. about_speakers - number of users who indicated whether they found the review helpful or not\n",
        "7. recorded_date - Date when Talk was recorded\n",
        "8. published_date - Date when talk was published\n",
        "9. event - Event or medium in which the talk was given\n",
        "10. native_lang - Orignal language of talk\n",
        "11. available_lang -Dubbed lang of talk\n",
        "12. comments - Comments given by the users who watched the TED talk\n",
        "13. duration - Duration in seconds\n",
        "14. topics - Topic of the ted talk\n",
        "15. related_talks -\n",
        "16. url - URL\n",
        "17. description - Description\n",
        "\n",
        "Target Var:\n",
        "\n",
        "1. Views: Total views on the TED talk\n",
        "\n",
        "### **Objective**:\n",
        "To build predictive model, which help in predicting views of video uploaded on TEDX website.\n",
        "\n",
        "\n"
      ],
      "metadata": {
        "id": "CHse84ElaGxR"
      }
    },
    {
      "cell_type": "markdown",
      "source": [
        "<h2>1. Mapping the real-world problem to an ML problem</h2>\n",
        "\n",
        "<h3>1.2 Type of Machine Learning Problem</h3>\n",
        "\n",
        "<p>\n",
        "    \n",
        "            Task is to predict views of TED talk videos => Regression problem\n",
        "   \n",
        "      \n",
        "    \n",
        "</p>"
      ],
      "metadata": {
        "id": "Ntsj6cITknyR"
      }
    },
    {
      "cell_type": "markdown",
      "source": [
        "<h2>2. Reading Data</h2>\n",
        "<h3> 2.1 Loading the data </h3>\n",
        "\n",
        "The dataset is available in:\n",
        "1. .csv file format\n",
        "\n",
        "In order to load the data, We are using csv dataset with help of pandas library.\n",
        "<br>"
      ],
      "metadata": {
        "id": "gwkCPnVTiFiq"
      }
    },
    {
      "cell_type": "code",
      "source": [
        "import pandas as pd\n",
        "import numpy as np\n",
        "import matplotlib.pyplot as plt\n",
        "%matplotlib inline\n",
        "import  seaborn as sns"
      ],
      "metadata": {
        "id": "cwOLP3NLjwFZ"
      },
      "execution_count": null,
      "outputs": []
    },
    {
      "cell_type": "code",
      "source": [
        "from google.colab import drive\n",
        "drive.mount('/content/drive')"
      ],
      "metadata": {
        "id": "yBBkRVEmPXD_",
        "colab": {
          "base_uri": "https://localhost:8080/"
        },
        "outputId": "a3707e3d-b378-49b4-e753-01b75e86f951"
      },
      "execution_count": null,
      "outputs": [
        {
          "output_type": "stream",
          "name": "stdout",
          "text": [
            "Drive already mounted at /content/drive; to attempt to forcibly remount, call drive.mount(\"/content/drive\", force_remount=True).\n"
          ]
        }
      ]
    },
    {
      "cell_type": "code",
      "source": [
        "#df = pd.read_csv(\"/content/drive/MyDrive/BI/ML Project/TED talk views prediction/data_ted_talks.csv\")"
      ],
      "metadata": {
        "id": "0xgxRYSUPRwQ"
      },
      "execution_count": null,
      "outputs": []
    },
    {
      "cell_type": "code",
      "source": [
        "#Using Pandas library to load dataset\n",
        "df = pd.read_csv('/content/drive/MyDrive/TED_Talk_views_prediction/data_ted_talks.csv',\n",
        "                  engine=\"python\",\n",
        "                  error_bad_lines=False,\n",
        "                  encoding='utf-8')"
      ],
      "metadata": {
        "colab": {
          "base_uri": "https://localhost:8080/"
        },
        "id": "DOQ-mPMVWcwb",
        "outputId": "ad27082a-96aa-4f33-d88e-930d7c3cde94"
      },
      "execution_count": null,
      "outputs": [
        {
          "output_type": "stream",
          "name": "stderr",
          "text": [
            "<ipython-input-125-a6a45a8e26bf>:2: FutureWarning: The error_bad_lines argument has been deprecated and will be removed in a future version. Use on_bad_lines in the future.\n",
            "\n",
            "\n",
            "  df = pd.read_csv('/content/drive/MyDrive/TED_Talk_views_prediction/data_ted_talks.csv',\n"
          ]
        }
      ]
    },
    {
      "cell_type": "code",
      "source": [
        "print(\"Number of data points in our data:\", df.shape)\n",
        "df.head(1)"
      ],
      "metadata": {
        "colab": {
          "base_uri": "https://localhost:8080/",
          "height": 187
        },
        "id": "4WF3yhohbPIA",
        "outputId": "947967ec-c63a-46b1-c7ce-e9d7af8b3953"
      },
      "execution_count": null,
      "outputs": [
        {
          "output_type": "stream",
          "name": "stdout",
          "text": [
            "Number of data points in our data: (4005, 19)\n"
          ]
        },
        {
          "output_type": "execute_result",
          "data": {
            "text/plain": [
              "   talk_id                        title speaker_1    all_speakers  \\\n",
              "0        1  Averting the climate crisis   Al Gore  {0: 'Al Gore'}   \n",
              "\n",
              "                 occupations  \\\n",
              "0  {0: ['climate advocate']}   \n",
              "\n",
              "                                      about_speakers    views recorded_date  \\\n",
              "0  {0: 'Nobel Laureate Al Gore focused the world’...  3523392    2006-02-25   \n",
              "\n",
              "  published_date    event native_lang  \\\n",
              "0     2006-06-27  TED2006          en   \n",
              "\n",
              "                                      available_lang  comments  duration  \\\n",
              "0  ['ar', 'bg', 'cs', 'de', 'el', 'en', 'es', 'fa...     272.0       977   \n",
              "\n",
              "                                              topics  \\\n",
              "0  ['alternative energy', 'cars', 'climate change...   \n",
              "\n",
              "                                       related_talks  \\\n",
              "0  {243: 'New thinking on the climate crisis', 54...   \n",
              "\n",
              "                                                 url  \\\n",
              "0  https://www.ted.com/talks/al_gore_averting_the...   \n",
              "\n",
              "                                         description  \\\n",
              "0  With the same humor and humanity he exuded in ...   \n",
              "\n",
              "                                          transcript  \n",
              "0  Thank you so much, Chris. And it's truly a gre...  "
            ],
            "text/html": [
              "\n",
              "  <div id=\"df-5a8df4f6-317e-476f-9c62-d9cae832b4bb\" class=\"colab-df-container\">\n",
              "    <div>\n",
              "<style scoped>\n",
              "    .dataframe tbody tr th:only-of-type {\n",
              "        vertical-align: middle;\n",
              "    }\n",
              "\n",
              "    .dataframe tbody tr th {\n",
              "        vertical-align: top;\n",
              "    }\n",
              "\n",
              "    .dataframe thead th {\n",
              "        text-align: right;\n",
              "    }\n",
              "</style>\n",
              "<table border=\"1\" class=\"dataframe\">\n",
              "  <thead>\n",
              "    <tr style=\"text-align: right;\">\n",
              "      <th></th>\n",
              "      <th>talk_id</th>\n",
              "      <th>title</th>\n",
              "      <th>speaker_1</th>\n",
              "      <th>all_speakers</th>\n",
              "      <th>occupations</th>\n",
              "      <th>about_speakers</th>\n",
              "      <th>views</th>\n",
              "      <th>recorded_date</th>\n",
              "      <th>published_date</th>\n",
              "      <th>event</th>\n",
              "      <th>native_lang</th>\n",
              "      <th>available_lang</th>\n",
              "      <th>comments</th>\n",
              "      <th>duration</th>\n",
              "      <th>topics</th>\n",
              "      <th>related_talks</th>\n",
              "      <th>url</th>\n",
              "      <th>description</th>\n",
              "      <th>transcript</th>\n",
              "    </tr>\n",
              "  </thead>\n",
              "  <tbody>\n",
              "    <tr>\n",
              "      <th>0</th>\n",
              "      <td>1</td>\n",
              "      <td>Averting the climate crisis</td>\n",
              "      <td>Al Gore</td>\n",
              "      <td>{0: 'Al Gore'}</td>\n",
              "      <td>{0: ['climate advocate']}</td>\n",
              "      <td>{0: 'Nobel Laureate Al Gore focused the world’...</td>\n",
              "      <td>3523392</td>\n",
              "      <td>2006-02-25</td>\n",
              "      <td>2006-06-27</td>\n",
              "      <td>TED2006</td>\n",
              "      <td>en</td>\n",
              "      <td>['ar', 'bg', 'cs', 'de', 'el', 'en', 'es', 'fa...</td>\n",
              "      <td>272.0</td>\n",
              "      <td>977</td>\n",
              "      <td>['alternative energy', 'cars', 'climate change...</td>\n",
              "      <td>{243: 'New thinking on the climate crisis', 54...</td>\n",
              "      <td>https://www.ted.com/talks/al_gore_averting_the...</td>\n",
              "      <td>With the same humor and humanity he exuded in ...</td>\n",
              "      <td>Thank you so much, Chris. And it's truly a gre...</td>\n",
              "    </tr>\n",
              "  </tbody>\n",
              "</table>\n",
              "</div>\n",
              "    <div class=\"colab-df-buttons\">\n",
              "\n",
              "  <div class=\"colab-df-container\">\n",
              "    <button class=\"colab-df-convert\" onclick=\"convertToInteractive('df-5a8df4f6-317e-476f-9c62-d9cae832b4bb')\"\n",
              "            title=\"Convert this dataframe to an interactive table.\"\n",
              "            style=\"display:none;\">\n",
              "\n",
              "  <svg xmlns=\"http://www.w3.org/2000/svg\" height=\"24px\" viewBox=\"0 -960 960 960\">\n",
              "    <path d=\"M120-120v-720h720v720H120Zm60-500h600v-160H180v160Zm220 220h160v-160H400v160Zm0 220h160v-160H400v160ZM180-400h160v-160H180v160Zm440 0h160v-160H620v160ZM180-180h160v-160H180v160Zm440 0h160v-160H620v160Z\"/>\n",
              "  </svg>\n",
              "    </button>\n",
              "\n",
              "  <style>\n",
              "    .colab-df-container {\n",
              "      display:flex;\n",
              "      gap: 12px;\n",
              "    }\n",
              "\n",
              "    .colab-df-convert {\n",
              "      background-color: #E8F0FE;\n",
              "      border: none;\n",
              "      border-radius: 50%;\n",
              "      cursor: pointer;\n",
              "      display: none;\n",
              "      fill: #1967D2;\n",
              "      height: 32px;\n",
              "      padding: 0 0 0 0;\n",
              "      width: 32px;\n",
              "    }\n",
              "\n",
              "    .colab-df-convert:hover {\n",
              "      background-color: #E2EBFA;\n",
              "      box-shadow: 0px 1px 2px rgba(60, 64, 67, 0.3), 0px 1px 3px 1px rgba(60, 64, 67, 0.15);\n",
              "      fill: #174EA6;\n",
              "    }\n",
              "\n",
              "    .colab-df-buttons div {\n",
              "      margin-bottom: 4px;\n",
              "    }\n",
              "\n",
              "    [theme=dark] .colab-df-convert {\n",
              "      background-color: #3B4455;\n",
              "      fill: #D2E3FC;\n",
              "    }\n",
              "\n",
              "    [theme=dark] .colab-df-convert:hover {\n",
              "      background-color: #434B5C;\n",
              "      box-shadow: 0px 1px 3px 1px rgba(0, 0, 0, 0.15);\n",
              "      filter: drop-shadow(0px 1px 2px rgba(0, 0, 0, 0.3));\n",
              "      fill: #FFFFFF;\n",
              "    }\n",
              "  </style>\n",
              "\n",
              "    <script>\n",
              "      const buttonEl =\n",
              "        document.querySelector('#df-5a8df4f6-317e-476f-9c62-d9cae832b4bb button.colab-df-convert');\n",
              "      buttonEl.style.display =\n",
              "        google.colab.kernel.accessAllowed ? 'block' : 'none';\n",
              "\n",
              "      async function convertToInteractive(key) {\n",
              "        const element = document.querySelector('#df-5a8df4f6-317e-476f-9c62-d9cae832b4bb');\n",
              "        const dataTable =\n",
              "          await google.colab.kernel.invokeFunction('convertToInteractive',\n",
              "                                                    [key], {});\n",
              "        if (!dataTable) return;\n",
              "\n",
              "        const docLinkHtml = 'Like what you see? Visit the ' +\n",
              "          '<a target=\"_blank\" href=https://colab.research.google.com/notebooks/data_table.ipynb>data table notebook</a>'\n",
              "          + ' to learn more about interactive tables.';\n",
              "        element.innerHTML = '';\n",
              "        dataTable['output_type'] = 'display_data';\n",
              "        await google.colab.output.renderOutput(dataTable, element);\n",
              "        const docLink = document.createElement('div');\n",
              "        docLink.innerHTML = docLinkHtml;\n",
              "        element.appendChild(docLink);\n",
              "      }\n",
              "    </script>\n",
              "  </div>\n",
              "\n",
              "\n",
              "<div id=\"df-ee6d6557-a559-4fd0-a9cd-2572690bb972\">\n",
              "  <button class=\"colab-df-quickchart\" onclick=\"quickchart('df-ee6d6557-a559-4fd0-a9cd-2572690bb972')\"\n",
              "            title=\"Suggest charts.\"\n",
              "            style=\"display:none;\">\n",
              "\n",
              "<svg xmlns=\"http://www.w3.org/2000/svg\" height=\"24px\"viewBox=\"0 0 24 24\"\n",
              "     width=\"24px\">\n",
              "    <g>\n",
              "        <path d=\"M19 3H5c-1.1 0-2 .9-2 2v14c0 1.1.9 2 2 2h14c1.1 0 2-.9 2-2V5c0-1.1-.9-2-2-2zM9 17H7v-7h2v7zm4 0h-2V7h2v10zm4 0h-2v-4h2v4z\"/>\n",
              "    </g>\n",
              "</svg>\n",
              "  </button>\n",
              "\n",
              "<style>\n",
              "  .colab-df-quickchart {\n",
              "    background-color: #E8F0FE;\n",
              "    border: none;\n",
              "    border-radius: 50%;\n",
              "    cursor: pointer;\n",
              "    display: none;\n",
              "    fill: #1967D2;\n",
              "    height: 32px;\n",
              "    padding: 0 0 0 0;\n",
              "    width: 32px;\n",
              "  }\n",
              "\n",
              "  .colab-df-quickchart:hover {\n",
              "    background-color: #E2EBFA;\n",
              "    box-shadow: 0px 1px 2px rgba(60, 64, 67, 0.3), 0px 1px 3px 1px rgba(60, 64, 67, 0.15);\n",
              "    fill: #174EA6;\n",
              "  }\n",
              "\n",
              "  [theme=dark] .colab-df-quickchart {\n",
              "    background-color: #3B4455;\n",
              "    fill: #D2E3FC;\n",
              "  }\n",
              "\n",
              "  [theme=dark] .colab-df-quickchart:hover {\n",
              "    background-color: #434B5C;\n",
              "    box-shadow: 0px 1px 3px 1px rgba(0, 0, 0, 0.15);\n",
              "    filter: drop-shadow(0px 1px 2px rgba(0, 0, 0, 0.3));\n",
              "    fill: #FFFFFF;\n",
              "  }\n",
              "</style>\n",
              "\n",
              "  <script>\n",
              "    async function quickchart(key) {\n",
              "      const charts = await google.colab.kernel.invokeFunction(\n",
              "          'suggestCharts', [key], {});\n",
              "    }\n",
              "    (() => {\n",
              "      let quickchartButtonEl =\n",
              "        document.querySelector('#df-ee6d6557-a559-4fd0-a9cd-2572690bb972 button');\n",
              "      quickchartButtonEl.style.display =\n",
              "        google.colab.kernel.accessAllowed ? 'block' : 'none';\n",
              "    })();\n",
              "  </script>\n",
              "</div>\n",
              "    </div>\n",
              "  </div>\n"
            ]
          },
          "metadata": {},
          "execution_count": 126
        }
      ]
    },
    {
      "cell_type": "code",
      "source": [
        "df.columns"
      ],
      "metadata": {
        "colab": {
          "base_uri": "https://localhost:8080/"
        },
        "id": "msbMazAVdQhk",
        "outputId": "fb52af26-d25e-4c60-e527-9f69d5e2f3dd"
      },
      "execution_count": null,
      "outputs": [
        {
          "output_type": "execute_result",
          "data": {
            "text/plain": [
              "Index(['talk_id', 'title', 'speaker_1', 'all_speakers', 'occupations',\n",
              "       'about_speakers', 'views', 'recorded_date', 'published_date', 'event',\n",
              "       'native_lang', 'available_lang', 'comments', 'duration', 'topics',\n",
              "       'related_talks', 'url', 'description', 'transcript'],\n",
              "      dtype='object')"
            ]
          },
          "metadata": {},
          "execution_count": 127
        }
      ]
    },
    {
      "cell_type": "code",
      "source": [
        "df.info()"
      ],
      "metadata": {
        "colab": {
          "base_uri": "https://localhost:8080/"
        },
        "id": "c9pzxg8lmvgU",
        "outputId": "8cffe871-d178-41b5-912f-66cfb5447893"
      },
      "execution_count": null,
      "outputs": [
        {
          "output_type": "stream",
          "name": "stdout",
          "text": [
            "<class 'pandas.core.frame.DataFrame'>\n",
            "RangeIndex: 4005 entries, 0 to 4004\n",
            "Data columns (total 19 columns):\n",
            " #   Column          Non-Null Count  Dtype  \n",
            "---  ------          --------------  -----  \n",
            " 0   talk_id         4005 non-null   int64  \n",
            " 1   title           4005 non-null   object \n",
            " 2   speaker_1       4005 non-null   object \n",
            " 3   all_speakers    4001 non-null   object \n",
            " 4   occupations     3483 non-null   object \n",
            " 5   about_speakers  3502 non-null   object \n",
            " 6   views           4005 non-null   int64  \n",
            " 7   recorded_date   4004 non-null   object \n",
            " 8   published_date  4005 non-null   object \n",
            " 9   event           4005 non-null   object \n",
            " 10  native_lang     4005 non-null   object \n",
            " 11  available_lang  4005 non-null   object \n",
            " 12  comments        3350 non-null   float64\n",
            " 13  duration        4005 non-null   int64  \n",
            " 14  topics          4005 non-null   object \n",
            " 15  related_talks   4005 non-null   object \n",
            " 16  url             4005 non-null   object \n",
            " 17  description     4005 non-null   object \n",
            " 18  transcript      4005 non-null   object \n",
            "dtypes: float64(1), int64(3), object(15)\n",
            "memory usage: 594.6+ KB\n"
          ]
        }
      ]
    },
    {
      "cell_type": "markdown",
      "source": [
        "<h2>3. Exploratory Data Analysis</h2>"
      ],
      "metadata": {
        "id": "9GEvH9IBmJaq"
      }
    },
    {
      "cell_type": "code",
      "source": [
        "# explore published_date column & extract weekday, month and year & add three separate columns as:\n",
        "# - release_day\n",
        "# - release_month\n",
        "# - release_year\n",
        "df['published_year'] = df['published_date'].str.split('-').str[0]\n",
        "df['published_month'] = df['published_date'].str.split('-').str[1]\n",
        "df['published_day'] = df['published_date'].str.split('-').str[2]"
      ],
      "metadata": {
        "id": "-cI-s2IGn0Iz"
      },
      "execution_count": null,
      "outputs": []
    },
    {
      "cell_type": "code",
      "source": [
        "df['published_year']=df['published_year'].astype(int)\n",
        "df['published_month']=df['published_month'].astype(int)\n",
        "df['published_day']=df['published_day'].astype(int)"
      ],
      "metadata": {
        "id": "_dv2iP9rpnH6"
      },
      "execution_count": null,
      "outputs": []
    },
    {
      "cell_type": "code",
      "source": [
        "df.info()"
      ],
      "metadata": {
        "colab": {
          "base_uri": "https://localhost:8080/"
        },
        "id": "AyGHQx-3qIe7",
        "outputId": "02f80d1c-579f-463d-f493-180f13cdbaa1"
      },
      "execution_count": null,
      "outputs": [
        {
          "output_type": "stream",
          "name": "stdout",
          "text": [
            "<class 'pandas.core.frame.DataFrame'>\n",
            "RangeIndex: 4005 entries, 0 to 4004\n",
            "Data columns (total 22 columns):\n",
            " #   Column           Non-Null Count  Dtype  \n",
            "---  ------           --------------  -----  \n",
            " 0   talk_id          4005 non-null   int64  \n",
            " 1   title            4005 non-null   object \n",
            " 2   speaker_1        4005 non-null   object \n",
            " 3   all_speakers     4001 non-null   object \n",
            " 4   occupations      3483 non-null   object \n",
            " 5   about_speakers   3502 non-null   object \n",
            " 6   views            4005 non-null   int64  \n",
            " 7   recorded_date    4004 non-null   object \n",
            " 8   published_date   4005 non-null   object \n",
            " 9   event            4005 non-null   object \n",
            " 10  native_lang      4005 non-null   object \n",
            " 11  available_lang   4005 non-null   object \n",
            " 12  comments         3350 non-null   float64\n",
            " 13  duration         4005 non-null   int64  \n",
            " 14  topics           4005 non-null   object \n",
            " 15  related_talks    4005 non-null   object \n",
            " 16  url              4005 non-null   object \n",
            " 17  description      4005 non-null   object \n",
            " 18  transcript       4005 non-null   object \n",
            " 19  published_year   4005 non-null   int64  \n",
            " 20  published_month  4005 non-null   int64  \n",
            " 21  published_day    4005 non-null   int64  \n",
            "dtypes: float64(1), int64(6), object(15)\n",
            "memory usage: 688.5+ KB\n"
          ]
        }
      ]
    },
    {
      "cell_type": "code",
      "source": [
        "df[['published_date','published_month','published_day','published_year']].head(3)"
      ],
      "metadata": {
        "colab": {
          "base_uri": "https://localhost:8080/",
          "height": 143
        },
        "id": "6QMu5bw6n8qr",
        "outputId": "465a970d-4d2b-4572-8367-9a7cca3391bd"
      },
      "execution_count": null,
      "outputs": [
        {
          "output_type": "execute_result",
          "data": {
            "text/plain": [
              "  published_date  published_month  published_day  published_year\n",
              "0     2006-06-27                6             27            2006\n",
              "1     2006-06-27                6             27            2006\n",
              "2     2006-06-27                6             27            2006"
            ],
            "text/html": [
              "\n",
              "  <div id=\"df-f447bcc6-85fd-471b-8485-3588e86cb0e5\" class=\"colab-df-container\">\n",
              "    <div>\n",
              "<style scoped>\n",
              "    .dataframe tbody tr th:only-of-type {\n",
              "        vertical-align: middle;\n",
              "    }\n",
              "\n",
              "    .dataframe tbody tr th {\n",
              "        vertical-align: top;\n",
              "    }\n",
              "\n",
              "    .dataframe thead th {\n",
              "        text-align: right;\n",
              "    }\n",
              "</style>\n",
              "<table border=\"1\" class=\"dataframe\">\n",
              "  <thead>\n",
              "    <tr style=\"text-align: right;\">\n",
              "      <th></th>\n",
              "      <th>published_date</th>\n",
              "      <th>published_month</th>\n",
              "      <th>published_day</th>\n",
              "      <th>published_year</th>\n",
              "    </tr>\n",
              "  </thead>\n",
              "  <tbody>\n",
              "    <tr>\n",
              "      <th>0</th>\n",
              "      <td>2006-06-27</td>\n",
              "      <td>6</td>\n",
              "      <td>27</td>\n",
              "      <td>2006</td>\n",
              "    </tr>\n",
              "    <tr>\n",
              "      <th>1</th>\n",
              "      <td>2006-06-27</td>\n",
              "      <td>6</td>\n",
              "      <td>27</td>\n",
              "      <td>2006</td>\n",
              "    </tr>\n",
              "    <tr>\n",
              "      <th>2</th>\n",
              "      <td>2006-06-27</td>\n",
              "      <td>6</td>\n",
              "      <td>27</td>\n",
              "      <td>2006</td>\n",
              "    </tr>\n",
              "  </tbody>\n",
              "</table>\n",
              "</div>\n",
              "    <div class=\"colab-df-buttons\">\n",
              "\n",
              "  <div class=\"colab-df-container\">\n",
              "    <button class=\"colab-df-convert\" onclick=\"convertToInteractive('df-f447bcc6-85fd-471b-8485-3588e86cb0e5')\"\n",
              "            title=\"Convert this dataframe to an interactive table.\"\n",
              "            style=\"display:none;\">\n",
              "\n",
              "  <svg xmlns=\"http://www.w3.org/2000/svg\" height=\"24px\" viewBox=\"0 -960 960 960\">\n",
              "    <path d=\"M120-120v-720h720v720H120Zm60-500h600v-160H180v160Zm220 220h160v-160H400v160Zm0 220h160v-160H400v160ZM180-400h160v-160H180v160Zm440 0h160v-160H620v160ZM180-180h160v-160H180v160Zm440 0h160v-160H620v160Z\"/>\n",
              "  </svg>\n",
              "    </button>\n",
              "\n",
              "  <style>\n",
              "    .colab-df-container {\n",
              "      display:flex;\n",
              "      gap: 12px;\n",
              "    }\n",
              "\n",
              "    .colab-df-convert {\n",
              "      background-color: #E8F0FE;\n",
              "      border: none;\n",
              "      border-radius: 50%;\n",
              "      cursor: pointer;\n",
              "      display: none;\n",
              "      fill: #1967D2;\n",
              "      height: 32px;\n",
              "      padding: 0 0 0 0;\n",
              "      width: 32px;\n",
              "    }\n",
              "\n",
              "    .colab-df-convert:hover {\n",
              "      background-color: #E2EBFA;\n",
              "      box-shadow: 0px 1px 2px rgba(60, 64, 67, 0.3), 0px 1px 3px 1px rgba(60, 64, 67, 0.15);\n",
              "      fill: #174EA6;\n",
              "    }\n",
              "\n",
              "    .colab-df-buttons div {\n",
              "      margin-bottom: 4px;\n",
              "    }\n",
              "\n",
              "    [theme=dark] .colab-df-convert {\n",
              "      background-color: #3B4455;\n",
              "      fill: #D2E3FC;\n",
              "    }\n",
              "\n",
              "    [theme=dark] .colab-df-convert:hover {\n",
              "      background-color: #434B5C;\n",
              "      box-shadow: 0px 1px 3px 1px rgba(0, 0, 0, 0.15);\n",
              "      filter: drop-shadow(0px 1px 2px rgba(0, 0, 0, 0.3));\n",
              "      fill: #FFFFFF;\n",
              "    }\n",
              "  </style>\n",
              "\n",
              "    <script>\n",
              "      const buttonEl =\n",
              "        document.querySelector('#df-f447bcc6-85fd-471b-8485-3588e86cb0e5 button.colab-df-convert');\n",
              "      buttonEl.style.display =\n",
              "        google.colab.kernel.accessAllowed ? 'block' : 'none';\n",
              "\n",
              "      async function convertToInteractive(key) {\n",
              "        const element = document.querySelector('#df-f447bcc6-85fd-471b-8485-3588e86cb0e5');\n",
              "        const dataTable =\n",
              "          await google.colab.kernel.invokeFunction('convertToInteractive',\n",
              "                                                    [key], {});\n",
              "        if (!dataTable) return;\n",
              "\n",
              "        const docLinkHtml = 'Like what you see? Visit the ' +\n",
              "          '<a target=\"_blank\" href=https://colab.research.google.com/notebooks/data_table.ipynb>data table notebook</a>'\n",
              "          + ' to learn more about interactive tables.';\n",
              "        element.innerHTML = '';\n",
              "        dataTable['output_type'] = 'display_data';\n",
              "        await google.colab.output.renderOutput(dataTable, element);\n",
              "        const docLink = document.createElement('div');\n",
              "        docLink.innerHTML = docLinkHtml;\n",
              "        element.appendChild(docLink);\n",
              "      }\n",
              "    </script>\n",
              "  </div>\n",
              "\n",
              "\n",
              "<div id=\"df-02e89d42-f851-4ce6-ab4b-a94461243143\">\n",
              "  <button class=\"colab-df-quickchart\" onclick=\"quickchart('df-02e89d42-f851-4ce6-ab4b-a94461243143')\"\n",
              "            title=\"Suggest charts.\"\n",
              "            style=\"display:none;\">\n",
              "\n",
              "<svg xmlns=\"http://www.w3.org/2000/svg\" height=\"24px\"viewBox=\"0 0 24 24\"\n",
              "     width=\"24px\">\n",
              "    <g>\n",
              "        <path d=\"M19 3H5c-1.1 0-2 .9-2 2v14c0 1.1.9 2 2 2h14c1.1 0 2-.9 2-2V5c0-1.1-.9-2-2-2zM9 17H7v-7h2v7zm4 0h-2V7h2v10zm4 0h-2v-4h2v4z\"/>\n",
              "    </g>\n",
              "</svg>\n",
              "  </button>\n",
              "\n",
              "<style>\n",
              "  .colab-df-quickchart {\n",
              "    background-color: #E8F0FE;\n",
              "    border: none;\n",
              "    border-radius: 50%;\n",
              "    cursor: pointer;\n",
              "    display: none;\n",
              "    fill: #1967D2;\n",
              "    height: 32px;\n",
              "    padding: 0 0 0 0;\n",
              "    width: 32px;\n",
              "  }\n",
              "\n",
              "  .colab-df-quickchart:hover {\n",
              "    background-color: #E2EBFA;\n",
              "    box-shadow: 0px 1px 2px rgba(60, 64, 67, 0.3), 0px 1px 3px 1px rgba(60, 64, 67, 0.15);\n",
              "    fill: #174EA6;\n",
              "  }\n",
              "\n",
              "  [theme=dark] .colab-df-quickchart {\n",
              "    background-color: #3B4455;\n",
              "    fill: #D2E3FC;\n",
              "  }\n",
              "\n",
              "  [theme=dark] .colab-df-quickchart:hover {\n",
              "    background-color: #434B5C;\n",
              "    box-shadow: 0px 1px 3px 1px rgba(0, 0, 0, 0.15);\n",
              "    filter: drop-shadow(0px 1px 2px rgba(0, 0, 0, 0.3));\n",
              "    fill: #FFFFFF;\n",
              "  }\n",
              "</style>\n",
              "\n",
              "  <script>\n",
              "    async function quickchart(key) {\n",
              "      const charts = await google.colab.kernel.invokeFunction(\n",
              "          'suggestCharts', [key], {});\n",
              "    }\n",
              "    (() => {\n",
              "      let quickchartButtonEl =\n",
              "        document.querySelector('#df-02e89d42-f851-4ce6-ab4b-a94461243143 button');\n",
              "      quickchartButtonEl.style.display =\n",
              "        google.colab.kernel.accessAllowed ? 'block' : 'none';\n",
              "    })();\n",
              "  </script>\n",
              "</div>\n",
              "    </div>\n",
              "  </div>\n"
            ]
          },
          "metadata": {},
          "execution_count": 132
        }
      ]
    },
    {
      "cell_type": "code",
      "source": [
        "print('Total data points in our data:',df.shape)\n",
        "df.head(1)"
      ],
      "metadata": {
        "colab": {
          "base_uri": "https://localhost:8080/",
          "height": 217
        },
        "id": "WpJNvdd0oqg1",
        "outputId": "8ecc95a2-4f32-4aa1-f799-a4dfbb6b6e7b"
      },
      "execution_count": null,
      "outputs": [
        {
          "output_type": "stream",
          "name": "stdout",
          "text": [
            "Total data points in our data: (4005, 22)\n"
          ]
        },
        {
          "output_type": "execute_result",
          "data": {
            "text/plain": [
              "   talk_id                        title speaker_1    all_speakers  \\\n",
              "0        1  Averting the climate crisis   Al Gore  {0: 'Al Gore'}   \n",
              "\n",
              "                 occupations  \\\n",
              "0  {0: ['climate advocate']}   \n",
              "\n",
              "                                      about_speakers    views recorded_date  \\\n",
              "0  {0: 'Nobel Laureate Al Gore focused the world’...  3523392    2006-02-25   \n",
              "\n",
              "  published_date    event  ... comments duration  \\\n",
              "0     2006-06-27  TED2006  ...    272.0      977   \n",
              "\n",
              "                                              topics  \\\n",
              "0  ['alternative energy', 'cars', 'climate change...   \n",
              "\n",
              "                                       related_talks  \\\n",
              "0  {243: 'New thinking on the climate crisis', 54...   \n",
              "\n",
              "                                                 url  \\\n",
              "0  https://www.ted.com/talks/al_gore_averting_the...   \n",
              "\n",
              "                                         description  \\\n",
              "0  With the same humor and humanity he exuded in ...   \n",
              "\n",
              "                                          transcript published_year  \\\n",
              "0  Thank you so much, Chris. And it's truly a gre...           2006   \n",
              "\n",
              "  published_month  published_day  \n",
              "0               6             27  \n",
              "\n",
              "[1 rows x 22 columns]"
            ],
            "text/html": [
              "\n",
              "  <div id=\"df-87f7c64d-119e-4891-a87b-137c0a57d805\" class=\"colab-df-container\">\n",
              "    <div>\n",
              "<style scoped>\n",
              "    .dataframe tbody tr th:only-of-type {\n",
              "        vertical-align: middle;\n",
              "    }\n",
              "\n",
              "    .dataframe tbody tr th {\n",
              "        vertical-align: top;\n",
              "    }\n",
              "\n",
              "    .dataframe thead th {\n",
              "        text-align: right;\n",
              "    }\n",
              "</style>\n",
              "<table border=\"1\" class=\"dataframe\">\n",
              "  <thead>\n",
              "    <tr style=\"text-align: right;\">\n",
              "      <th></th>\n",
              "      <th>talk_id</th>\n",
              "      <th>title</th>\n",
              "      <th>speaker_1</th>\n",
              "      <th>all_speakers</th>\n",
              "      <th>occupations</th>\n",
              "      <th>about_speakers</th>\n",
              "      <th>views</th>\n",
              "      <th>recorded_date</th>\n",
              "      <th>published_date</th>\n",
              "      <th>event</th>\n",
              "      <th>...</th>\n",
              "      <th>comments</th>\n",
              "      <th>duration</th>\n",
              "      <th>topics</th>\n",
              "      <th>related_talks</th>\n",
              "      <th>url</th>\n",
              "      <th>description</th>\n",
              "      <th>transcript</th>\n",
              "      <th>published_year</th>\n",
              "      <th>published_month</th>\n",
              "      <th>published_day</th>\n",
              "    </tr>\n",
              "  </thead>\n",
              "  <tbody>\n",
              "    <tr>\n",
              "      <th>0</th>\n",
              "      <td>1</td>\n",
              "      <td>Averting the climate crisis</td>\n",
              "      <td>Al Gore</td>\n",
              "      <td>{0: 'Al Gore'}</td>\n",
              "      <td>{0: ['climate advocate']}</td>\n",
              "      <td>{0: 'Nobel Laureate Al Gore focused the world’...</td>\n",
              "      <td>3523392</td>\n",
              "      <td>2006-02-25</td>\n",
              "      <td>2006-06-27</td>\n",
              "      <td>TED2006</td>\n",
              "      <td>...</td>\n",
              "      <td>272.0</td>\n",
              "      <td>977</td>\n",
              "      <td>['alternative energy', 'cars', 'climate change...</td>\n",
              "      <td>{243: 'New thinking on the climate crisis', 54...</td>\n",
              "      <td>https://www.ted.com/talks/al_gore_averting_the...</td>\n",
              "      <td>With the same humor and humanity he exuded in ...</td>\n",
              "      <td>Thank you so much, Chris. And it's truly a gre...</td>\n",
              "      <td>2006</td>\n",
              "      <td>6</td>\n",
              "      <td>27</td>\n",
              "    </tr>\n",
              "  </tbody>\n",
              "</table>\n",
              "<p>1 rows × 22 columns</p>\n",
              "</div>\n",
              "    <div class=\"colab-df-buttons\">\n",
              "\n",
              "  <div class=\"colab-df-container\">\n",
              "    <button class=\"colab-df-convert\" onclick=\"convertToInteractive('df-87f7c64d-119e-4891-a87b-137c0a57d805')\"\n",
              "            title=\"Convert this dataframe to an interactive table.\"\n",
              "            style=\"display:none;\">\n",
              "\n",
              "  <svg xmlns=\"http://www.w3.org/2000/svg\" height=\"24px\" viewBox=\"0 -960 960 960\">\n",
              "    <path d=\"M120-120v-720h720v720H120Zm60-500h600v-160H180v160Zm220 220h160v-160H400v160Zm0 220h160v-160H400v160ZM180-400h160v-160H180v160Zm440 0h160v-160H620v160ZM180-180h160v-160H180v160Zm440 0h160v-160H620v160Z\"/>\n",
              "  </svg>\n",
              "    </button>\n",
              "\n",
              "  <style>\n",
              "    .colab-df-container {\n",
              "      display:flex;\n",
              "      gap: 12px;\n",
              "    }\n",
              "\n",
              "    .colab-df-convert {\n",
              "      background-color: #E8F0FE;\n",
              "      border: none;\n",
              "      border-radius: 50%;\n",
              "      cursor: pointer;\n",
              "      display: none;\n",
              "      fill: #1967D2;\n",
              "      height: 32px;\n",
              "      padding: 0 0 0 0;\n",
              "      width: 32px;\n",
              "    }\n",
              "\n",
              "    .colab-df-convert:hover {\n",
              "      background-color: #E2EBFA;\n",
              "      box-shadow: 0px 1px 2px rgba(60, 64, 67, 0.3), 0px 1px 3px 1px rgba(60, 64, 67, 0.15);\n",
              "      fill: #174EA6;\n",
              "    }\n",
              "\n",
              "    .colab-df-buttons div {\n",
              "      margin-bottom: 4px;\n",
              "    }\n",
              "\n",
              "    [theme=dark] .colab-df-convert {\n",
              "      background-color: #3B4455;\n",
              "      fill: #D2E3FC;\n",
              "    }\n",
              "\n",
              "    [theme=dark] .colab-df-convert:hover {\n",
              "      background-color: #434B5C;\n",
              "      box-shadow: 0px 1px 3px 1px rgba(0, 0, 0, 0.15);\n",
              "      filter: drop-shadow(0px 1px 2px rgba(0, 0, 0, 0.3));\n",
              "      fill: #FFFFFF;\n",
              "    }\n",
              "  </style>\n",
              "\n",
              "    <script>\n",
              "      const buttonEl =\n",
              "        document.querySelector('#df-87f7c64d-119e-4891-a87b-137c0a57d805 button.colab-df-convert');\n",
              "      buttonEl.style.display =\n",
              "        google.colab.kernel.accessAllowed ? 'block' : 'none';\n",
              "\n",
              "      async function convertToInteractive(key) {\n",
              "        const element = document.querySelector('#df-87f7c64d-119e-4891-a87b-137c0a57d805');\n",
              "        const dataTable =\n",
              "          await google.colab.kernel.invokeFunction('convertToInteractive',\n",
              "                                                    [key], {});\n",
              "        if (!dataTable) return;\n",
              "\n",
              "        const docLinkHtml = 'Like what you see? Visit the ' +\n",
              "          '<a target=\"_blank\" href=https://colab.research.google.com/notebooks/data_table.ipynb>data table notebook</a>'\n",
              "          + ' to learn more about interactive tables.';\n",
              "        element.innerHTML = '';\n",
              "        dataTable['output_type'] = 'display_data';\n",
              "        await google.colab.output.renderOutput(dataTable, element);\n",
              "        const docLink = document.createElement('div');\n",
              "        docLink.innerHTML = docLinkHtml;\n",
              "        element.appendChild(docLink);\n",
              "      }\n",
              "    </script>\n",
              "  </div>\n",
              "\n",
              "\n",
              "<div id=\"df-83ece59d-449c-4082-a432-7db9ac1d8759\">\n",
              "  <button class=\"colab-df-quickchart\" onclick=\"quickchart('df-83ece59d-449c-4082-a432-7db9ac1d8759')\"\n",
              "            title=\"Suggest charts.\"\n",
              "            style=\"display:none;\">\n",
              "\n",
              "<svg xmlns=\"http://www.w3.org/2000/svg\" height=\"24px\"viewBox=\"0 0 24 24\"\n",
              "     width=\"24px\">\n",
              "    <g>\n",
              "        <path d=\"M19 3H5c-1.1 0-2 .9-2 2v14c0 1.1.9 2 2 2h14c1.1 0 2-.9 2-2V5c0-1.1-.9-2-2-2zM9 17H7v-7h2v7zm4 0h-2V7h2v10zm4 0h-2v-4h2v4z\"/>\n",
              "    </g>\n",
              "</svg>\n",
              "  </button>\n",
              "\n",
              "<style>\n",
              "  .colab-df-quickchart {\n",
              "    background-color: #E8F0FE;\n",
              "    border: none;\n",
              "    border-radius: 50%;\n",
              "    cursor: pointer;\n",
              "    display: none;\n",
              "    fill: #1967D2;\n",
              "    height: 32px;\n",
              "    padding: 0 0 0 0;\n",
              "    width: 32px;\n",
              "  }\n",
              "\n",
              "  .colab-df-quickchart:hover {\n",
              "    background-color: #E2EBFA;\n",
              "    box-shadow: 0px 1px 2px rgba(60, 64, 67, 0.3), 0px 1px 3px 1px rgba(60, 64, 67, 0.15);\n",
              "    fill: #174EA6;\n",
              "  }\n",
              "\n",
              "  [theme=dark] .colab-df-quickchart {\n",
              "    background-color: #3B4455;\n",
              "    fill: #D2E3FC;\n",
              "  }\n",
              "\n",
              "  [theme=dark] .colab-df-quickchart:hover {\n",
              "    background-color: #434B5C;\n",
              "    box-shadow: 0px 1px 3px 1px rgba(0, 0, 0, 0.15);\n",
              "    filter: drop-shadow(0px 1px 2px rgba(0, 0, 0, 0.3));\n",
              "    fill: #FFFFFF;\n",
              "  }\n",
              "</style>\n",
              "\n",
              "  <script>\n",
              "    async function quickchart(key) {\n",
              "      const charts = await google.colab.kernel.invokeFunction(\n",
              "          'suggestCharts', [key], {});\n",
              "    }\n",
              "    (() => {\n",
              "      let quickchartButtonEl =\n",
              "        document.querySelector('#df-83ece59d-449c-4082-a432-7db9ac1d8759 button');\n",
              "      quickchartButtonEl.style.display =\n",
              "        google.colab.kernel.accessAllowed ? 'block' : 'none';\n",
              "    })();\n",
              "  </script>\n",
              "</div>\n",
              "    </div>\n",
              "  </div>\n"
            ]
          },
          "metadata": {},
          "execution_count": 133
        }
      ]
    },
    {
      "cell_type": "markdown",
      "source": [
        "<h3> 3.1 Check for Missing values </h3>"
      ],
      "metadata": {
        "id": "L0Rd8EC0rAfq"
      }
    },
    {
      "cell_type": "code",
      "source": [
        "#Let us capture all the nan values\n",
        "features_nan = [feature for feature in df.columns if df[feature].isnull().sum()>=1]\n",
        "print(\"*\"*50)\n",
        "for feature in features_nan:\n",
        "  print(\"{}: {}% missing values\".format(feature,np.round(df[feature].isnull().mean(),4)*100))\n",
        "print(\"*\"*50)\n",
        "print(\"Data type of those missing nan value features:\")\n",
        "print(df[features_nan].dtypes)"
      ],
      "metadata": {
        "colab": {
          "base_uri": "https://localhost:8080/"
        },
        "id": "BPsHm3d9o1tu",
        "outputId": "23876eba-a46f-4571-8d3f-2f24b091b638"
      },
      "execution_count": null,
      "outputs": [
        {
          "output_type": "stream",
          "name": "stdout",
          "text": [
            "**************************************************\n",
            "all_speakers: 0.1% missing values\n",
            "occupations: 13.03% missing values\n",
            "about_speakers: 12.559999999999999% missing values\n",
            "recorded_date: 0.02% missing values\n",
            "comments: 16.35% missing values\n",
            "**************************************************\n",
            "Data type of those missing nan value features:\n",
            "all_speakers       object\n",
            "occupations        object\n",
            "about_speakers     object\n",
            "recorded_date      object\n",
            "comments          float64\n",
            "dtype: object\n"
          ]
        }
      ]
    },
    {
      "cell_type": "markdown",
      "source": [
        "#### .Since there are few missing values, we need to find the relationship between missing values and Views"
      ],
      "metadata": {
        "id": "RjtbiJgNuWZ5"
      }
    },
    {
      "cell_type": "code",
      "source": [
        "for feature in features_nan:\n",
        "  data = df.copy()\n",
        "\n",
        "  data[feature] = np.where(data[feature].isnull(),1,0)\n",
        "\n",
        "  data.groupby(feature)['views'].median().plot.bar()\n",
        "  plt.title(feature)\n",
        "  plt.show()"
      ],
      "metadata": {
        "colab": {
          "base_uri": "https://localhost:8080/",
          "height": 1000
        },
        "id": "mIadf4fUrKXz",
        "outputId": "37e60980-56c8-4178-a698-4ef162d69d82"
      },
      "execution_count": null,
      "outputs": [
        {
          "output_type": "display_data",
          "data": {
            "text/plain": [
              "<Figure size 640x480 with 1 Axes>"
            ],
            "image/png": "[encoded data removed]"
          },
          "metadata": {}
        },
        {
          "output_type": "display_data",
          "data": {
            "text/plain": [
              "<Figure size 640x480 with 1 Axes>"
            ],
            "image/png": "[encoded data removed]"
          },
          "metadata": {}
        },
        {
          "output_type": "display_data",
          "data": {
            "text/plain": [
              "<Figure size 640x480 with 1 Axes>"
            ],
            "image/png": "[encoded data removed]"
          },
          "metadata": {}
        },
        {
          "output_type": "display_data",
          "data": {
            "text/plain": [
              "<Figure size 640x480 with 1 Axes>"
            ],
            "image/png": "[encoded data removed]"
          },
          "metadata": {}
        },
        {
          "output_type": "display_data",
          "data": {
            "text/plain": [
              "<Figure size 640x480 with 1 Axes>"
            ],
            "image/png": "[encoded data removed]"
          },
          "metadata": {}
        }
      ]
    },
    {
      "cell_type": "code",
      "source": [
        "for feature in features_nan:\n",
        "  data1 = df.copy()\n",
        "\n",
        "  data1[feature] = np.where(data1[feature].isnull(),1,0)\n",
        "\n",
        "  print(data1.groupby(feature)['views'].median())"
      ],
      "metadata": {
        "colab": {
          "base_uri": "https://localhost:8080/"
        },
        "id": "3WlEC5lRwZAp",
        "outputId": "84266dda-8cda-4d38-81bf-589de27080ed"
      },
      "execution_count": null,
      "outputs": [
        {
          "output_type": "stream",
          "name": "stdout",
          "text": [
            "all_speakers\n",
            "0    1375679.0\n",
            "1     294402.0\n",
            "Name: views, dtype: float64\n",
            "occupations\n",
            "0    1391746.0\n",
            "1    1185482.5\n",
            "Name: views, dtype: float64\n",
            "about_speakers\n",
            "0    1388598.0\n",
            "1    1196869.0\n",
            "Name: views, dtype: float64\n",
            "recorded_date\n",
            "0    1375593.5\n",
            "1    1276272.0\n",
            "Name: views, dtype: float64\n",
            "comments\n",
            "0    1416569.0\n",
            "1    1005768.0\n",
            "Name: views, dtype: float64\n"
          ]
        }
      ]
    },
    {
      "cell_type": "markdown",
      "source": [
        "Observation: Except all_speaker variable, rest other 3 null missing value features are having strong relationship with Views"
      ],
      "metadata": {
        "id": "cNz8vVPZ2vZf"
      }
    },
    {
      "cell_type": "markdown",
      "source": [
        "#### Lets check the missing variable w.r.to total views"
      ],
      "metadata": {
        "id": "DXUIu1pT4txv"
      }
    },
    {
      "cell_type": "code",
      "source": [
        "all_speaker_null = df['views'].where(df['all_speakers'].isna())\n",
        "all_speaker_notnull = df['views'].where(df['all_speakers'].notnull())\n",
        "\n",
        "print('Total views for all_speaker_null   :',all_speaker_null.sum().astype(int))\n",
        "print('Total views for all_speaker_notnull:',all_speaker_notnull.sum().astype(int))\n",
        "\n",
        "print(\"*\"*55)\n",
        "\n",
        "occupations_null = df['views'].where(df['occupations'].isna())\n",
        "occupations_notnull = df['views'].where(df['occupations'].notnull())\n",
        "\n",
        "print('Total views for occupations_null   :',occupations_null.sum().astype(int))\n",
        "print('Total views for occupations_notnull:',occupations_notnull.sum().astype(int))\n",
        "\n",
        "print(\"*\"*55)\n",
        "\n",
        "about_speakers_null = df['views'].where(df['about_speakers'].isna())\n",
        "about_speakers_notnull = df['views'].where(df['about_speakers'].notnull())\n",
        "\n",
        "print('Total views for about_speakers_null   :',about_speakers_null.sum().astype(int))\n",
        "print('Total views for about_speakers_notnull:',about_speakers_notnull.sum().astype(int))\n",
        "\n",
        "print(\"*\"*55)\n",
        "\n",
        "comments_null = df['views'].where(df['comments'].isna())\n",
        "comments_notnull = df['views'].where(df['comments'].notnull())\n",
        "\n",
        "print('Total views for comments_null   :',comments_null.sum().astype(int))\n",
        "print('Total views for comments_notnull:',comments_notnull.sum().astype(int))\n"
      ],
      "metadata": {
        "colab": {
          "base_uri": "https://localhost:8080/"
        },
        "id": "M3moe_om0tYm",
        "outputId": "b0ccc48e-f7fa-43ad-a81a-4f0f3c5a8ce4"
      },
      "execution_count": null,
      "outputs": [
        {
          "output_type": "stream",
          "name": "stdout",
          "text": [
            "Total views for all_speaker_null   : 4281484\n",
            "Total views for all_speaker_notnull: 8598480839\n",
            "*******************************************************\n",
            "Total views for occupations_null   : 1082881602\n",
            "Total views for occupations_notnull: 7519880721\n",
            "*******************************************************\n",
            "Total views for about_speakers_null   : 1030108712\n",
            "Total views for about_speakers_notnull: 7572653611\n",
            "*******************************************************\n",
            "Total views for comments_null   : 1282083350\n",
            "Total views for comments_notnull: 7320678973\n"
          ]
        }
      ]
    },
    {
      "cell_type": "markdown",
      "source": [
        "Out of this 4 features Comment feature is Continous rest are Categorical"
      ],
      "metadata": {
        "id": "jTiQ1L3W_Is4"
      }
    },
    {
      "cell_type": "markdown",
      "source": [
        "<h4> 3.2.1 So is there any way to handle these missing values?</h4>\n",
        "\n",
        "Techniques to handle missing values:\n",
        "\n",
        "1. Mean/Median/Mode imputation.\n",
        "2. Capture NaN values and create new feature\n",
        "3. End of distribution imputataion\n",
        "4. Arbitrary imputation\n",
        "5. Frequent category imputation"
      ],
      "metadata": {
        "id": "rH4zBHBE6AyQ"
      }
    },
    {
      "cell_type": "markdown",
      "source": [
        "#### 1. Mean/ Median /Mode imputation in Comment variable\n",
        "\n",
        "Mean/median imputation has the assumption that the data are missing completely at random(MCAR). We solve this by replacing the NAN with the most frequent occurance of the variables\n"
      ],
      "metadata": {
        "id": "bbyuMQbM9ECJ"
      }
    },
    {
      "cell_type": "code",
      "source": [
        "df[features_nan].isnull().mean()"
      ],
      "metadata": {
        "colab": {
          "base_uri": "https://localhost:8080/"
        },
        "id": "TI_6LU8y9dGU",
        "outputId": "7938cf83-9cea-4ec8-83d4-5ec617d8984a"
      },
      "execution_count": null,
      "outputs": [
        {
          "output_type": "execute_result",
          "data": {
            "text/plain": [
              "all_speakers      0.000999\n",
              "occupations       0.130337\n",
              "about_speakers    0.125593\n",
              "recorded_date     0.000250\n",
              "comments          0.163546\n",
              "dtype: float64"
            ]
          },
          "metadata": {},
          "execution_count": 138
        }
      ]
    },
    {
      "cell_type": "code",
      "source": [
        "def impute_nan(df,variable,comments):\n",
        "    df[variable+\"_mean\"]=df[variable].fillna(comments)"
      ],
      "metadata": {
        "id": "BDCWsoh79jS8"
      },
      "execution_count": null,
      "outputs": []
    },
    {
      "cell_type": "code",
      "source": [
        "mean_comments=df.comments.mean()\n",
        "mean_comments"
      ],
      "metadata": {
        "colab": {
          "base_uri": "https://localhost:8080/"
        },
        "id": "8d7TPffR98VA",
        "outputId": "805b2867-734d-4d56-f7f5-9ca91b363b37"
      },
      "execution_count": null,
      "outputs": [
        {
          "output_type": "execute_result",
          "data": {
            "text/plain": [
              "161.99701492537312"
            ]
          },
          "metadata": {},
          "execution_count": 140
        }
      ]
    },
    {
      "cell_type": "code",
      "source": [
        "impute_nan(df,'comments',mean_comments)\n",
        "df[['comments','comments_mean']].head(2)"
      ],
      "metadata": {
        "colab": {
          "base_uri": "https://localhost:8080/",
          "height": 112
        },
        "id": "7vVikZ1t-FSy",
        "outputId": "c2e58227-70ec-4739-8bec-ee977fc8485b"
      },
      "execution_count": null,
      "outputs": [
        {
          "output_type": "execute_result",
          "data": {
            "text/plain": [
              "   comments  comments_mean\n",
              "0     272.0          272.0\n",
              "1     628.0          628.0"
            ],
            "text/html": [
              "\n",
              "  <div id=\"df-3a49a5a6-3068-4fd4-abc3-58cbaba93107\" class=\"colab-df-container\">\n",
              "    <div>\n",
              "<style scoped>\n",
              "    .dataframe tbody tr th:only-of-type {\n",
              "        vertical-align: middle;\n",
              "    }\n",
              "\n",
              "    .dataframe tbody tr th {\n",
              "        vertical-align: top;\n",
              "    }\n",
              "\n",
              "    .dataframe thead th {\n",
              "        text-align: right;\n",
              "    }\n",
              "</style>\n",
              "<table border=\"1\" class=\"dataframe\">\n",
              "  <thead>\n",
              "    <tr style=\"text-align: right;\">\n",
              "      <th></th>\n",
              "      <th>comments</th>\n",
              "      <th>comments_mean</th>\n",
              "    </tr>\n",
              "  </thead>\n",
              "  <tbody>\n",
              "    <tr>\n",
              "      <th>0</th>\n",
              "      <td>272.0</td>\n",
              "      <td>272.0</td>\n",
              "    </tr>\n",
              "    <tr>\n",
              "      <th>1</th>\n",
              "      <td>628.0</td>\n",
              "      <td>628.0</td>\n",
              "    </tr>\n",
              "  </tbody>\n",
              "</table>\n",
              "</div>\n",
              "    <div class=\"colab-df-buttons\">\n",
              "\n",
              "  <div class=\"colab-df-container\">\n",
              "    <button class=\"colab-df-convert\" onclick=\"convertToInteractive('df-3a49a5a6-3068-4fd4-abc3-58cbaba93107')\"\n",
              "            title=\"Convert this dataframe to an interactive table.\"\n",
              "            style=\"display:none;\">\n",
              "\n",
              "  <svg xmlns=\"http://www.w3.org/2000/svg\" height=\"24px\" viewBox=\"0 -960 960 960\">\n",
              "    <path d=\"M120-120v-720h720v720H120Zm60-500h600v-160H180v160Zm220 220h160v-160H400v160Zm0 220h160v-160H400v160ZM180-400h160v-160H180v160Zm440 0h160v-160H620v160ZM180-180h160v-160H180v160Zm440 0h160v-160H620v160Z\"/>\n",
              "  </svg>\n",
              "    </button>\n",
              "\n",
              "  <style>\n",
              "    .colab-df-container {\n",
              "      display:flex;\n",
              "      gap: 12px;\n",
              "    }\n",
              "\n",
              "    .colab-df-convert {\n",
              "      background-color: #E8F0FE;\n",
              "      border: none;\n",
              "      border-radius: 50%;\n",
              "      cursor: pointer;\n",
              "      display: none;\n",
              "      fill: #1967D2;\n",
              "      height: 32px;\n",
              "      padding: 0 0 0 0;\n",
              "      width: 32px;\n",
              "    }\n",
              "\n",
              "    .colab-df-convert:hover {\n",
              "      background-color: #E2EBFA;\n",
              "      box-shadow: 0px 1px 2px rgba(60, 64, 67, 0.3), 0px 1px 3px 1px rgba(60, 64, 67, 0.15);\n",
              "      fill: #174EA6;\n",
              "    }\n",
              "\n",
              "    .colab-df-buttons div {\n",
              "      margin-bottom: 4px;\n",
              "    }\n",
              "\n",
              "    [theme=dark] .colab-df-convert {\n",
              "      background-color: #3B4455;\n",
              "      fill: #D2E3FC;\n",
              "    }\n",
              "\n",
              "    [theme=dark] .colab-df-convert:hover {\n",
              "      background-color: #434B5C;\n",
              "      box-shadow: 0px 1px 3px 1px rgba(0, 0, 0, 0.15);\n",
              "      filter: drop-shadow(0px 1px 2px rgba(0, 0, 0, 0.3));\n",
              "      fill: #FFFFFF;\n",
              "    }\n",
              "  </style>\n",
              "\n",
              "    <script>\n",
              "      const buttonEl =\n",
              "        document.querySelector('#df-3a49a5a6-3068-4fd4-abc3-58cbaba93107 button.colab-df-convert');\n",
              "      buttonEl.style.display =\n",
              "        google.colab.kernel.accessAllowed ? 'block' : 'none';\n",
              "\n",
              "      async function convertToInteractive(key) {\n",
              "        const element = document.querySelector('#df-3a49a5a6-3068-4fd4-abc3-58cbaba93107');\n",
              "        const dataTable =\n",
              "          await google.colab.kernel.invokeFunction('convertToInteractive',\n",
              "                                                    [key], {});\n",
              "        if (!dataTable) return;\n",
              "\n",
              "        const docLinkHtml = 'Like what you see? Visit the ' +\n",
              "          '<a target=\"_blank\" href=https://colab.research.google.com/notebooks/data_table.ipynb>data table notebook</a>'\n",
              "          + ' to learn more about interactive tables.';\n",
              "        element.innerHTML = '';\n",
              "        dataTable['output_type'] = 'display_data';\n",
              "        await google.colab.output.renderOutput(dataTable, element);\n",
              "        const docLink = document.createElement('div');\n",
              "        docLink.innerHTML = docLinkHtml;\n",
              "        element.appendChild(docLink);\n",
              "      }\n",
              "    </script>\n",
              "  </div>\n",
              "\n",
              "\n",
              "<div id=\"df-7c880464-ded0-4ca9-8b75-534ef6abcaa2\">\n",
              "  <button class=\"colab-df-quickchart\" onclick=\"quickchart('df-7c880464-ded0-4ca9-8b75-534ef6abcaa2')\"\n",
              "            title=\"Suggest charts.\"\n",
              "            style=\"display:none;\">\n",
              "\n",
              "<svg xmlns=\"http://www.w3.org/2000/svg\" height=\"24px\"viewBox=\"0 0 24 24\"\n",
              "     width=\"24px\">\n",
              "    <g>\n",
              "        <path d=\"M19 3H5c-1.1 0-2 .9-2 2v14c0 1.1.9 2 2 2h14c1.1 0 2-.9 2-2V5c0-1.1-.9-2-2-2zM9 17H7v-7h2v7zm4 0h-2V7h2v10zm4 0h-2v-4h2v4z\"/>\n",
              "    </g>\n",
              "</svg>\n",
              "  </button>\n",
              "\n",
              "<style>\n",
              "  .colab-df-quickchart {\n",
              "    background-color: #E8F0FE;\n",
              "    border: none;\n",
              "    border-radius: 50%;\n",
              "    cursor: pointer;\n",
              "    display: none;\n",
              "    fill: #1967D2;\n",
              "    height: 32px;\n",
              "    padding: 0 0 0 0;\n",
              "    width: 32px;\n",
              "  }\n",
              "\n",
              "  .colab-df-quickchart:hover {\n",
              "    background-color: #E2EBFA;\n",
              "    box-shadow: 0px 1px 2px rgba(60, 64, 67, 0.3), 0px 1px 3px 1px rgba(60, 64, 67, 0.15);\n",
              "    fill: #174EA6;\n",
              "  }\n",
              "\n",
              "  [theme=dark] .colab-df-quickchart {\n",
              "    background-color: #3B4455;\n",
              "    fill: #D2E3FC;\n",
              "  }\n",
              "\n",
              "  [theme=dark] .colab-df-quickchart:hover {\n",
              "    background-color: #434B5C;\n",
              "    box-shadow: 0px 1px 3px 1px rgba(0, 0, 0, 0.15);\n",
              "    filter: drop-shadow(0px 1px 2px rgba(0, 0, 0, 0.3));\n",
              "    fill: #FFFFFF;\n",
              "  }\n",
              "</style>\n",
              "\n",
              "  <script>\n",
              "    async function quickchart(key) {\n",
              "      const charts = await google.colab.kernel.invokeFunction(\n",
              "          'suggestCharts', [key], {});\n",
              "    }\n",
              "    (() => {\n",
              "      let quickchartButtonEl =\n",
              "        document.querySelector('#df-7c880464-ded0-4ca9-8b75-534ef6abcaa2 button');\n",
              "      quickchartButtonEl.style.display =\n",
              "        google.colab.kernel.accessAllowed ? 'block' : 'none';\n",
              "    })();\n",
              "  </script>\n",
              "</div>\n",
              "    </div>\n",
              "  </div>\n"
            ]
          },
          "metadata": {},
          "execution_count": 141
        }
      ]
    },
    {
      "cell_type": "code",
      "source": [
        "# Std deviation\n",
        "print(df['comments'].std())\n",
        "print(df['comments_mean'].std())"
      ],
      "metadata": {
        "colab": {
          "base_uri": "https://localhost:8080/"
        },
        "id": "9S5LwT-9AGpb",
        "outputId": "0948d783-eeba-4054-c2ae-282f6e849d36"
      },
      "execution_count": null,
      "outputs": [
        {
          "output_type": "stream",
          "name": "stdout",
          "text": [
            "268.8389221643945\n",
            "245.86838294259496\n"
          ]
        }
      ]
    },
    {
      "cell_type": "code",
      "source": [
        "fig = plt.figure()\n",
        "ax = fig.add_subplot(111)\n",
        "df['comments'].plot(kind='kde', ax=ax)\n",
        "df.comments_mean.plot(kind='kde', ax=ax, color='red')\n",
        "lines, labels = ax.get_legend_handles_labels()\n",
        "ax.legend(lines, labels, loc='best')"
      ],
      "metadata": {
        "colab": {
          "base_uri": "https://localhost:8080/",
          "height": 447
        },
        "id": "8MAasiPGAx8E",
        "outputId": "4dc74b4f-2b7d-4ba0-df7c-a0373fd2d8ec"
      },
      "execution_count": null,
      "outputs": [
        {
          "output_type": "execute_result",
          "data": {
            "text/plain": [
              "<matplotlib.legend.Legend at 0x7bea1f6bbd90>"
            ]
          },
          "metadata": {},
          "execution_count": 143
        },
        {
          "output_type": "display_data",
          "data": {
            "text/plain": [
              "<Figure size 640x480 with 1 Axes>"
            ],
            "image/png": "[encoded data removed]"
          },
          "metadata": {}
        }
      ]
    },
    {
      "cell_type": "markdown",
      "source": [
        "<h4>Advantages And Disadvantages of Mean/Median Imputation</h4>\n",
        "\n",
        "i. Advantages\n",
        "1. Easy to implement(Robust to outliers)\n",
        "2. Faster way to obtain the complete dataset\n",
        "\n",
        "ii. Disadvantages\n",
        "1. Change or Distortion in the original variance\n",
        "Impacts Correlation"
      ],
      "metadata": {
        "id": "GnVG9UsjF0k7"
      }
    },
    {
      "cell_type": "markdown",
      "source": [
        "<h4>2.**Capture NaN values and create new feature**</h4>\n",
        "\n",
        "It has the assumption that the data are not missing completely at random(NMCAR)\n"
      ],
      "metadata": {
        "id": "G3C2i-tlHPOD"
      }
    },
    {
      "cell_type": "code",
      "source": [
        "df['comments_NAN']=np.where(df['comments'].isnull(),1,0)\n",
        "df['all_speakers_NAN']=np.where(df['all_speakers'].isnull(),1,0)\n",
        "df['occupations_NAN']=np.where(df['occupations'].isnull(),1,0)\n",
        "df['about_speakers_NAN']=np.where(df['about_speakers'].isnull(),1,0)"
      ],
      "metadata": {
        "id": "MVAd8Y2aBMUX"
      },
      "execution_count": null,
      "outputs": []
    },
    {
      "cell_type": "code",
      "source": [
        "df[['comments','comments_mean','comments_NAN']].head()"
      ],
      "metadata": {
        "colab": {
          "base_uri": "https://localhost:8080/",
          "height": 206
        },
        "id": "tqxmOcpTIHoA",
        "outputId": "90a18b97-319b-4376-e884-192471403815"
      },
      "execution_count": null,
      "outputs": [
        {
          "output_type": "execute_result",
          "data": {
            "text/plain": [
              "   comments  comments_mean  comments_NAN\n",
              "0     272.0          272.0             0\n",
              "1     628.0          628.0             0\n",
              "2     124.0          124.0             0\n",
              "3     219.0          219.0             0\n",
              "4    4931.0         4931.0             0"
            ],
            "text/html": [
              "\n",
              "  <div id=\"df-9564a90e-326c-4759-8f56-e2634f0e993d\" class=\"colab-df-container\">\n",
              "    <div>\n",
              "<style scoped>\n",
              "    .dataframe tbody tr th:only-of-type {\n",
              "        vertical-align: middle;\n",
              "    }\n",
              "\n",
              "    .dataframe tbody tr th {\n",
              "        vertical-align: top;\n",
              "    }\n",
              "\n",
              "    .dataframe thead th {\n",
              "        text-align: right;\n",
              "    }\n",
              "</style>\n",
              "<table border=\"1\" class=\"dataframe\">\n",
              "  <thead>\n",
              "    <tr style=\"text-align: right;\">\n",
              "      <th></th>\n",
              "      <th>comments</th>\n",
              "      <th>comments_mean</th>\n",
              "      <th>comments_NAN</th>\n",
              "    </tr>\n",
              "  </thead>\n",
              "  <tbody>\n",
              "    <tr>\n",
              "      <th>0</th>\n",
              "      <td>272.0</td>\n",
              "      <td>272.0</td>\n",
              "      <td>0</td>\n",
              "    </tr>\n",
              "    <tr>\n",
              "      <th>1</th>\n",
              "      <td>628.0</td>\n",
              "      <td>628.0</td>\n",
              "      <td>0</td>\n",
              "    </tr>\n",
              "    <tr>\n",
              "      <th>2</th>\n",
              "      <td>124.0</td>\n",
              "      <td>124.0</td>\n",
              "      <td>0</td>\n",
              "    </tr>\n",
              "    <tr>\n",
              "      <th>3</th>\n",
              "      <td>219.0</td>\n",
              "      <td>219.0</td>\n",
              "      <td>0</td>\n",
              "    </tr>\n",
              "    <tr>\n",
              "      <th>4</th>\n",
              "      <td>4931.0</td>\n",
              "      <td>4931.0</td>\n",
              "      <td>0</td>\n",
              "    </tr>\n",
              "  </tbody>\n",
              "</table>\n",
              "</div>\n",
              "    <div class=\"colab-df-buttons\">\n",
              "\n",
              "  <div class=\"colab-df-container\">\n",
              "    <button class=\"colab-df-convert\" onclick=\"convertToInteractive('df-9564a90e-326c-4759-8f56-e2634f0e993d')\"\n",
              "            title=\"Convert this dataframe to an interactive table.\"\n",
              "            style=\"display:none;\">\n",
              "\n",
              "  <svg xmlns=\"http://www.w3.org/2000/svg\" height=\"24px\" viewBox=\"0 -960 960 960\">\n",
              "    <path d=\"M120-120v-720h720v720H120Zm60-500h600v-160H180v160Zm220 220h160v-160H400v160Zm0 220h160v-160H400v160ZM180-400h160v-160H180v160Zm440 0h160v-160H620v160ZM180-180h160v-160H180v160Zm440 0h160v-160H620v160Z\"/>\n",
              "  </svg>\n",
              "    </button>\n",
              "\n",
              "  <style>\n",
              "    .colab-df-container {\n",
              "      display:flex;\n",
              "      gap: 12px;\n",
              "    }\n",
              "\n",
              "    .colab-df-convert {\n",
              "      background-color: #E8F0FE;\n",
              "      border: none;\n",
              "      border-radius: 50%;\n",
              "      cursor: pointer;\n",
              "      display: none;\n",
              "      fill: #1967D2;\n",
              "      height: 32px;\n",
              "      padding: 0 0 0 0;\n",
              "      width: 32px;\n",
              "    }\n",
              "\n",
              "    .colab-df-convert:hover {\n",
              "      background-color: #E2EBFA;\n",
              "      box-shadow: 0px 1px 2px rgba(60, 64, 67, 0.3), 0px 1px 3px 1px rgba(60, 64, 67, 0.15);\n",
              "      fill: #174EA6;\n",
              "    }\n",
              "\n",
              "    .colab-df-buttons div {\n",
              "      margin-bottom: 4px;\n",
              "    }\n",
              "\n",
              "    [theme=dark] .colab-df-convert {\n",
              "      background-color: #3B4455;\n",
              "      fill: #D2E3FC;\n",
              "    }\n",
              "\n",
              "    [theme=dark] .colab-df-convert:hover {\n",
              "      background-color: #434B5C;\n",
              "      box-shadow: 0px 1px 3px 1px rgba(0, 0, 0, 0.15);\n",
              "      filter: drop-shadow(0px 1px 2px rgba(0, 0, 0, 0.3));\n",
              "      fill: #FFFFFF;\n",
              "    }\n",
              "  </style>\n",
              "\n",
              "    <script>\n",
              "      const buttonEl =\n",
              "        document.querySelector('#df-9564a90e-326c-4759-8f56-e2634f0e993d button.colab-df-convert');\n",
              "      buttonEl.style.display =\n",
              "        google.colab.kernel.accessAllowed ? 'block' : 'none';\n",
              "\n",
              "      async function convertToInteractive(key) {\n",
              "        const element = document.querySelector('#df-9564a90e-326c-4759-8f56-e2634f0e993d');\n",
              "        const dataTable =\n",
              "          await google.colab.kernel.invokeFunction('convertToInteractive',\n",
              "                                                    [key], {});\n",
              "        if (!dataTable) return;\n",
              "\n",
              "        const docLinkHtml = 'Like what you see? Visit the ' +\n",
              "          '<a target=\"_blank\" href=https://colab.research.google.com/notebooks/data_table.ipynb>data table notebook</a>'\n",
              "          + ' to learn more about interactive tables.';\n",
              "        element.innerHTML = '';\n",
              "        dataTable['output_type'] = 'display_data';\n",
              "        await google.colab.output.renderOutput(dataTable, element);\n",
              "        const docLink = document.createElement('div');\n",
              "        docLink.innerHTML = docLinkHtml;\n",
              "        element.appendChild(docLink);\n",
              "      }\n",
              "    </script>\n",
              "  </div>\n",
              "\n",
              "\n",
              "<div id=\"df-969ce18d-3c32-468a-8f92-e476e0083760\">\n",
              "  <button class=\"colab-df-quickchart\" onclick=\"quickchart('df-969ce18d-3c32-468a-8f92-e476e0083760')\"\n",
              "            title=\"Suggest charts.\"\n",
              "            style=\"display:none;\">\n",
              "\n",
              "<svg xmlns=\"http://www.w3.org/2000/svg\" height=\"24px\"viewBox=\"0 0 24 24\"\n",
              "     width=\"24px\">\n",
              "    <g>\n",
              "        <path d=\"M19 3H5c-1.1 0-2 .9-2 2v14c0 1.1.9 2 2 2h14c1.1 0 2-.9 2-2V5c0-1.1-.9-2-2-2zM9 17H7v-7h2v7zm4 0h-2V7h2v10zm4 0h-2v-4h2v4z\"/>\n",
              "    </g>\n",
              "</svg>\n",
              "  </button>\n",
              "\n",
              "<style>\n",
              "  .colab-df-quickchart {\n",
              "    background-color: #E8F0FE;\n",
              "    border: none;\n",
              "    border-radius: 50%;\n",
              "    cursor: pointer;\n",
              "    display: none;\n",
              "    fill: #1967D2;\n",
              "    height: 32px;\n",
              "    padding: 0 0 0 0;\n",
              "    width: 32px;\n",
              "  }\n",
              "\n",
              "  .colab-df-quickchart:hover {\n",
              "    background-color: #E2EBFA;\n",
              "    box-shadow: 0px 1px 2px rgba(60, 64, 67, 0.3), 0px 1px 3px 1px rgba(60, 64, 67, 0.15);\n",
              "    fill: #174EA6;\n",
              "  }\n",
              "\n",
              "  [theme=dark] .colab-df-quickchart {\n",
              "    background-color: #3B4455;\n",
              "    fill: #D2E3FC;\n",
              "  }\n",
              "\n",
              "  [theme=dark] .colab-df-quickchart:hover {\n",
              "    background-color: #434B5C;\n",
              "    box-shadow: 0px 1px 3px 1px rgba(0, 0, 0, 0.15);\n",
              "    filter: drop-shadow(0px 1px 2px rgba(0, 0, 0, 0.3));\n",
              "    fill: #FFFFFF;\n",
              "  }\n",
              "</style>\n",
              "\n",
              "  <script>\n",
              "    async function quickchart(key) {\n",
              "      const charts = await google.colab.kernel.invokeFunction(\n",
              "          'suggestCharts', [key], {});\n",
              "    }\n",
              "    (() => {\n",
              "      let quickchartButtonEl =\n",
              "        document.querySelector('#df-969ce18d-3c32-468a-8f92-e476e0083760 button');\n",
              "      quickchartButtonEl.style.display =\n",
              "        google.colab.kernel.accessAllowed ? 'block' : 'none';\n",
              "    })();\n",
              "  </script>\n",
              "</div>\n",
              "    </div>\n",
              "  </div>\n"
            ]
          },
          "metadata": {},
          "execution_count": 145
        }
      ]
    },
    {
      "cell_type": "code",
      "source": [
        "df[['all_speakers','all_speakers_NAN','occupations','occupations_NAN','about_speakers','about_speakers_NAN']].head()"
      ],
      "metadata": {
        "colab": {
          "base_uri": "https://localhost:8080/",
          "height": 206
        },
        "id": "wIAmTKEQJbZY",
        "outputId": "589b0909-e97f-425f-b717-e89a33b6e9e3"
      },
      "execution_count": null,
      "outputs": [
        {
          "output_type": "execute_result",
          "data": {
            "text/plain": [
              "              all_speakers  all_speakers_NAN  \\\n",
              "0           {0: 'Al Gore'}                 0   \n",
              "1      {0: 'Hans Rosling'}                 0   \n",
              "2       {0: 'David Pogue'}                 0   \n",
              "3     {0: 'Majora Carter'}                 0   \n",
              "4  {0: 'Sir Ken Robinson'}                 0   \n",
              "\n",
              "                                     occupations  occupations_NAN  \\\n",
              "0                      {0: ['climate advocate']}                0   \n",
              "1  {0: ['global health expert; data visionary']}                0   \n",
              "2                  {0: ['technology columnist']}                0   \n",
              "3    {0: ['activist for environmental justice']}                0   \n",
              "4                    {0: ['author', 'educator']}                0   \n",
              "\n",
              "                                      about_speakers  about_speakers_NAN  \n",
              "0  {0: 'Nobel Laureate Al Gore focused the world’...                   0  \n",
              "1  {0: 'In Hans Rosling’s hands, data sings. Glob...                   0  \n",
              "2  {0: 'David Pogue is the personal technology co...                   0  \n",
              "3  {0: 'Majora Carter redefined the field of envi...                   0  \n",
              "4  {0: \"Creativity expert Sir Ken Robinson challe...                   0  "
            ],
            "text/html": [
              "\n",
              "  <div id=\"df-b601269d-223c-4699-a6d8-fc3d891bba11\" class=\"colab-df-container\">\n",
              "    <div>\n",
              "<style scoped>\n",
              "    .dataframe tbody tr th:only-of-type {\n",
              "        vertical-align: middle;\n",
              "    }\n",
              "\n",
              "    .dataframe tbody tr th {\n",
              "        vertical-align: top;\n",
              "    }\n",
              "\n",
              "    .dataframe thead th {\n",
              "        text-align: right;\n",
              "    }\n",
              "</style>\n",
              "<table border=\"1\" class=\"dataframe\">\n",
              "  <thead>\n",
              "    <tr style=\"text-align: right;\">\n",
              "      <th></th>\n",
              "      <th>all_speakers</th>\n",
              "      <th>all_speakers_NAN</th>\n",
              "      <th>occupations</th>\n",
              "      <th>occupations_NAN</th>\n",
              "      <th>about_speakers</th>\n",
              "      <th>about_speakers_NAN</th>\n",
              "    </tr>\n",
              "  </thead>\n",
              "  <tbody>\n",
              "    <tr>\n",
              "      <th>0</th>\n",
              "      <td>{0: 'Al Gore'}</td>\n",
              "      <td>0</td>\n",
              "      <td>{0: ['climate advocate']}</td>\n",
              "      <td>0</td>\n",
              "      <td>{0: 'Nobel Laureate Al Gore focused the world’...</td>\n",
              "      <td>0</td>\n",
              "    </tr>\n",
              "    <tr>\n",
              "      <th>1</th>\n",
              "      <td>{0: 'Hans Rosling'}</td>\n",
              "      <td>0</td>\n",
              "      <td>{0: ['global health expert; data visionary']}</td>\n",
              "      <td>0</td>\n",
              "      <td>{0: 'In Hans Rosling’s hands, data sings. Glob...</td>\n",
              "      <td>0</td>\n",
              "    </tr>\n",
              "    <tr>\n",
              "      <th>2</th>\n",
              "      <td>{0: 'David Pogue'}</td>\n",
              "      <td>0</td>\n",
              "      <td>{0: ['technology columnist']}</td>\n",
              "      <td>0</td>\n",
              "      <td>{0: 'David Pogue is the personal technology co...</td>\n",
              "      <td>0</td>\n",
              "    </tr>\n",
              "    <tr>\n",
              "      <th>3</th>\n",
              "      <td>{0: 'Majora Carter'}</td>\n",
              "      <td>0</td>\n",
              "      <td>{0: ['activist for environmental justice']}</td>\n",
              "      <td>0</td>\n",
              "      <td>{0: 'Majora Carter redefined the field of envi...</td>\n",
              "      <td>0</td>\n",
              "    </tr>\n",
              "    <tr>\n",
              "      <th>4</th>\n",
              "      <td>{0: 'Sir Ken Robinson'}</td>\n",
              "      <td>0</td>\n",
              "      <td>{0: ['author', 'educator']}</td>\n",
              "      <td>0</td>\n",
              "      <td>{0: \"Creativity expert Sir Ken Robinson challe...</td>\n",
              "      <td>0</td>\n",
              "    </tr>\n",
              "  </tbody>\n",
              "</table>\n",
              "</div>\n",
              "    <div class=\"colab-df-buttons\">\n",
              "\n",
              "  <div class=\"colab-df-container\">\n",
              "    <button class=\"colab-df-convert\" onclick=\"convertToInteractive('df-b601269d-223c-4699-a6d8-fc3d891bba11')\"\n",
              "            title=\"Convert this dataframe to an interactive table.\"\n",
              "            style=\"display:none;\">\n",
              "\n",
              "  <svg xmlns=\"http://www.w3.org/2000/svg\" height=\"24px\" viewBox=\"0 -960 960 960\">\n",
              "    <path d=\"M120-120v-720h720v720H120Zm60-500h600v-160H180v160Zm220 220h160v-160H400v160Zm0 220h160v-160H400v160ZM180-400h160v-160H180v160Zm440 0h160v-160H620v160ZM180-180h160v-160H180v160Zm440 0h160v-160H620v160Z\"/>\n",
              "  </svg>\n",
              "    </button>\n",
              "\n",
              "  <style>\n",
              "    .colab-df-container {\n",
              "      display:flex;\n",
              "      gap: 12px;\n",
              "    }\n",
              "\n",
              "    .colab-df-convert {\n",
              "      background-color: #E8F0FE;\n",
              "      border: none;\n",
              "      border-radius: 50%;\n",
              "      cursor: pointer;\n",
              "      display: none;\n",
              "      fill: #1967D2;\n",
              "      height: 32px;\n",
              "      padding: 0 0 0 0;\n",
              "      width: 32px;\n",
              "    }\n",
              "\n",
              "    .colab-df-convert:hover {\n",
              "      background-color: #E2EBFA;\n",
              "      box-shadow: 0px 1px 2px rgba(60, 64, 67, 0.3), 0px 1px 3px 1px rgba(60, 64, 67, 0.15);\n",
              "      fill: #174EA6;\n",
              "    }\n",
              "\n",
              "    .colab-df-buttons div {\n",
              "      margin-bottom: 4px;\n",
              "    }\n",
              "\n",
              "    [theme=dark] .colab-df-convert {\n",
              "      background-color: #3B4455;\n",
              "      fill: #D2E3FC;\n",
              "    }\n",
              "\n",
              "    [theme=dark] .colab-df-convert:hover {\n",
              "      background-color: #434B5C;\n",
              "      box-shadow: 0px 1px 3px 1px rgba(0, 0, 0, 0.15);\n",
              "      filter: drop-shadow(0px 1px 2px rgba(0, 0, 0, 0.3));\n",
              "      fill: #FFFFFF;\n",
              "    }\n",
              "  </style>\n",
              "\n",
              "    <script>\n",
              "      const buttonEl =\n",
              "        document.querySelector('#df-b601269d-223c-4699-a6d8-fc3d891bba11 button.colab-df-convert');\n",
              "      buttonEl.style.display =\n",
              "        google.colab.kernel.accessAllowed ? 'block' : 'none';\n",
              "\n",
              "      async function convertToInteractive(key) {\n",
              "        const element = document.querySelector('#df-b601269d-223c-4699-a6d8-fc3d891bba11');\n",
              "        const dataTable =\n",
              "          await google.colab.kernel.invokeFunction('convertToInteractive',\n",
              "                                                    [key], {});\n",
              "        if (!dataTable) return;\n",
              "\n",
              "        const docLinkHtml = 'Like what you see? Visit the ' +\n",
              "          '<a target=\"_blank\" href=https://colab.research.google.com/notebooks/data_table.ipynb>data table notebook</a>'\n",
              "          + ' to learn more about interactive tables.';\n",
              "        element.innerHTML = '';\n",
              "        dataTable['output_type'] = 'display_data';\n",
              "        await google.colab.output.renderOutput(dataTable, element);\n",
              "        const docLink = document.createElement('div');\n",
              "        docLink.innerHTML = docLinkHtml;\n",
              "        element.appendChild(docLink);\n",
              "      }\n",
              "    </script>\n",
              "  </div>\n",
              "\n",
              "\n",
              "<div id=\"df-0966e5f2-a7c9-4e4a-9362-d562d247ee3e\">\n",
              "  <button class=\"colab-df-quickchart\" onclick=\"quickchart('df-0966e5f2-a7c9-4e4a-9362-d562d247ee3e')\"\n",
              "            title=\"Suggest charts.\"\n",
              "            style=\"display:none;\">\n",
              "\n",
              "<svg xmlns=\"http://www.w3.org/2000/svg\" height=\"24px\"viewBox=\"0 0 24 24\"\n",
              "     width=\"24px\">\n",
              "    <g>\n",
              "        <path d=\"M19 3H5c-1.1 0-2 .9-2 2v14c0 1.1.9 2 2 2h14c1.1 0 2-.9 2-2V5c0-1.1-.9-2-2-2zM9 17H7v-7h2v7zm4 0h-2V7h2v10zm4 0h-2v-4h2v4z\"/>\n",
              "    </g>\n",
              "</svg>\n",
              "  </button>\n",
              "\n",
              "<style>\n",
              "  .colab-df-quickchart {\n",
              "    background-color: #E8F0FE;\n",
              "    border: none;\n",
              "    border-radius: 50%;\n",
              "    cursor: pointer;\n",
              "    display: none;\n",
              "    fill: #1967D2;\n",
              "    height: 32px;\n",
              "    padding: 0 0 0 0;\n",
              "    width: 32px;\n",
              "  }\n",
              "\n",
              "  .colab-df-quickchart:hover {\n",
              "    background-color: #E2EBFA;\n",
              "    box-shadow: 0px 1px 2px rgba(60, 64, 67, 0.3), 0px 1px 3px 1px rgba(60, 64, 67, 0.15);\n",
              "    fill: #174EA6;\n",
              "  }\n",
              "\n",
              "  [theme=dark] .colab-df-quickchart {\n",
              "    background-color: #3B4455;\n",
              "    fill: #D2E3FC;\n",
              "  }\n",
              "\n",
              "  [theme=dark] .colab-df-quickchart:hover {\n",
              "    background-color: #434B5C;\n",
              "    box-shadow: 0px 1px 3px 1px rgba(0, 0, 0, 0.15);\n",
              "    filter: drop-shadow(0px 1px 2px rgba(0, 0, 0, 0.3));\n",
              "    fill: #FFFFFF;\n",
              "  }\n",
              "</style>\n",
              "\n",
              "  <script>\n",
              "    async function quickchart(key) {\n",
              "      const charts = await google.colab.kernel.invokeFunction(\n",
              "          'suggestCharts', [key], {});\n",
              "    }\n",
              "    (() => {\n",
              "      let quickchartButtonEl =\n",
              "        document.querySelector('#df-0966e5f2-a7c9-4e4a-9362-d562d247ee3e button');\n",
              "      quickchartButtonEl.style.display =\n",
              "        google.colab.kernel.accessAllowed ? 'block' : 'none';\n",
              "    })();\n",
              "  </script>\n",
              "</div>\n",
              "    </div>\n",
              "  </div>\n"
            ]
          },
          "metadata": {},
          "execution_count": 146
        }
      ]
    },
    {
      "cell_type": "markdown",
      "source": [
        "<h5> 0 for when values in variables are null and 1 when values in variables are not null </h5>\n",
        "\n",
        "i. Advantages\n",
        "1. Easy to implement(Robust to outliers)\n",
        "2. Captures the importance of missing values i.e. let se if we replace our missing value with mean/most freq then with this additional NaN feature where value will be null it will be 1 so this shows the importance of null in data and helps model to learn more easily\n",
        "\n",
        "ii. Disadvantages\n",
        "1. Creating Additional Features(Curse of Dimensionality)"
      ],
      "metadata": {
        "id": "hLvN7Rm_JU0W"
      }
    },
    {
      "cell_type": "markdown",
      "source": [
        "#### 3.End of distribution imputataion for Comment feature."
      ],
      "metadata": {
        "id": "CjIYMcB4Lc3Z"
      }
    },
    {
      "cell_type": "code",
      "source": [
        "df['comments'].hist()"
      ],
      "metadata": {
        "colab": {
          "base_uri": "https://localhost:8080/",
          "height": 447
        },
        "id": "QdLScOyRIKkQ",
        "outputId": "e34acb32-a661-4e57-f1b6-9b2520426bb6"
      },
      "execution_count": null,
      "outputs": [
        {
          "output_type": "execute_result",
          "data": {
            "text/plain": [
              "<Axes: >"
            ]
          },
          "metadata": {},
          "execution_count": 147
        },
        {
          "output_type": "display_data",
          "data": {
            "text/plain": [
              "<Figure size 640x480 with 1 Axes>"
            ],
            "image/png": "[encoded data removed]"
          },
          "metadata": {}
        }
      ]
    },
    {
      "cell_type": "code",
      "source": [
        "df['comments'].nlargest()"
      ],
      "metadata": {
        "colab": {
          "base_uri": "https://localhost:8080/"
        },
        "id": "FmCkuLx6N_3A",
        "outputId": "cc53db98-582c-4c11-ddd8-20d2f9dc765b"
      },
      "execution_count": null,
      "outputs": [
        {
          "output_type": "execute_result",
          "data": {
            "text/plain": [
              "94      6449.0\n",
              "4       4931.0\n",
              "617     3424.0\n",
              "1735    3006.0\n",
              "197     2984.0\n",
              "Name: comments, dtype: float64"
            ]
          },
          "metadata": {},
          "execution_count": 148
        }
      ]
    },
    {
      "cell_type": "code",
      "source": [
        "print('Mean for Comments:                                ',df.comments.mean())\n",
        "print('End of distribution for Comments with 3rd std dev:',df.comments.mean()+3*df.comments.std())\n",
        "extreme=df.comments.mean()+3*df.comments.std()"
      ],
      "metadata": {
        "colab": {
          "base_uri": "https://localhost:8080/"
        },
        "id": "X4blHWU2OUSC",
        "outputId": "9fdfe368-98c4-4619-ba49-817539733c46"
      },
      "execution_count": null,
      "outputs": [
        {
          "output_type": "stream",
          "name": "stdout",
          "text": [
            "Mean for Comments:                                 161.99701492537312\n",
            "End of distribution for Comments with 3rd std dev: 968.5137814185566\n"
          ]
        }
      ]
    },
    {
      "cell_type": "markdown",
      "source": [
        "<h5> After 3rd std deviation at the end of distribution value is been taken.</h5>"
      ],
      "metadata": {
        "id": "OqoVDTcBQweC"
      }
    },
    {
      "cell_type": "code",
      "source": [
        "def impute_nan(df,variable,extreme):\n",
        "    df[variable+\"_end_distribution\"]=df[variable].fillna(extreme)"
      ],
      "metadata": {
        "id": "Silj6AfWQDcr"
      },
      "execution_count": null,
      "outputs": []
    },
    {
      "cell_type": "code",
      "source": [
        "impute_nan(df,'comments',extreme)"
      ],
      "metadata": {
        "id": "7jJiggKqROB1"
      },
      "execution_count": null,
      "outputs": []
    },
    {
      "cell_type": "code",
      "source": [
        "df[['comments','comments_mean','comments_NAN','comments_end_distribution']].head()"
      ],
      "metadata": {
        "colab": {
          "base_uri": "https://localhost:8080/",
          "height": 206
        },
        "id": "1c6hWwfBRq5f",
        "outputId": "add6688f-66ba-4287-bbe2-6dc4090428bf"
      },
      "execution_count": null,
      "outputs": [
        {
          "output_type": "execute_result",
          "data": {
            "text/plain": [
              "   comments  comments_mean  comments_NAN  comments_end_distribution\n",
              "0     272.0          272.0             0                      272.0\n",
              "1     628.0          628.0             0                      628.0\n",
              "2     124.0          124.0             0                      124.0\n",
              "3     219.0          219.0             0                      219.0\n",
              "4    4931.0         4931.0             0                     4931.0"
            ],
            "text/html": [
              "\n",
              "  <div id=\"df-d32d7517-bc44-4249-bf8e-5a77cce1bdbd\" class=\"colab-df-container\">\n",
              "    <div>\n",
              "<style scoped>\n",
              "    .dataframe tbody tr th:only-of-type {\n",
              "        vertical-align: middle;\n",
              "    }\n",
              "\n",
              "    .dataframe tbody tr th {\n",
              "        vertical-align: top;\n",
              "    }\n",
              "\n",
              "    .dataframe thead th {\n",
              "        text-align: right;\n",
              "    }\n",
              "</style>\n",
              "<table border=\"1\" class=\"dataframe\">\n",
              "  <thead>\n",
              "    <tr style=\"text-align: right;\">\n",
              "      <th></th>\n",
              "      <th>comments</th>\n",
              "      <th>comments_mean</th>\n",
              "      <th>comments_NAN</th>\n",
              "      <th>comments_end_distribution</th>\n",
              "    </tr>\n",
              "  </thead>\n",
              "  <tbody>\n",
              "    <tr>\n",
              "      <th>0</th>\n",
              "      <td>272.0</td>\n",
              "      <td>272.0</td>\n",
              "      <td>0</td>\n",
              "      <td>272.0</td>\n",
              "    </tr>\n",
              "    <tr>\n",
              "      <th>1</th>\n",
              "      <td>628.0</td>\n",
              "      <td>628.0</td>\n",
              "      <td>0</td>\n",
              "      <td>628.0</td>\n",
              "    </tr>\n",
              "    <tr>\n",
              "      <th>2</th>\n",
              "      <td>124.0</td>\n",
              "      <td>124.0</td>\n",
              "      <td>0</td>\n",
              "      <td>124.0</td>\n",
              "    </tr>\n",
              "    <tr>\n",
              "      <th>3</th>\n",
              "      <td>219.0</td>\n",
              "      <td>219.0</td>\n",
              "      <td>0</td>\n",
              "      <td>219.0</td>\n",
              "    </tr>\n",
              "    <tr>\n",
              "      <th>4</th>\n",
              "      <td>4931.0</td>\n",
              "      <td>4931.0</td>\n",
              "      <td>0</td>\n",
              "      <td>4931.0</td>\n",
              "    </tr>\n",
              "  </tbody>\n",
              "</table>\n",
              "</div>\n",
              "    <div class=\"colab-df-buttons\">\n",
              "\n",
              "  <div class=\"colab-df-container\">\n",
              "    <button class=\"colab-df-convert\" onclick=\"convertToInteractive('df-d32d7517-bc44-4249-bf8e-5a77cce1bdbd')\"\n",
              "            title=\"Convert this dataframe to an interactive table.\"\n",
              "            style=\"display:none;\">\n",
              "\n",
              "  <svg xmlns=\"http://www.w3.org/2000/svg\" height=\"24px\" viewBox=\"0 -960 960 960\">\n",
              "    <path d=\"M120-120v-720h720v720H120Zm60-500h600v-160H180v160Zm220 220h160v-160H400v160Zm0 220h160v-160H400v160ZM180-400h160v-160H180v160Zm440 0h160v-160H620v160ZM180-180h160v-160H180v160Zm440 0h160v-160H620v160Z\"/>\n",
              "  </svg>\n",
              "    </button>\n",
              "\n",
              "  <style>\n",
              "    .colab-df-container {\n",
              "      display:flex;\n",
              "      gap: 12px;\n",
              "    }\n",
              "\n",
              "    .colab-df-convert {\n",
              "      background-color: #E8F0FE;\n",
              "      border: none;\n",
              "      border-radius: 50%;\n",
              "      cursor: pointer;\n",
              "      display: none;\n",
              "      fill: #1967D2;\n",
              "      height: 32px;\n",
              "      padding: 0 0 0 0;\n",
              "      width: 32px;\n",
              "    }\n",
              "\n",
              "    .colab-df-convert:hover {\n",
              "      background-color: #E2EBFA;\n",
              "      box-shadow: 0px 1px 2px rgba(60, 64, 67, 0.3), 0px 1px 3px 1px rgba(60, 64, 67, 0.15);\n",
              "      fill: #174EA6;\n",
              "    }\n",
              "\n",
              "    .colab-df-buttons div {\n",
              "      margin-bottom: 4px;\n",
              "    }\n",
              "\n",
              "    [theme=dark] .colab-df-convert {\n",
              "      background-color: #3B4455;\n",
              "      fill: #D2E3FC;\n",
              "    }\n",
              "\n",
              "    [theme=dark] .colab-df-convert:hover {\n",
              "      background-color: #434B5C;\n",
              "      box-shadow: 0px 1px 3px 1px rgba(0, 0, 0, 0.15);\n",
              "      filter: drop-shadow(0px 1px 2px rgba(0, 0, 0, 0.3));\n",
              "      fill: #FFFFFF;\n",
              "    }\n",
              "  </style>\n",
              "\n",
              "    <script>\n",
              "      const buttonEl =\n",
              "        document.querySelector('#df-d32d7517-bc44-4249-bf8e-5a77cce1bdbd button.colab-df-convert');\n",
              "      buttonEl.style.display =\n",
              "        google.colab.kernel.accessAllowed ? 'block' : 'none';\n",
              "\n",
              "      async function convertToInteractive(key) {\n",
              "        const element = document.querySelector('#df-d32d7517-bc44-4249-bf8e-5a77cce1bdbd');\n",
              "        const dataTable =\n",
              "          await google.colab.kernel.invokeFunction('convertToInteractive',\n",
              "                                                    [key], {});\n",
              "        if (!dataTable) return;\n",
              "\n",
              "        const docLinkHtml = 'Like what you see? Visit the ' +\n",
              "          '<a target=\"_blank\" href=https://colab.research.google.com/notebooks/data_table.ipynb>data table notebook</a>'\n",
              "          + ' to learn more about interactive tables.';\n",
              "        element.innerHTML = '';\n",
              "        dataTable['output_type'] = 'display_data';\n",
              "        await google.colab.output.renderOutput(dataTable, element);\n",
              "        const docLink = document.createElement('div');\n",
              "        docLink.innerHTML = docLinkHtml;\n",
              "        element.appendChild(docLink);\n",
              "      }\n",
              "    </script>\n",
              "  </div>\n",
              "\n",
              "\n",
              "<div id=\"df-b2b83211-403b-49e9-8e09-2af793ade08f\">\n",
              "  <button class=\"colab-df-quickchart\" onclick=\"quickchart('df-b2b83211-403b-49e9-8e09-2af793ade08f')\"\n",
              "            title=\"Suggest charts.\"\n",
              "            style=\"display:none;\">\n",
              "\n",
              "<svg xmlns=\"http://www.w3.org/2000/svg\" height=\"24px\"viewBox=\"0 0 24 24\"\n",
              "     width=\"24px\">\n",
              "    <g>\n",
              "        <path d=\"M19 3H5c-1.1 0-2 .9-2 2v14c0 1.1.9 2 2 2h14c1.1 0 2-.9 2-2V5c0-1.1-.9-2-2-2zM9 17H7v-7h2v7zm4 0h-2V7h2v10zm4 0h-2v-4h2v4z\"/>\n",
              "    </g>\n",
              "</svg>\n",
              "  </button>\n",
              "\n",
              "<style>\n",
              "  .colab-df-quickchart {\n",
              "    background-color: #E8F0FE;\n",
              "    border: none;\n",
              "    border-radius: 50%;\n",
              "    cursor: pointer;\n",
              "    display: none;\n",
              "    fill: #1967D2;\n",
              "    height: 32px;\n",
              "    padding: 0 0 0 0;\n",
              "    width: 32px;\n",
              "  }\n",
              "\n",
              "  .colab-df-quickchart:hover {\n",
              "    background-color: #E2EBFA;\n",
              "    box-shadow: 0px 1px 2px rgba(60, 64, 67, 0.3), 0px 1px 3px 1px rgba(60, 64, 67, 0.15);\n",
              "    fill: #174EA6;\n",
              "  }\n",
              "\n",
              "  [theme=dark] .colab-df-quickchart {\n",
              "    background-color: #3B4455;\n",
              "    fill: #D2E3FC;\n",
              "  }\n",
              "\n",
              "  [theme=dark] .colab-df-quickchart:hover {\n",
              "    background-color: #434B5C;\n",
              "    box-shadow: 0px 1px 3px 1px rgba(0, 0, 0, 0.15);\n",
              "    filter: drop-shadow(0px 1px 2px rgba(0, 0, 0, 0.3));\n",
              "    fill: #FFFFFF;\n",
              "  }\n",
              "</style>\n",
              "\n",
              "  <script>\n",
              "    async function quickchart(key) {\n",
              "      const charts = await google.colab.kernel.invokeFunction(\n",
              "          'suggestCharts', [key], {});\n",
              "    }\n",
              "    (() => {\n",
              "      let quickchartButtonEl =\n",
              "        document.querySelector('#df-b2b83211-403b-49e9-8e09-2af793ade08f button');\n",
              "      quickchartButtonEl.style.display =\n",
              "        google.colab.kernel.accessAllowed ? 'block' : 'none';\n",
              "    })();\n",
              "  </script>\n",
              "</div>\n",
              "    </div>\n",
              "  </div>\n"
            ]
          },
          "metadata": {},
          "execution_count": 152
        }
      ]
    },
    {
      "cell_type": "code",
      "source": [
        "fig = plt.figure()\n",
        "ax = fig.add_subplot(111)\n",
        "df['comments'].plot(kind='kde', ax=ax)\n",
        "df.comments_mean.plot(kind='kde', ax=ax, color='red')\n",
        "#df.comments_end_distribution.plot(kind='kde', ax=ax, color='green')\n",
        "lines, labels = ax.get_legend_handles_labels()\n",
        "ax.legend(lines, labels, loc='best')"
      ],
      "metadata": {
        "colab": {
          "base_uri": "https://localhost:8080/",
          "height": 447
        },
        "id": "I-HvtXKhSVRk",
        "outputId": "556583dc-d519-4401-960f-5dda3fd67be5"
      },
      "execution_count": null,
      "outputs": [
        {
          "output_type": "execute_result",
          "data": {
            "text/plain": [
              "<matplotlib.legend.Legend at 0x7bea1ebf6350>"
            ]
          },
          "metadata": {},
          "execution_count": 153
        },
        {
          "output_type": "display_data",
          "data": {
            "text/plain": [
              "<Figure size 640x480 with 1 Axes>"
            ],
            "image/png": "[encoded data removed]"
          },
          "metadata": {}
        }
      ]
    },
    {
      "cell_type": "code",
      "source": [
        "fig = plt.figure()\n",
        "ax = fig.add_subplot(111)\n",
        "df['comments'].plot(kind='kde', ax=ax)\n",
        "df.comments_mean.plot(kind='kde', ax=ax, color='red')\n",
        "df.comments_end_distribution.plot(kind='kde', ax=ax, color='green')\n",
        "lines, labels = ax.get_legend_handles_labels()\n",
        "ax.legend(lines, labels, loc='best')"
      ],
      "metadata": {
        "colab": {
          "base_uri": "https://localhost:8080/",
          "height": 447
        },
        "id": "RaSymqMFRtVc",
        "outputId": "96437881-cc5a-4e7b-ef66-8723e2ac8502"
      },
      "execution_count": null,
      "outputs": [
        {
          "output_type": "execute_result",
          "data": {
            "text/plain": [
              "<matplotlib.legend.Legend at 0x7bea1ec41f00>"
            ]
          },
          "metadata": {},
          "execution_count": 154
        },
        {
          "output_type": "display_data",
          "data": {
            "text/plain": [
              "<Figure size 640x480 with 1 Axes>"
            ],
            "image/png": "[encoded data removed]"
          },
          "metadata": {}
        }
      ]
    },
    {
      "cell_type": "markdown",
      "source": [
        "Observation: We can see that using end of distribution creates more noise at the end (green) which distorts the graph where most of comments with null are replaced with higher values"
      ],
      "metadata": {
        "id": "s-_yvKweSZam"
      }
    },
    {
      "cell_type": "markdown",
      "source": [
        "<h4>5. Frequent category imputation</h5>\n",
        "For categorical features only"
      ],
      "metadata": {
        "id": "7JFYBKUTV-UH"
      }
    },
    {
      "cell_type": "code",
      "source": [
        "df.isna().sum()"
      ],
      "metadata": {
        "colab": {
          "base_uri": "https://localhost:8080/"
        },
        "id": "K3MVk84PRKmw",
        "outputId": "6da14bc7-159b-4ec9-d66f-513f16403ea2"
      },
      "execution_count": null,
      "outputs": [
        {
          "output_type": "execute_result",
          "data": {
            "text/plain": [
              "talk_id                        0\n",
              "title                          0\n",
              "speaker_1                      0\n",
              "all_speakers                   4\n",
              "occupations                  522\n",
              "about_speakers               503\n",
              "views                          0\n",
              "recorded_date                  1\n",
              "published_date                 0\n",
              "event                          0\n",
              "native_lang                    0\n",
              "available_lang                 0\n",
              "comments                     655\n",
              "duration                       0\n",
              "topics                         0\n",
              "related_talks                  0\n",
              "url                            0\n",
              "description                    0\n",
              "transcript                     0\n",
              "published_year                 0\n",
              "published_month                0\n",
              "published_day                  0\n",
              "comments_mean                  0\n",
              "comments_NAN                   0\n",
              "all_speakers_NAN               0\n",
              "occupations_NAN                0\n",
              "about_speakers_NAN             0\n",
              "comments_end_distribution      0\n",
              "dtype: int64"
            ]
          },
          "metadata": {},
          "execution_count": 155
        }
      ]
    },
    {
      "cell_type": "code",
      "source": [
        "df[\"all_speakers_most_frequent_category\"] = df['all_speakers']\n",
        "df[\"occupations_frequent_category\"] = df['occupations']\n",
        "df[\"about_speakers_most_frequent_category\"] = df['about_speakers']"
      ],
      "metadata": {
        "id": "fvKpyZ6iZ23b"
      },
      "execution_count": null,
      "outputs": []
    },
    {
      "cell_type": "code",
      "source": [
        "def impute_nan(df,variable):\n",
        "    most_frequent_category=df[variable].mode()[0]\n",
        "    df[variable].fillna(most_frequent_category,inplace=True)"
      ],
      "metadata": {
        "id": "Tj5zICzUYXiF"
      },
      "execution_count": null,
      "outputs": []
    },
    {
      "cell_type": "code",
      "source": [
        "for feature in ['all_speakers_most_frequent_category','occupations_frequent_category','about_speakers_most_frequent_category']:\n",
        "    impute_nan(df,feature)"
      ],
      "metadata": {
        "id": "jaEiwcI_XmYs"
      },
      "execution_count": null,
      "outputs": []
    },
    {
      "cell_type": "code",
      "source": [
        "df[['all_speakers','all_speakers_most_frequent_category']].head()"
      ],
      "metadata": {
        "colab": {
          "base_uri": "https://localhost:8080/",
          "height": 206
        },
        "id": "WilhvaNBXx5c",
        "outputId": "c47427f5-ff28-4232-9d80-03dedf5f9754"
      },
      "execution_count": null,
      "outputs": [
        {
          "output_type": "execute_result",
          "data": {
            "text/plain": [
              "              all_speakers all_speakers_most_frequent_category\n",
              "0           {0: 'Al Gore'}                      {0: 'Al Gore'}\n",
              "1      {0: 'Hans Rosling'}                 {0: 'Hans Rosling'}\n",
              "2       {0: 'David Pogue'}                  {0: 'David Pogue'}\n",
              "3     {0: 'Majora Carter'}                {0: 'Majora Carter'}\n",
              "4  {0: 'Sir Ken Robinson'}             {0: 'Sir Ken Robinson'}"
            ],
            "text/html": [
              "\n",
              "  <div id=\"df-189890da-8e41-4d4b-a37a-48948e966efe\" class=\"colab-df-container\">\n",
              "    <div>\n",
              "<style scoped>\n",
              "    .dataframe tbody tr th:only-of-type {\n",
              "        vertical-align: middle;\n",
              "    }\n",
              "\n",
              "    .dataframe tbody tr th {\n",
              "        vertical-align: top;\n",
              "    }\n",
              "\n",
              "    .dataframe thead th {\n",
              "        text-align: right;\n",
              "    }\n",
              "</style>\n",
              "<table border=\"1\" class=\"dataframe\">\n",
              "  <thead>\n",
              "    <tr style=\"text-align: right;\">\n",
              "      <th></th>\n",
              "      <th>all_speakers</th>\n",
              "      <th>all_speakers_most_frequent_category</th>\n",
              "    </tr>\n",
              "  </thead>\n",
              "  <tbody>\n",
              "    <tr>\n",
              "      <th>0</th>\n",
              "      <td>{0: 'Al Gore'}</td>\n",
              "      <td>{0: 'Al Gore'}</td>\n",
              "    </tr>\n",
              "    <tr>\n",
              "      <th>1</th>\n",
              "      <td>{0: 'Hans Rosling'}</td>\n",
              "      <td>{0: 'Hans Rosling'}</td>\n",
              "    </tr>\n",
              "    <tr>\n",
              "      <th>2</th>\n",
              "      <td>{0: 'David Pogue'}</td>\n",
              "      <td>{0: 'David Pogue'}</td>\n",
              "    </tr>\n",
              "    <tr>\n",
              "      <th>3</th>\n",
              "      <td>{0: 'Majora Carter'}</td>\n",
              "      <td>{0: 'Majora Carter'}</td>\n",
              "    </tr>\n",
              "    <tr>\n",
              "      <th>4</th>\n",
              "      <td>{0: 'Sir Ken Robinson'}</td>\n",
              "      <td>{0: 'Sir Ken Robinson'}</td>\n",
              "    </tr>\n",
              "  </tbody>\n",
              "</table>\n",
              "</div>\n",
              "    <div class=\"colab-df-buttons\">\n",
              "\n",
              "  <div class=\"colab-df-container\">\n",
              "    <button class=\"colab-df-convert\" onclick=\"convertToInteractive('df-189890da-8e41-4d4b-a37a-48948e966efe')\"\n",
              "            title=\"Convert this dataframe to an interactive table.\"\n",
              "            style=\"display:none;\">\n",
              "\n",
              "  <svg xmlns=\"http://www.w3.org/2000/svg\" height=\"24px\" viewBox=\"0 -960 960 960\">\n",
              "    <path d=\"M120-120v-720h720v720H120Zm60-500h600v-160H180v160Zm220 220h160v-160H400v160Zm0 220h160v-160H400v160ZM180-400h160v-160H180v160Zm440 0h160v-160H620v160ZM180-180h160v-160H180v160Zm440 0h160v-160H620v160Z\"/>\n",
              "  </svg>\n",
              "    </button>\n",
              "\n",
              "  <style>\n",
              "    .colab-df-container {\n",
              "      display:flex;\n",
              "      gap: 12px;\n",
              "    }\n",
              "\n",
              "    .colab-df-convert {\n",
              "      background-color: #E8F0FE;\n",
              "      border: none;\n",
              "      border-radius: 50%;\n",
              "      cursor: pointer;\n",
              "      display: none;\n",
              "      fill: #1967D2;\n",
              "      height: 32px;\n",
              "      padding: 0 0 0 0;\n",
              "      width: 32px;\n",
              "    }\n",
              "\n",
              "    .colab-df-convert:hover {\n",
              "      background-color: #E2EBFA;\n",
              "      box-shadow: 0px 1px 2px rgba(60, 64, 67, 0.3), 0px 1px 3px 1px rgba(60, 64, 67, 0.15);\n",
              "      fill: #174EA6;\n",
              "    }\n",
              "\n",
              "    .colab-df-buttons div {\n",
              "      margin-bottom: 4px;\n",
              "    }\n",
              "\n",
              "    [theme=dark] .colab-df-convert {\n",
              "      background-color: #3B4455;\n",
              "      fill: #D2E3FC;\n",
              "    }\n",
              "\n",
              "    [theme=dark] .colab-df-convert:hover {\n",
              "      background-color: #434B5C;\n",
              "      box-shadow: 0px 1px 3px 1px rgba(0, 0, 0, 0.15);\n",
              "      filter: drop-shadow(0px 1px 2px rgba(0, 0, 0, 0.3));\n",
              "      fill: #FFFFFF;\n",
              "    }\n",
              "  </style>\n",
              "\n",
              "    <script>\n",
              "      const buttonEl =\n",
              "        document.querySelector('#df-189890da-8e41-4d4b-a37a-48948e966efe button.colab-df-convert');\n",
              "      buttonEl.style.display =\n",
              "        google.colab.kernel.accessAllowed ? 'block' : 'none';\n",
              "\n",
              "      async function convertToInteractive(key) {\n",
              "        const element = document.querySelector('#df-189890da-8e41-4d4b-a37a-48948e966efe');\n",
              "        const dataTable =\n",
              "          await google.colab.kernel.invokeFunction('convertToInteractive',\n",
              "                                                    [key], {});\n",
              "        if (!dataTable) return;\n",
              "\n",
              "        const docLinkHtml = 'Like what you see? Visit the ' +\n",
              "          '<a target=\"_blank\" href=https://colab.research.google.com/notebooks/data_table.ipynb>data table notebook</a>'\n",
              "          + ' to learn more about interactive tables.';\n",
              "        element.innerHTML = '';\n",
              "        dataTable['output_type'] = 'display_data';\n",
              "        await google.colab.output.renderOutput(dataTable, element);\n",
              "        const docLink = document.createElement('div');\n",
              "        docLink.innerHTML = docLinkHtml;\n",
              "        element.appendChild(docLink);\n",
              "      }\n",
              "    </script>\n",
              "  </div>\n",
              "\n",
              "\n",
              "<div id=\"df-493b57fb-e045-41ad-a173-07a3dcc16e95\">\n",
              "  <button class=\"colab-df-quickchart\" onclick=\"quickchart('df-493b57fb-e045-41ad-a173-07a3dcc16e95')\"\n",
              "            title=\"Suggest charts.\"\n",
              "            style=\"display:none;\">\n",
              "\n",
              "<svg xmlns=\"http://www.w3.org/2000/svg\" height=\"24px\"viewBox=\"0 0 24 24\"\n",
              "     width=\"24px\">\n",
              "    <g>\n",
              "        <path d=\"M19 3H5c-1.1 0-2 .9-2 2v14c0 1.1.9 2 2 2h14c1.1 0 2-.9 2-2V5c0-1.1-.9-2-2-2zM9 17H7v-7h2v7zm4 0h-2V7h2v10zm4 0h-2v-4h2v4z\"/>\n",
              "    </g>\n",
              "</svg>\n",
              "  </button>\n",
              "\n",
              "<style>\n",
              "  .colab-df-quickchart {\n",
              "    background-color: #E8F0FE;\n",
              "    border: none;\n",
              "    border-radius: 50%;\n",
              "    cursor: pointer;\n",
              "    display: none;\n",
              "    fill: #1967D2;\n",
              "    height: 32px;\n",
              "    padding: 0 0 0 0;\n",
              "    width: 32px;\n",
              "  }\n",
              "\n",
              "  .colab-df-quickchart:hover {\n",
              "    background-color: #E2EBFA;\n",
              "    box-shadow: 0px 1px 2px rgba(60, 64, 67, 0.3), 0px 1px 3px 1px rgba(60, 64, 67, 0.15);\n",
              "    fill: #174EA6;\n",
              "  }\n",
              "\n",
              "  [theme=dark] .colab-df-quickchart {\n",
              "    background-color: #3B4455;\n",
              "    fill: #D2E3FC;\n",
              "  }\n",
              "\n",
              "  [theme=dark] .colab-df-quickchart:hover {\n",
              "    background-color: #434B5C;\n",
              "    box-shadow: 0px 1px 3px 1px rgba(0, 0, 0, 0.15);\n",
              "    filter: drop-shadow(0px 1px 2px rgba(0, 0, 0, 0.3));\n",
              "    fill: #FFFFFF;\n",
              "  }\n",
              "</style>\n",
              "\n",
              "  <script>\n",
              "    async function quickchart(key) {\n",
              "      const charts = await google.colab.kernel.invokeFunction(\n",
              "          'suggestCharts', [key], {});\n",
              "    }\n",
              "    (() => {\n",
              "      let quickchartButtonEl =\n",
              "        document.querySelector('#df-493b57fb-e045-41ad-a173-07a3dcc16e95 button');\n",
              "      quickchartButtonEl.style.display =\n",
              "        google.colab.kernel.accessAllowed ? 'block' : 'none';\n",
              "    })();\n",
              "  </script>\n",
              "</div>\n",
              "    </div>\n",
              "  </div>\n"
            ]
          },
          "metadata": {},
          "execution_count": 159
        }
      ]
    },
    {
      "cell_type": "code",
      "source": [
        "df.isnull().mean()"
      ],
      "metadata": {
        "colab": {
          "base_uri": "https://localhost:8080/"
        },
        "id": "bfgo4qtqZZ7D",
        "outputId": "41927969-df94-4238-d0a7-c6e178c2231b"
      },
      "execution_count": null,
      "outputs": [
        {
          "output_type": "execute_result",
          "data": {
            "text/plain": [
              "talk_id                                  0.000000\n",
              "title                                    0.000000\n",
              "speaker_1                                0.000000\n",
              "all_speakers                             0.000999\n",
              "occupations                              0.130337\n",
              "about_speakers                           0.125593\n",
              "views                                    0.000000\n",
              "recorded_date                            0.000250\n",
              "published_date                           0.000000\n",
              "event                                    0.000000\n",
              "native_lang                              0.000000\n",
              "available_lang                           0.000000\n",
              "comments                                 0.163546\n",
              "duration                                 0.000000\n",
              "topics                                   0.000000\n",
              "related_talks                            0.000000\n",
              "url                                      0.000000\n",
              "description                              0.000000\n",
              "transcript                               0.000000\n",
              "published_year                           0.000000\n",
              "published_month                          0.000000\n",
              "published_day                            0.000000\n",
              "comments_mean                            0.000000\n",
              "comments_NAN                             0.000000\n",
              "all_speakers_NAN                         0.000000\n",
              "occupations_NAN                          0.000000\n",
              "about_speakers_NAN                       0.000000\n",
              "comments_end_distribution                0.000000\n",
              "all_speakers_most_frequent_category      0.000000\n",
              "occupations_frequent_category            0.000000\n",
              "about_speakers_most_frequent_category    0.000000\n",
              "dtype: float64"
            ]
          },
          "metadata": {},
          "execution_count": 160
        }
      ]
    },
    {
      "cell_type": "markdown",
      "source": [
        "So there are 2 ways to handle missing categorical values 1: Create NaN with new category and 2 to replace with most frequent category"
      ],
      "metadata": {
        "id": "CIEQrp4Aa5Ff"
      }
    },
    {
      "cell_type": "code",
      "source": [
        "print(\"Total datapoints in data:\",df.shape)\n",
        "df.head(2)"
      ],
      "metadata": {
        "colab": {
          "base_uri": "https://localhost:8080/",
          "height": 317
        },
        "id": "NIoQKTyebIlk",
        "outputId": "78160de7-8a44-49c7-9739-de26fb8d5023"
      },
      "execution_count": null,
      "outputs": [
        {
          "output_type": "stream",
          "name": "stdout",
          "text": [
            "Total datapoints in data: (4005, 31)\n"
          ]
        },
        {
          "output_type": "execute_result",
          "data": {
            "text/plain": [
              "   talk_id                            title     speaker_1  \\\n",
              "0        1      Averting the climate crisis       Al Gore   \n",
              "1       92  The best stats you've ever seen  Hans Rosling   \n",
              "\n",
              "          all_speakers                                    occupations  \\\n",
              "0       {0: 'Al Gore'}                      {0: ['climate advocate']}   \n",
              "1  {0: 'Hans Rosling'}  {0: ['global health expert; data visionary']}   \n",
              "\n",
              "                                      about_speakers     views recorded_date  \\\n",
              "0  {0: 'Nobel Laureate Al Gore focused the world’...   3523392    2006-02-25   \n",
              "1  {0: 'In Hans Rosling’s hands, data sings. Glob...  14501685    2006-02-22   \n",
              "\n",
              "  published_date    event  ... published_day comments_mean  comments_NAN  \\\n",
              "0     2006-06-27  TED2006  ...            27         272.0             0   \n",
              "1     2006-06-27  TED2006  ...            27         628.0             0   \n",
              "\n",
              "   all_speakers_NAN occupations_NAN about_speakers_NAN  \\\n",
              "0                 0               0                  0   \n",
              "1                 0               0                  0   \n",
              "\n",
              "  comments_end_distribution all_speakers_most_frequent_category  \\\n",
              "0                     272.0                      {0: 'Al Gore'}   \n",
              "1                     628.0                 {0: 'Hans Rosling'}   \n",
              "\n",
              "                   occupations_frequent_category  \\\n",
              "0                      {0: ['climate advocate']}   \n",
              "1  {0: ['global health expert; data visionary']}   \n",
              "\n",
              "               about_speakers_most_frequent_category  \n",
              "0  {0: 'Nobel Laureate Al Gore focused the world’...  \n",
              "1  {0: 'In Hans Rosling’s hands, data sings. Glob...  \n",
              "\n",
              "[2 rows x 31 columns]"
            ],
            "text/html": [
              "\n",
              "  <div id=\"df-6960ba13-f219-4238-876a-56bbb8f2bacb\" class=\"colab-df-container\">\n",
              "    <div>\n",
              "<style scoped>\n",
              "    .dataframe tbody tr th:only-of-type {\n",
              "        vertical-align: middle;\n",
              "    }\n",
              "\n",
              "    .dataframe tbody tr th {\n",
              "        vertical-align: top;\n",
              "    }\n",
              "\n",
              "    .dataframe thead th {\n",
              "        text-align: right;\n",
              "    }\n",
              "</style>\n",
              "<table border=\"1\" class=\"dataframe\">\n",
              "  <thead>\n",
              "    <tr style=\"text-align: right;\">\n",
              "      <th></th>\n",
              "      <th>talk_id</th>\n",
              "      <th>title</th>\n",
              "      <th>speaker_1</th>\n",
              "      <th>all_speakers</th>\n",
              "      <th>occupations</th>\n",
              "      <th>about_speakers</th>\n",
              "      <th>views</th>\n",
              "      <th>recorded_date</th>\n",
              "      <th>published_date</th>\n",
              "      <th>event</th>\n",
              "      <th>...</th>\n",
              "      <th>published_day</th>\n",
              "      <th>comments_mean</th>\n",
              "      <th>comments_NAN</th>\n",
              "      <th>all_speakers_NAN</th>\n",
              "      <th>occupations_NAN</th>\n",
              "      <th>about_speakers_NAN</th>\n",
              "      <th>comments_end_distribution</th>\n",
              "      <th>all_speakers_most_frequent_category</th>\n",
              "      <th>occupations_frequent_category</th>\n",
              "      <th>about_speakers_most_frequent_category</th>\n",
              "    </tr>\n",
              "  </thead>\n",
              "  <tbody>\n",
              "    <tr>\n",
              "      <th>0</th>\n",
              "      <td>1</td>\n",
              "      <td>Averting the climate crisis</td>\n",
              "      <td>Al Gore</td>\n",
              "      <td>{0: 'Al Gore'}</td>\n",
              "      <td>{0: ['climate advocate']}</td>\n",
              "      <td>{0: 'Nobel Laureate Al Gore focused the world’...</td>\n",
              "      <td>3523392</td>\n",
              "      <td>2006-02-25</td>\n",
              "      <td>2006-06-27</td>\n",
              "      <td>TED2006</td>\n",
              "      <td>...</td>\n",
              "      <td>27</td>\n",
              "      <td>272.0</td>\n",
              "      <td>0</td>\n",
              "      <td>0</td>\n",
              "      <td>0</td>\n",
              "      <td>0</td>\n",
              "      <td>272.0</td>\n",
              "      <td>{0: 'Al Gore'}</td>\n",
              "      <td>{0: ['climate advocate']}</td>\n",
              "      <td>{0: 'Nobel Laureate Al Gore focused the world’...</td>\n",
              "    </tr>\n",
              "    <tr>\n",
              "      <th>1</th>\n",
              "      <td>92</td>\n",
              "      <td>The best stats you've ever seen</td>\n",
              "      <td>Hans Rosling</td>\n",
              "      <td>{0: 'Hans Rosling'}</td>\n",
              "      <td>{0: ['global health expert; data visionary']}</td>\n",
              "      <td>{0: 'In Hans Rosling’s hands, data sings. Glob...</td>\n",
              "      <td>14501685</td>\n",
              "      <td>2006-02-22</td>\n",
              "      <td>2006-06-27</td>\n",
              "      <td>TED2006</td>\n",
              "      <td>...</td>\n",
              "      <td>27</td>\n",
              "      <td>628.0</td>\n",
              "      <td>0</td>\n",
              "      <td>0</td>\n",
              "      <td>0</td>\n",
              "      <td>0</td>\n",
              "      <td>628.0</td>\n",
              "      <td>{0: 'Hans Rosling'}</td>\n",
              "      <td>{0: ['global health expert; data visionary']}</td>\n",
              "      <td>{0: 'In Hans Rosling’s hands, data sings. Glob...</td>\n",
              "    </tr>\n",
              "  </tbody>\n",
              "</table>\n",
              "<p>2 rows × 31 columns</p>\n",
              "</div>\n",
              "    <div class=\"colab-df-buttons\">\n",
              "\n",
              "  <div class=\"colab-df-container\">\n",
              "    <button class=\"colab-df-convert\" onclick=\"convertToInteractive('df-6960ba13-f219-4238-876a-56bbb8f2bacb')\"\n",
              "            title=\"Convert this dataframe to an interactive table.\"\n",
              "            style=\"display:none;\">\n",
              "\n",
              "  <svg xmlns=\"http://www.w3.org/2000/svg\" height=\"24px\" viewBox=\"0 -960 960 960\">\n",
              "    <path d=\"M120-120v-720h720v720H120Zm60-500h600v-160H180v160Zm220 220h160v-160H400v160Zm0 220h160v-160H400v160ZM180-400h160v-160H180v160Zm440 0h160v-160H620v160ZM180-180h160v-160H180v160Zm440 0h160v-160H620v160Z\"/>\n",
              "  </svg>\n",
              "    </button>\n",
              "\n",
              "  <style>\n",
              "    .colab-df-container {\n",
              "      display:flex;\n",
              "      gap: 12px;\n",
              "    }\n",
              "\n",
              "    .colab-df-convert {\n",
              "      background-color: #E8F0FE;\n",
              "      border: none;\n",
              "      border-radius: 50%;\n",
              "      cursor: pointer;\n",
              "      display: none;\n",
              "      fill: #1967D2;\n",
              "      height: 32px;\n",
              "      padding: 0 0 0 0;\n",
              "      width: 32px;\n",
              "    }\n",
              "\n",
              "    .colab-df-convert:hover {\n",
              "      background-color: #E2EBFA;\n",
              "      box-shadow: 0px 1px 2px rgba(60, 64, 67, 0.3), 0px 1px 3px 1px rgba(60, 64, 67, 0.15);\n",
              "      fill: #174EA6;\n",
              "    }\n",
              "\n",
              "    .colab-df-buttons div {\n",
              "      margin-bottom: 4px;\n",
              "    }\n",
              "\n",
              "    [theme=dark] .colab-df-convert {\n",
              "      background-color: #3B4455;\n",
              "      fill: #D2E3FC;\n",
              "    }\n",
              "\n",
              "    [theme=dark] .colab-df-convert:hover {\n",
              "      background-color: #434B5C;\n",
              "      box-shadow: 0px 1px 3px 1px rgba(0, 0, 0, 0.15);\n",
              "      filter: drop-shadow(0px 1px 2px rgba(0, 0, 0, 0.3));\n",
              "      fill: #FFFFFF;\n",
              "    }\n",
              "  </style>\n",
              "\n",
              "    <script>\n",
              "      const buttonEl =\n",
              "        document.querySelector('#df-6960ba13-f219-4238-876a-56bbb8f2bacb button.colab-df-convert');\n",
              "      buttonEl.style.display =\n",
              "        google.colab.kernel.accessAllowed ? 'block' : 'none';\n",
              "\n",
              "      async function convertToInteractive(key) {\n",
              "        const element = document.querySelector('#df-6960ba13-f219-4238-876a-56bbb8f2bacb');\n",
              "        const dataTable =\n",
              "          await google.colab.kernel.invokeFunction('convertToInteractive',\n",
              "                                                    [key], {});\n",
              "        if (!dataTable) return;\n",
              "\n",
              "        const docLinkHtml = 'Like what you see? Visit the ' +\n",
              "          '<a target=\"_blank\" href=https://colab.research.google.com/notebooks/data_table.ipynb>data table notebook</a>'\n",
              "          + ' to learn more about interactive tables.';\n",
              "        element.innerHTML = '';\n",
              "        dataTable['output_type'] = 'display_data';\n",
              "        await google.colab.output.renderOutput(dataTable, element);\n",
              "        const docLink = document.createElement('div');\n",
              "        docLink.innerHTML = docLinkHtml;\n",
              "        element.appendChild(docLink);\n",
              "      }\n",
              "    </script>\n",
              "  </div>\n",
              "\n",
              "\n",
              "<div id=\"df-432e5265-1d6f-4cf0-8d0b-896cb54fb146\">\n",
              "  <button class=\"colab-df-quickchart\" onclick=\"quickchart('df-432e5265-1d6f-4cf0-8d0b-896cb54fb146')\"\n",
              "            title=\"Suggest charts.\"\n",
              "            style=\"display:none;\">\n",
              "\n",
              "<svg xmlns=\"http://www.w3.org/2000/svg\" height=\"24px\"viewBox=\"0 0 24 24\"\n",
              "     width=\"24px\">\n",
              "    <g>\n",
              "        <path d=\"M19 3H5c-1.1 0-2 .9-2 2v14c0 1.1.9 2 2 2h14c1.1 0 2-.9 2-2V5c0-1.1-.9-2-2-2zM9 17H7v-7h2v7zm4 0h-2V7h2v10zm4 0h-2v-4h2v4z\"/>\n",
              "    </g>\n",
              "</svg>\n",
              "  </button>\n",
              "\n",
              "<style>\n",
              "  .colab-df-quickchart {\n",
              "    background-color: #E8F0FE;\n",
              "    border: none;\n",
              "    border-radius: 50%;\n",
              "    cursor: pointer;\n",
              "    display: none;\n",
              "    fill: #1967D2;\n",
              "    height: 32px;\n",
              "    padding: 0 0 0 0;\n",
              "    width: 32px;\n",
              "  }\n",
              "\n",
              "  .colab-df-quickchart:hover {\n",
              "    background-color: #E2EBFA;\n",
              "    box-shadow: 0px 1px 2px rgba(60, 64, 67, 0.3), 0px 1px 3px 1px rgba(60, 64, 67, 0.15);\n",
              "    fill: #174EA6;\n",
              "  }\n",
              "\n",
              "  [theme=dark] .colab-df-quickchart {\n",
              "    background-color: #3B4455;\n",
              "    fill: #D2E3FC;\n",
              "  }\n",
              "\n",
              "  [theme=dark] .colab-df-quickchart:hover {\n",
              "    background-color: #434B5C;\n",
              "    box-shadow: 0px 1px 3px 1px rgba(0, 0, 0, 0.15);\n",
              "    filter: drop-shadow(0px 1px 2px rgba(0, 0, 0, 0.3));\n",
              "    fill: #FFFFFF;\n",
              "  }\n",
              "</style>\n",
              "\n",
              "  <script>\n",
              "    async function quickchart(key) {\n",
              "      const charts = await google.colab.kernel.invokeFunction(\n",
              "          'suggestCharts', [key], {});\n",
              "    }\n",
              "    (() => {\n",
              "      let quickchartButtonEl =\n",
              "        document.querySelector('#df-432e5265-1d6f-4cf0-8d0b-896cb54fb146 button');\n",
              "      quickchartButtonEl.style.display =\n",
              "        google.colab.kernel.accessAllowed ? 'block' : 'none';\n",
              "    })();\n",
              "  </script>\n",
              "</div>\n",
              "    </div>\n",
              "  </div>\n"
            ]
          },
          "metadata": {},
          "execution_count": 161
        }
      ]
    },
    {
      "cell_type": "markdown",
      "source": [
        "## 3.2 Handle Categorical Features"
      ],
      "metadata": {
        "id": "26QG0Sk8coL-"
      }
    },
    {
      "cell_type": "code",
      "source": [
        "categorical_features = [feature for feature in df.columns if df[feature].dtypes == 'O']\n",
        "categorical_features"
      ],
      "metadata": {
        "colab": {
          "base_uri": "https://localhost:8080/"
        },
        "id": "Zk25TH2zbXRH",
        "outputId": "684330e7-688f-4389-992a-bd088d6def66"
      },
      "execution_count": null,
      "outputs": [
        {
          "output_type": "execute_result",
          "data": {
            "text/plain": [
              "['title',\n",
              " 'speaker_1',\n",
              " 'all_speakers',\n",
              " 'occupations',\n",
              " 'about_speakers',\n",
              " 'recorded_date',\n",
              " 'published_date',\n",
              " 'event',\n",
              " 'native_lang',\n",
              " 'available_lang',\n",
              " 'topics',\n",
              " 'related_talks',\n",
              " 'url',\n",
              " 'description',\n",
              " 'transcript',\n",
              " 'all_speakers_most_frequent_category',\n",
              " 'occupations_frequent_category',\n",
              " 'about_speakers_most_frequent_category']"
            ]
          },
          "metadata": {},
          "execution_count": 162
        }
      ]
    },
    {
      "cell_type": "code",
      "source": [
        "df[categorical_features].head(3)"
      ],
      "metadata": {
        "colab": {
          "base_uri": "https://localhost:8080/",
          "height": 371
        },
        "id": "tRlbUx2qdWd_",
        "outputId": "a9d0dfc8-1f6e-48b0-e179-a9df4586c1b1"
      },
      "execution_count": null,
      "outputs": [
        {
          "output_type": "execute_result",
          "data": {
            "text/plain": [
              "                             title     speaker_1         all_speakers  \\\n",
              "0      Averting the climate crisis       Al Gore       {0: 'Al Gore'}   \n",
              "1  The best stats you've ever seen  Hans Rosling  {0: 'Hans Rosling'}   \n",
              "2                 Simplicity sells   David Pogue   {0: 'David Pogue'}   \n",
              "\n",
              "                                     occupations  \\\n",
              "0                      {0: ['climate advocate']}   \n",
              "1  {0: ['global health expert; data visionary']}   \n",
              "2                  {0: ['technology columnist']}   \n",
              "\n",
              "                                      about_speakers recorded_date  \\\n",
              "0  {0: 'Nobel Laureate Al Gore focused the world’...    2006-02-25   \n",
              "1  {0: 'In Hans Rosling’s hands, data sings. Glob...    2006-02-22   \n",
              "2  {0: 'David Pogue is the personal technology co...    2006-02-24   \n",
              "\n",
              "  published_date    event native_lang  \\\n",
              "0     2006-06-27  TED2006          en   \n",
              "1     2006-06-27  TED2006          en   \n",
              "2     2006-06-27  TED2006          en   \n",
              "\n",
              "                                      available_lang  \\\n",
              "0  ['ar', 'bg', 'cs', 'de', 'el', 'en', 'es', 'fa...   \n",
              "1  ['ar', 'az', 'bg', 'bn', 'bs', 'cs', 'da', 'de...   \n",
              "2  ['ar', 'bg', 'de', 'el', 'en', 'es', 'fa', 'fr...   \n",
              "\n",
              "                                              topics  \\\n",
              "0  ['alternative energy', 'cars', 'climate change...   \n",
              "1  ['Africa', 'Asia', 'Google', 'demo', 'economic...   \n",
              "2  ['computers', 'entertainment', 'interface desi...   \n",
              "\n",
              "                                       related_talks  \\\n",
              "0  {243: 'New thinking on the climate crisis', 54...   \n",
              "1  {2056: \"Own your body's data\", 2296: 'A visual...   \n",
              "2  {1725: '10 top time-saving tech tips', 2274: '...   \n",
              "\n",
              "                                                 url  \\\n",
              "0  https://www.ted.com/talks/al_gore_averting_the...   \n",
              "1  https://www.ted.com/talks/hans_rosling_the_bes...   \n",
              "2  https://www.ted.com/talks/david_pogue_simplici...   \n",
              "\n",
              "                                         description  \\\n",
              "0  With the same humor and humanity he exuded in ...   \n",
              "1  You've never seen data presented like this. Wi...   \n",
              "2  New York Times columnist David Pogue takes aim...   \n",
              "\n",
              "                                          transcript  \\\n",
              "0  Thank you so much, Chris. And it's truly a gre...   \n",
              "1  About 10 years ago, I took on the task to teac...   \n",
              "2  (Music: \"The Sound of Silence,\" Simon & Garfun...   \n",
              "\n",
              "  all_speakers_most_frequent_category  \\\n",
              "0                      {0: 'Al Gore'}   \n",
              "1                 {0: 'Hans Rosling'}   \n",
              "2                  {0: 'David Pogue'}   \n",
              "\n",
              "                   occupations_frequent_category  \\\n",
              "0                      {0: ['climate advocate']}   \n",
              "1  {0: ['global health expert; data visionary']}   \n",
              "2                  {0: ['technology columnist']}   \n",
              "\n",
              "               about_speakers_most_frequent_category  \n",
              "0  {0: 'Nobel Laureate Al Gore focused the world’...  \n",
              "1  {0: 'In Hans Rosling’s hands, data sings. Glob...  \n",
              "2  {0: 'David Pogue is the personal technology co...  "
            ],
            "text/html": [
              "\n",
              "  <div id=\"df-cda0dbc6-e75f-40e3-bffb-6ee2750ee37a\" class=\"colab-df-container\">\n",
              "    <div>\n",
              "<style scoped>\n",
              "    .dataframe tbody tr th:only-of-type {\n",
              "        vertical-align: middle;\n",
              "    }\n",
              "\n",
              "    .dataframe tbody tr th {\n",
              "        vertical-align: top;\n",
              "    }\n",
              "\n",
              "    .dataframe thead th {\n",
              "        text-align: right;\n",
              "    }\n",
              "</style>\n",
              "<table border=\"1\" class=\"dataframe\">\n",
              "  <thead>\n",
              "    <tr style=\"text-align: right;\">\n",
              "      <th></th>\n",
              "      <th>title</th>\n",
              "      <th>speaker_1</th>\n",
              "      <th>all_speakers</th>\n",
              "      <th>occupations</th>\n",
              "      <th>about_speakers</th>\n",
              "      <th>recorded_date</th>\n",
              "      <th>published_date</th>\n",
              "      <th>event</th>\n",
              "      <th>native_lang</th>\n",
              "      <th>available_lang</th>\n",
              "      <th>topics</th>\n",
              "      <th>related_talks</th>\n",
              "      <th>url</th>\n",
              "      <th>description</th>\n",
              "      <th>transcript</th>\n",
              "      <th>all_speakers_most_frequent_category</th>\n",
              "      <th>occupations_frequent_category</th>\n",
              "      <th>about_speakers_most_frequent_category</th>\n",
              "    </tr>\n",
              "  </thead>\n",
              "  <tbody>\n",
              "    <tr>\n",
              "      <th>0</th>\n",
              "      <td>Averting the climate crisis</td>\n",
              "      <td>Al Gore</td>\n",
              "      <td>{0: 'Al Gore'}</td>\n",
              "      <td>{0: ['climate advocate']}</td>\n",
              "      <td>{0: 'Nobel Laureate Al Gore focused the world’...</td>\n",
              "      <td>2006-02-25</td>\n",
              "      <td>2006-06-27</td>\n",
              "      <td>TED2006</td>\n",
              "      <td>en</td>\n",
              "      <td>['ar', 'bg', 'cs', 'de', 'el', 'en', 'es', 'fa...</td>\n",
              "      <td>['alternative energy', 'cars', 'climate change...</td>\n",
              "      <td>{243: 'New thinking on the climate crisis', 54...</td>\n",
              "      <td>https://www.ted.com/talks/al_gore_averting_the...</td>\n",
              "      <td>With the same humor and humanity he exuded in ...</td>\n",
              "      <td>Thank you so much, Chris. And it's truly a gre...</td>\n",
              "      <td>{0: 'Al Gore'}</td>\n",
              "      <td>{0: ['climate advocate']}</td>\n",
              "      <td>{0: 'Nobel Laureate Al Gore focused the world’...</td>\n",
              "    </tr>\n",
              "    <tr>\n",
              "      <th>1</th>\n",
              "      <td>The best stats you've ever seen</td>\n",
              "      <td>Hans Rosling</td>\n",
              "      <td>{0: 'Hans Rosling'}</td>\n",
              "      <td>{0: ['global health expert; data visionary']}</td>\n",
              "      <td>{0: 'In Hans Rosling’s hands, data sings. Glob...</td>\n",
              "      <td>2006-02-22</td>\n",
              "      <td>2006-06-27</td>\n",
              "      <td>TED2006</td>\n",
              "      <td>en</td>\n",
              "      <td>['ar', 'az', 'bg', 'bn', 'bs', 'cs', 'da', 'de...</td>\n",
              "      <td>['Africa', 'Asia', 'Google', 'demo', 'economic...</td>\n",
              "      <td>{2056: \"Own your body's data\", 2296: 'A visual...</td>\n",
              "      <td>https://www.ted.com/talks/hans_rosling_the_bes...</td>\n",
              "      <td>You've never seen data presented like this. Wi...</td>\n",
              "      <td>About 10 years ago, I took on the task to teac...</td>\n",
              "      <td>{0: 'Hans Rosling'}</td>\n",
              "      <td>{0: ['global health expert; data visionary']}</td>\n",
              "      <td>{0: 'In Hans Rosling’s hands, data sings. Glob...</td>\n",
              "    </tr>\n",
              "    <tr>\n",
              "      <th>2</th>\n",
              "      <td>Simplicity sells</td>\n",
              "      <td>David Pogue</td>\n",
              "      <td>{0: 'David Pogue'}</td>\n",
              "      <td>{0: ['technology columnist']}</td>\n",
              "      <td>{0: 'David Pogue is the personal technology co...</td>\n",
              "      <td>2006-02-24</td>\n",
              "      <td>2006-06-27</td>\n",
              "      <td>TED2006</td>\n",
              "      <td>en</td>\n",
              "      <td>['ar', 'bg', 'de', 'el', 'en', 'es', 'fa', 'fr...</td>\n",
              "      <td>['computers', 'entertainment', 'interface desi...</td>\n",
              "      <td>{1725: '10 top time-saving tech tips', 2274: '...</td>\n",
              "      <td>https://www.ted.com/talks/david_pogue_simplici...</td>\n",
              "      <td>New York Times columnist David Pogue takes aim...</td>\n",
              "      <td>(Music: \"The Sound of Silence,\" Simon &amp; Garfun...</td>\n",
              "      <td>{0: 'David Pogue'}</td>\n",
              "      <td>{0: ['technology columnist']}</td>\n",
              "      <td>{0: 'David Pogue is the personal technology co...</td>\n",
              "    </tr>\n",
              "  </tbody>\n",
              "</table>\n",
              "</div>\n",
              "    <div class=\"colab-df-buttons\">\n",
              "\n",
              "  <div class=\"colab-df-container\">\n",
              "    <button class=\"colab-df-convert\" onclick=\"convertToInteractive('df-cda0dbc6-e75f-40e3-bffb-6ee2750ee37a')\"\n",
              "            title=\"Convert this dataframe to an interactive table.\"\n",
              "            style=\"display:none;\">\n",
              "\n",
              "  <svg xmlns=\"http://www.w3.org/2000/svg\" height=\"24px\" viewBox=\"0 -960 960 960\">\n",
              "    <path d=\"M120-120v-720h720v720H120Zm60-500h600v-160H180v160Zm220 220h160v-160H400v160Zm0 220h160v-160H400v160ZM180-400h160v-160H180v160Zm440 0h160v-160H620v160ZM180-180h160v-160H180v160Zm440 0h160v-160H620v160Z\"/>\n",
              "  </svg>\n",
              "    </button>\n",
              "\n",
              "  <style>\n",
              "    .colab-df-container {\n",
              "      display:flex;\n",
              "      gap: 12px;\n",
              "    }\n",
              "\n",
              "    .colab-df-convert {\n",
              "      background-color: #E8F0FE;\n",
              "      border: none;\n",
              "      border-radius: 50%;\n",
              "      cursor: pointer;\n",
              "      display: none;\n",
              "      fill: #1967D2;\n",
              "      height: 32px;\n",
              "      padding: 0 0 0 0;\n",
              "      width: 32px;\n",
              "    }\n",
              "\n",
              "    .colab-df-convert:hover {\n",
              "      background-color: #E2EBFA;\n",
              "      box-shadow: 0px 1px 2px rgba(60, 64, 67, 0.3), 0px 1px 3px 1px rgba(60, 64, 67, 0.15);\n",
              "      fill: #174EA6;\n",
              "    }\n",
              "\n",
              "    .colab-df-buttons div {\n",
              "      margin-bottom: 4px;\n",
              "    }\n",
              "\n",
              "    [theme=dark] .colab-df-convert {\n",
              "      background-color: #3B4455;\n",
              "      fill: #D2E3FC;\n",
              "    }\n",
              "\n",
              "    [theme=dark] .colab-df-convert:hover {\n",
              "      background-color: #434B5C;\n",
              "      box-shadow: 0px 1px 3px 1px rgba(0, 0, 0, 0.15);\n",
              "      filter: drop-shadow(0px 1px 2px rgba(0, 0, 0, 0.3));\n",
              "      fill: #FFFFFF;\n",
              "    }\n",
              "  </style>\n",
              "\n",
              "    <script>\n",
              "      const buttonEl =\n",
              "        document.querySelector('#df-cda0dbc6-e75f-40e3-bffb-6ee2750ee37a button.colab-df-convert');\n",
              "      buttonEl.style.display =\n",
              "        google.colab.kernel.accessAllowed ? 'block' : 'none';\n",
              "\n",
              "      async function convertToInteractive(key) {\n",
              "        const element = document.querySelector('#df-cda0dbc6-e75f-40e3-bffb-6ee2750ee37a');\n",
              "        const dataTable =\n",
              "          await google.colab.kernel.invokeFunction('convertToInteractive',\n",
              "                                                    [key], {});\n",
              "        if (!dataTable) return;\n",
              "\n",
              "        const docLinkHtml = 'Like what you see? Visit the ' +\n",
              "          '<a target=\"_blank\" href=https://colab.research.google.com/notebooks/data_table.ipynb>data table notebook</a>'\n",
              "          + ' to learn more about interactive tables.';\n",
              "        element.innerHTML = '';\n",
              "        dataTable['output_type'] = 'display_data';\n",
              "        await google.colab.output.renderOutput(dataTable, element);\n",
              "        const docLink = document.createElement('div');\n",
              "        docLink.innerHTML = docLinkHtml;\n",
              "        element.appendChild(docLink);\n",
              "      }\n",
              "    </script>\n",
              "  </div>\n",
              "\n",
              "\n",
              "<div id=\"df-554810f8-7590-454a-a169-d9f1ca98b99d\">\n",
              "  <button class=\"colab-df-quickchart\" onclick=\"quickchart('df-554810f8-7590-454a-a169-d9f1ca98b99d')\"\n",
              "            title=\"Suggest charts.\"\n",
              "            style=\"display:none;\">\n",
              "\n",
              "<svg xmlns=\"http://www.w3.org/2000/svg\" height=\"24px\"viewBox=\"0 0 24 24\"\n",
              "     width=\"24px\">\n",
              "    <g>\n",
              "        <path d=\"M19 3H5c-1.1 0-2 .9-2 2v14c0 1.1.9 2 2 2h14c1.1 0 2-.9 2-2V5c0-1.1-.9-2-2-2zM9 17H7v-7h2v7zm4 0h-2V7h2v10zm4 0h-2v-4h2v4z\"/>\n",
              "    </g>\n",
              "</svg>\n",
              "  </button>\n",
              "\n",
              "<style>\n",
              "  .colab-df-quickchart {\n",
              "    background-color: #E8F0FE;\n",
              "    border: none;\n",
              "    border-radius: 50%;\n",
              "    cursor: pointer;\n",
              "    display: none;\n",
              "    fill: #1967D2;\n",
              "    height: 32px;\n",
              "    padding: 0 0 0 0;\n",
              "    width: 32px;\n",
              "  }\n",
              "\n",
              "  .colab-df-quickchart:hover {\n",
              "    background-color: #E2EBFA;\n",
              "    box-shadow: 0px 1px 2px rgba(60, 64, 67, 0.3), 0px 1px 3px 1px rgba(60, 64, 67, 0.15);\n",
              "    fill: #174EA6;\n",
              "  }\n",
              "\n",
              "  [theme=dark] .colab-df-quickchart {\n",
              "    background-color: #3B4455;\n",
              "    fill: #D2E3FC;\n",
              "  }\n",
              "\n",
              "  [theme=dark] .colab-df-quickchart:hover {\n",
              "    background-color: #434B5C;\n",
              "    box-shadow: 0px 1px 3px 1px rgba(0, 0, 0, 0.15);\n",
              "    filter: drop-shadow(0px 1px 2px rgba(0, 0, 0, 0.3));\n",
              "    fill: #FFFFFF;\n",
              "  }\n",
              "</style>\n",
              "\n",
              "  <script>\n",
              "    async function quickchart(key) {\n",
              "      const charts = await google.colab.kernel.invokeFunction(\n",
              "          'suggestCharts', [key], {});\n",
              "    }\n",
              "    (() => {\n",
              "      let quickchartButtonEl =\n",
              "        document.querySelector('#df-554810f8-7590-454a-a169-d9f1ca98b99d button');\n",
              "      quickchartButtonEl.style.display =\n",
              "        google.colab.kernel.accessAllowed ? 'block' : 'none';\n",
              "    })();\n",
              "  </script>\n",
              "</div>\n",
              "    </div>\n",
              "  </div>\n"
            ]
          },
          "metadata": {},
          "execution_count": 163
        }
      ]
    },
    {
      "cell_type": "code",
      "source": [
        "for feature in categorical_features:\n",
        "    print('Uniuqe categorical values in each feature are :',feature,'=',len(df[feature].unique()))"
      ],
      "metadata": {
        "colab": {
          "base_uri": "https://localhost:8080/"
        },
        "id": "-eQYImUtkHYG",
        "outputId": "156801f6-cbe4-46f1-8207-5e37980e3650"
      },
      "execution_count": null,
      "outputs": [
        {
          "output_type": "stream",
          "name": "stdout",
          "text": [
            "Uniuqe categorical values in each feature are : title = 4005\n",
            "Uniuqe categorical values in each feature are : speaker_1 = 3274\n",
            "Uniuqe categorical values in each feature are : all_speakers = 3307\n",
            "Uniuqe categorical values in each feature are : occupations = 2050\n",
            "Uniuqe categorical values in each feature are : about_speakers = 2978\n",
            "Uniuqe categorical values in each feature are : recorded_date = 1335\n",
            "Uniuqe categorical values in each feature are : published_date = 2962\n",
            "Uniuqe categorical values in each feature are : event = 459\n",
            "Uniuqe categorical values in each feature are : native_lang = 12\n",
            "Uniuqe categorical values in each feature are : available_lang = 3902\n",
            "Uniuqe categorical values in each feature are : topics = 3977\n",
            "Uniuqe categorical values in each feature are : related_talks = 4005\n",
            "Uniuqe categorical values in each feature are : url = 4005\n",
            "Uniuqe categorical values in each feature are : description = 4005\n",
            "Uniuqe categorical values in each feature are : transcript = 4005\n",
            "Uniuqe categorical values in each feature are : all_speakers_most_frequent_category = 3306\n",
            "Uniuqe categorical values in each feature are : occupations_frequent_category = 2049\n",
            "Uniuqe categorical values in each feature are : about_speakers_most_frequent_category = 2977\n"
          ]
        }
      ]
    },
    {
      "cell_type": "markdown",
      "source": [
        "<h3> 3.3 Most frequent & popular event category</h3>"
      ],
      "metadata": {
        "id": "lFeVnEE7lT07"
      }
    },
    {
      "cell_type": "code",
      "source": [
        "df['event'].nunique()"
      ],
      "metadata": {
        "colab": {
          "base_uri": "https://localhost:8080/"
        },
        "id": "2QpZFN_AkSwS",
        "outputId": "6ef184f7-135f-4ea9-cfb3-4d8ac34fdde1"
      },
      "execution_count": null,
      "outputs": [
        {
          "output_type": "execute_result",
          "data": {
            "text/plain": [
              "459"
            ]
          },
          "metadata": {},
          "execution_count": 165
        }
      ]
    },
    {
      "cell_type": "markdown",
      "source": [
        "This is the issue of high cardinality.Because this may led to curse of dimensionality"
      ],
      "metadata": {
        "id": "vWAJ57Fjlsam"
      }
    },
    {
      "cell_type": "code",
      "source": [
        "df['event'].value_counts().head(10)"
      ],
      "metadata": {
        "colab": {
          "base_uri": "https://localhost:8080/"
        },
        "id": "Lc1Y-ln7ll_u",
        "outputId": "b07c93b1-2acc-43d5-fb39-cf73659afca5"
      },
      "execution_count": null,
      "outputs": [
        {
          "output_type": "execute_result",
          "data": {
            "text/plain": [
              "TED-Ed            556\n",
              "TED2018            96\n",
              "TED2017            96\n",
              "TED2019            91\n",
              "TED2014            84\n",
              "TED2009            81\n",
              "TED2016            75\n",
              "TED2013            75\n",
              "TED2015            75\n",
              "TEDGlobal 2012     70\n",
              "Name: event, dtype: int64"
            ]
          },
          "metadata": {},
          "execution_count": 166
        }
      ]
    },
    {
      "cell_type": "markdown",
      "source": [
        "TED-Ed is the only event which is repeated most number of time as compared to other events"
      ],
      "metadata": {
        "id": "9-kRhgIXqO1S"
      }
    },
    {
      "cell_type": "markdown",
      "source": [
        "#### 1. Count_frequency_encoding is one of the technique which help to reduce the cardinality issue where we can choose a threshold."
      ],
      "metadata": {
        "id": "tQno1f17pJlN"
      }
    },
    {
      "cell_type": "code",
      "source": [
        "df_frequency_map = df.event.value_counts().to_dict()"
      ],
      "metadata": {
        "id": "CcdXmja0pLot"
      },
      "execution_count": null,
      "outputs": []
    },
    {
      "cell_type": "code",
      "source": [
        "df['event_counts'] = df.event\n",
        "df.event_counts = df.event_counts.map(df_frequency_map)\n",
        "\n",
        "df.head(1)"
      ],
      "metadata": {
        "colab": {
          "base_uri": "https://localhost:8080/",
          "height": 182
        },
        "id": "IblR-th4pcFq",
        "outputId": "ff9608f1-2912-435b-90bb-7a92708db5cb"
      },
      "execution_count": null,
      "outputs": [
        {
          "output_type": "execute_result",
          "data": {
            "text/plain": [
              "   talk_id                        title speaker_1    all_speakers  \\\n",
              "0        1  Averting the climate crisis   Al Gore  {0: 'Al Gore'}   \n",
              "\n",
              "                 occupations  \\\n",
              "0  {0: ['climate advocate']}   \n",
              "\n",
              "                                      about_speakers    views recorded_date  \\\n",
              "0  {0: 'Nobel Laureate Al Gore focused the world’...  3523392    2006-02-25   \n",
              "\n",
              "  published_date    event  ... comments_mean comments_NAN  all_speakers_NAN  \\\n",
              "0     2006-06-27  TED2006  ...         272.0            0                 0   \n",
              "\n",
              "   occupations_NAN about_speakers_NAN comments_end_distribution  \\\n",
              "0                0                  0                     272.0   \n",
              "\n",
              "  all_speakers_most_frequent_category occupations_frequent_category  \\\n",
              "0                      {0: 'Al Gore'}     {0: ['climate advocate']}   \n",
              "\n",
              "               about_speakers_most_frequent_category  event_counts  \n",
              "0  {0: 'Nobel Laureate Al Gore focused the world’...            42  \n",
              "\n",
              "[1 rows x 32 columns]"
            ],
            "text/html": [
              "\n",
              "  <div id=\"df-4e63e62c-cd11-4b3b-9c0a-ad1f1b4c2570\" class=\"colab-df-container\">\n",
              "    <div>\n",
              "<style scoped>\n",
              "    .dataframe tbody tr th:only-of-type {\n",
              "        vertical-align: middle;\n",
              "    }\n",
              "\n",
              "    .dataframe tbody tr th {\n",
              "        vertical-align: top;\n",
              "    }\n",
              "\n",
              "    .dataframe thead th {\n",
              "        text-align: right;\n",
              "    }\n",
              "</style>\n",
              "<table border=\"1\" class=\"dataframe\">\n",
              "  <thead>\n",
              "    <tr style=\"text-align: right;\">\n",
              "      <th></th>\n",
              "      <th>talk_id</th>\n",
              "      <th>title</th>\n",
              "      <th>speaker_1</th>\n",
              "      <th>all_speakers</th>\n",
              "      <th>occupations</th>\n",
              "      <th>about_speakers</th>\n",
              "      <th>views</th>\n",
              "      <th>recorded_date</th>\n",
              "      <th>published_date</th>\n",
              "      <th>event</th>\n",
              "      <th>...</th>\n",
              "      <th>comments_mean</th>\n",
              "      <th>comments_NAN</th>\n",
              "      <th>all_speakers_NAN</th>\n",
              "      <th>occupations_NAN</th>\n",
              "      <th>about_speakers_NAN</th>\n",
              "      <th>comments_end_distribution</th>\n",
              "      <th>all_speakers_most_frequent_category</th>\n",
              "      <th>occupations_frequent_category</th>\n",
              "      <th>about_speakers_most_frequent_category</th>\n",
              "      <th>event_counts</th>\n",
              "    </tr>\n",
              "  </thead>\n",
              "  <tbody>\n",
              "    <tr>\n",
              "      <th>0</th>\n",
              "      <td>1</td>\n",
              "      <td>Averting the climate crisis</td>\n",
              "      <td>Al Gore</td>\n",
              "      <td>{0: 'Al Gore'}</td>\n",
              "      <td>{0: ['climate advocate']}</td>\n",
              "      <td>{0: 'Nobel Laureate Al Gore focused the world’...</td>\n",
              "      <td>3523392</td>\n",
              "      <td>2006-02-25</td>\n",
              "      <td>2006-06-27</td>\n",
              "      <td>TED2006</td>\n",
              "      <td>...</td>\n",
              "      <td>272.0</td>\n",
              "      <td>0</td>\n",
              "      <td>0</td>\n",
              "      <td>0</td>\n",
              "      <td>0</td>\n",
              "      <td>272.0</td>\n",
              "      <td>{0: 'Al Gore'}</td>\n",
              "      <td>{0: ['climate advocate']}</td>\n",
              "      <td>{0: 'Nobel Laureate Al Gore focused the world’...</td>\n",
              "      <td>42</td>\n",
              "    </tr>\n",
              "  </tbody>\n",
              "</table>\n",
              "<p>1 rows × 32 columns</p>\n",
              "</div>\n",
              "    <div class=\"colab-df-buttons\">\n",
              "\n",
              "  <div class=\"colab-df-container\">\n",
              "    <button class=\"colab-df-convert\" onclick=\"convertToInteractive('df-4e63e62c-cd11-4b3b-9c0a-ad1f1b4c2570')\"\n",
              "            title=\"Convert this dataframe to an interactive table.\"\n",
              "            style=\"display:none;\">\n",
              "\n",
              "  <svg xmlns=\"http://www.w3.org/2000/svg\" height=\"24px\" viewBox=\"0 -960 960 960\">\n",
              "    <path d=\"M120-120v-720h720v720H120Zm60-500h600v-160H180v160Zm220 220h160v-160H400v160Zm0 220h160v-160H400v160ZM180-400h160v-160H180v160Zm440 0h160v-160H620v160ZM180-180h160v-160H180v160Zm440 0h160v-160H620v160Z\"/>\n",
              "  </svg>\n",
              "    </button>\n",
              "\n",
              "  <style>\n",
              "    .colab-df-container {\n",
              "      display:flex;\n",
              "      gap: 12px;\n",
              "    }\n",
              "\n",
              "    .colab-df-convert {\n",
              "      background-color: #E8F0FE;\n",
              "      border: none;\n",
              "      border-radius: 50%;\n",
              "      cursor: pointer;\n",
              "      display: none;\n",
              "      fill: #1967D2;\n",
              "      height: 32px;\n",
              "      padding: 0 0 0 0;\n",
              "      width: 32px;\n",
              "    }\n",
              "\n",
              "    .colab-df-convert:hover {\n",
              "      background-color: #E2EBFA;\n",
              "      box-shadow: 0px 1px 2px rgba(60, 64, 67, 0.3), 0px 1px 3px 1px rgba(60, 64, 67, 0.15);\n",
              "      fill: #174EA6;\n",
              "    }\n",
              "\n",
              "    .colab-df-buttons div {\n",
              "      margin-bottom: 4px;\n",
              "    }\n",
              "\n",
              "    [theme=dark] .colab-df-convert {\n",
              "      background-color: #3B4455;\n",
              "      fill: #D2E3FC;\n",
              "    }\n",
              "\n",
              "    [theme=dark] .colab-df-convert:hover {\n",
              "      background-color: #434B5C;\n",
              "      box-shadow: 0px 1px 3px 1px rgba(0, 0, 0, 0.15);\n",
              "      filter: drop-shadow(0px 1px 2px rgba(0, 0, 0, 0.3));\n",
              "      fill: #FFFFFF;\n",
              "    }\n",
              "  </style>\n",
              "\n",
              "    <script>\n",
              "      const buttonEl =\n",
              "        document.querySelector('#df-4e63e62c-cd11-4b3b-9c0a-ad1f1b4c2570 button.colab-df-convert');\n",
              "      buttonEl.style.display =\n",
              "        google.colab.kernel.accessAllowed ? 'block' : 'none';\n",
              "\n",
              "      async function convertToInteractive(key) {\n",
              "        const element = document.querySelector('#df-4e63e62c-cd11-4b3b-9c0a-ad1f1b4c2570');\n",
              "        const dataTable =\n",
              "          await google.colab.kernel.invokeFunction('convertToInteractive',\n",
              "                                                    [key], {});\n",
              "        if (!dataTable) return;\n",
              "\n",
              "        const docLinkHtml = 'Like what you see? Visit the ' +\n",
              "          '<a target=\"_blank\" href=https://colab.research.google.com/notebooks/data_table.ipynb>data table notebook</a>'\n",
              "          + ' to learn more about interactive tables.';\n",
              "        element.innerHTML = '';\n",
              "        dataTable['output_type'] = 'display_data';\n",
              "        await google.colab.output.renderOutput(dataTable, element);\n",
              "        const docLink = document.createElement('div');\n",
              "        docLink.innerHTML = docLinkHtml;\n",
              "        element.appendChild(docLink);\n",
              "      }\n",
              "    </script>\n",
              "  </div>\n",
              "\n",
              "\n",
              "<div id=\"df-4a2824b6-a1c3-4bd6-bd95-c09a2a1d446d\">\n",
              "  <button class=\"colab-df-quickchart\" onclick=\"quickchart('df-4a2824b6-a1c3-4bd6-bd95-c09a2a1d446d')\"\n",
              "            title=\"Suggest charts.\"\n",
              "            style=\"display:none;\">\n",
              "\n",
              "<svg xmlns=\"http://www.w3.org/2000/svg\" height=\"24px\"viewBox=\"0 0 24 24\"\n",
              "     width=\"24px\">\n",
              "    <g>\n",
              "        <path d=\"M19 3H5c-1.1 0-2 .9-2 2v14c0 1.1.9 2 2 2h14c1.1 0 2-.9 2-2V5c0-1.1-.9-2-2-2zM9 17H7v-7h2v7zm4 0h-2V7h2v10zm4 0h-2v-4h2v4z\"/>\n",
              "    </g>\n",
              "</svg>\n",
              "  </button>\n",
              "\n",
              "<style>\n",
              "  .colab-df-quickchart {\n",
              "    background-color: #E8F0FE;\n",
              "    border: none;\n",
              "    border-radius: 50%;\n",
              "    cursor: pointer;\n",
              "    display: none;\n",
              "    fill: #1967D2;\n",
              "    height: 32px;\n",
              "    padding: 0 0 0 0;\n",
              "    width: 32px;\n",
              "  }\n",
              "\n",
              "  .colab-df-quickchart:hover {\n",
              "    background-color: #E2EBFA;\n",
              "    box-shadow: 0px 1px 2px rgba(60, 64, 67, 0.3), 0px 1px 3px 1px rgba(60, 64, 67, 0.15);\n",
              "    fill: #174EA6;\n",
              "  }\n",
              "\n",
              "  [theme=dark] .colab-df-quickchart {\n",
              "    background-color: #3B4455;\n",
              "    fill: #D2E3FC;\n",
              "  }\n",
              "\n",
              "  [theme=dark] .colab-df-quickchart:hover {\n",
              "    background-color: #434B5C;\n",
              "    box-shadow: 0px 1px 3px 1px rgba(0, 0, 0, 0.15);\n",
              "    filter: drop-shadow(0px 1px 2px rgba(0, 0, 0, 0.3));\n",
              "    fill: #FFFFFF;\n",
              "  }\n",
              "</style>\n",
              "\n",
              "  <script>\n",
              "    async function quickchart(key) {\n",
              "      const charts = await google.colab.kernel.invokeFunction(\n",
              "          'suggestCharts', [key], {});\n",
              "    }\n",
              "    (() => {\n",
              "      let quickchartButtonEl =\n",
              "        document.querySelector('#df-4a2824b6-a1c3-4bd6-bd95-c09a2a1d446d button');\n",
              "      quickchartButtonEl.style.display =\n",
              "        google.colab.kernel.accessAllowed ? 'block' : 'none';\n",
              "    })();\n",
              "  </script>\n",
              "</div>\n",
              "    </div>\n",
              "  </div>\n"
            ]
          },
          "metadata": {},
          "execution_count": 168
        }
      ]
    },
    {
      "cell_type": "code",
      "source": [
        "df[['event','event_counts']].tail()"
      ],
      "metadata": {
        "colab": {
          "base_uri": "https://localhost:8080/",
          "height": 206
        },
        "id": "VnbrN16tpjro",
        "outputId": "968c5f0f-1fe1-4d0e-b5e7-5366c808b12d"
      },
      "execution_count": null,
      "outputs": [
        {
          "output_type": "execute_result",
          "data": {
            "text/plain": [
              "                     event  event_counts\n",
              "4000  TED2020: The Prequel             4\n",
              "4001                TED-Ed           556\n",
              "4002          TEDxMileHigh            21\n",
              "4003                TED-Ed           556\n",
              "4004                TED-Ed           556"
            ],
            "text/html": [
              "\n",
              "  <div id=\"df-78b481e2-7556-4004-bb53-8945a9e23408\" class=\"colab-df-container\">\n",
              "    <div>\n",
              "<style scoped>\n",
              "    .dataframe tbody tr th:only-of-type {\n",
              "        vertical-align: middle;\n",
              "    }\n",
              "\n",
              "    .dataframe tbody tr th {\n",
              "        vertical-align: top;\n",
              "    }\n",
              "\n",
              "    .dataframe thead th {\n",
              "        text-align: right;\n",
              "    }\n",
              "</style>\n",
              "<table border=\"1\" class=\"dataframe\">\n",
              "  <thead>\n",
              "    <tr style=\"text-align: right;\">\n",
              "      <th></th>\n",
              "      <th>event</th>\n",
              "      <th>event_counts</th>\n",
              "    </tr>\n",
              "  </thead>\n",
              "  <tbody>\n",
              "    <tr>\n",
              "      <th>4000</th>\n",
              "      <td>TED2020: The Prequel</td>\n",
              "      <td>4</td>\n",
              "    </tr>\n",
              "    <tr>\n",
              "      <th>4001</th>\n",
              "      <td>TED-Ed</td>\n",
              "      <td>556</td>\n",
              "    </tr>\n",
              "    <tr>\n",
              "      <th>4002</th>\n",
              "      <td>TEDxMileHigh</td>\n",
              "      <td>21</td>\n",
              "    </tr>\n",
              "    <tr>\n",
              "      <th>4003</th>\n",
              "      <td>TED-Ed</td>\n",
              "      <td>556</td>\n",
              "    </tr>\n",
              "    <tr>\n",
              "      <th>4004</th>\n",
              "      <td>TED-Ed</td>\n",
              "      <td>556</td>\n",
              "    </tr>\n",
              "  </tbody>\n",
              "</table>\n",
              "</div>\n",
              "    <div class=\"colab-df-buttons\">\n",
              "\n",
              "  <div class=\"colab-df-container\">\n",
              "    <button class=\"colab-df-convert\" onclick=\"convertToInteractive('df-78b481e2-7556-4004-bb53-8945a9e23408')\"\n",
              "            title=\"Convert this dataframe to an interactive table.\"\n",
              "            style=\"display:none;\">\n",
              "\n",
              "  <svg xmlns=\"http://www.w3.org/2000/svg\" height=\"24px\" viewBox=\"0 -960 960 960\">\n",
              "    <path d=\"M120-120v-720h720v720H120Zm60-500h600v-160H180v160Zm220 220h160v-160H400v160Zm0 220h160v-160H400v160ZM180-400h160v-160H180v160Zm440 0h160v-160H620v160ZM180-180h160v-160H180v160Zm440 0h160v-160H620v160Z\"/>\n",
              "  </svg>\n",
              "    </button>\n",
              "\n",
              "  <style>\n",
              "    .colab-df-container {\n",
              "      display:flex;\n",
              "      gap: 12px;\n",
              "    }\n",
              "\n",
              "    .colab-df-convert {\n",
              "      background-color: #E8F0FE;\n",
              "      border: none;\n",
              "      border-radius: 50%;\n",
              "      cursor: pointer;\n",
              "      display: none;\n",
              "      fill: #1967D2;\n",
              "      height: 32px;\n",
              "      padding: 0 0 0 0;\n",
              "      width: 32px;\n",
              "    }\n",
              "\n",
              "    .colab-df-convert:hover {\n",
              "      background-color: #E2EBFA;\n",
              "      box-shadow: 0px 1px 2px rgba(60, 64, 67, 0.3), 0px 1px 3px 1px rgba(60, 64, 67, 0.15);\n",
              "      fill: #174EA6;\n",
              "    }\n",
              "\n",
              "    .colab-df-buttons div {\n",
              "      margin-bottom: 4px;\n",
              "    }\n",
              "\n",
              "    [theme=dark] .colab-df-convert {\n",
              "      background-color: #3B4455;\n",
              "      fill: #D2E3FC;\n",
              "    }\n",
              "\n",
              "    [theme=dark] .colab-df-convert:hover {\n",
              "      background-color: #434B5C;\n",
              "      box-shadow: 0px 1px 3px 1px rgba(0, 0, 0, 0.15);\n",
              "      filter: drop-shadow(0px 1px 2px rgba(0, 0, 0, 0.3));\n",
              "      fill: #FFFFFF;\n",
              "    }\n",
              "  </style>\n",
              "\n",
              "    <script>\n",
              "      const buttonEl =\n",
              "        document.querySelector('#df-78b481e2-7556-4004-bb53-8945a9e23408 button.colab-df-convert');\n",
              "      buttonEl.style.display =\n",
              "        google.colab.kernel.accessAllowed ? 'block' : 'none';\n",
              "\n",
              "      async function convertToInteractive(key) {\n",
              "        const element = document.querySelector('#df-78b481e2-7556-4004-bb53-8945a9e23408');\n",
              "        const dataTable =\n",
              "          await google.colab.kernel.invokeFunction('convertToInteractive',\n",
              "                                                    [key], {});\n",
              "        if (!dataTable) return;\n",
              "\n",
              "        const docLinkHtml = 'Like what you see? Visit the ' +\n",
              "          '<a target=\"_blank\" href=https://colab.research.google.com/notebooks/data_table.ipynb>data table notebook</a>'\n",
              "          + ' to learn more about interactive tables.';\n",
              "        element.innerHTML = '';\n",
              "        dataTable['output_type'] = 'display_data';\n",
              "        await google.colab.output.renderOutput(dataTable, element);\n",
              "        const docLink = document.createElement('div');\n",
              "        docLink.innerHTML = docLinkHtml;\n",
              "        element.appendChild(docLink);\n",
              "      }\n",
              "    </script>\n",
              "  </div>\n",
              "\n",
              "\n",
              "<div id=\"df-f1e9822c-ec8f-436b-b9b1-e244633a13ad\">\n",
              "  <button class=\"colab-df-quickchart\" onclick=\"quickchart('df-f1e9822c-ec8f-436b-b9b1-e244633a13ad')\"\n",
              "            title=\"Suggest charts.\"\n",
              "            style=\"display:none;\">\n",
              "\n",
              "<svg xmlns=\"http://www.w3.org/2000/svg\" height=\"24px\"viewBox=\"0 0 24 24\"\n",
              "     width=\"24px\">\n",
              "    <g>\n",
              "        <path d=\"M19 3H5c-1.1 0-2 .9-2 2v14c0 1.1.9 2 2 2h14c1.1 0 2-.9 2-2V5c0-1.1-.9-2-2-2zM9 17H7v-7h2v7zm4 0h-2V7h2v10zm4 0h-2v-4h2v4z\"/>\n",
              "    </g>\n",
              "</svg>\n",
              "  </button>\n",
              "\n",
              "<style>\n",
              "  .colab-df-quickchart {\n",
              "    background-color: #E8F0FE;\n",
              "    border: none;\n",
              "    border-radius: 50%;\n",
              "    cursor: pointer;\n",
              "    display: none;\n",
              "    fill: #1967D2;\n",
              "    height: 32px;\n",
              "    padding: 0 0 0 0;\n",
              "    width: 32px;\n",
              "  }\n",
              "\n",
              "  .colab-df-quickchart:hover {\n",
              "    background-color: #E2EBFA;\n",
              "    box-shadow: 0px 1px 2px rgba(60, 64, 67, 0.3), 0px 1px 3px 1px rgba(60, 64, 67, 0.15);\n",
              "    fill: #174EA6;\n",
              "  }\n",
              "\n",
              "  [theme=dark] .colab-df-quickchart {\n",
              "    background-color: #3B4455;\n",
              "    fill: #D2E3FC;\n",
              "  }\n",
              "\n",
              "  [theme=dark] .colab-df-quickchart:hover {\n",
              "    background-color: #434B5C;\n",
              "    box-shadow: 0px 1px 3px 1px rgba(0, 0, 0, 0.15);\n",
              "    filter: drop-shadow(0px 1px 2px rgba(0, 0, 0, 0.3));\n",
              "    fill: #FFFFFF;\n",
              "  }\n",
              "</style>\n",
              "\n",
              "  <script>\n",
              "    async function quickchart(key) {\n",
              "      const charts = await google.colab.kernel.invokeFunction(\n",
              "          'suggestCharts', [key], {});\n",
              "    }\n",
              "    (() => {\n",
              "      let quickchartButtonEl =\n",
              "        document.querySelector('#df-f1e9822c-ec8f-436b-b9b1-e244633a13ad button');\n",
              "      quickchartButtonEl.style.display =\n",
              "        google.colab.kernel.accessAllowed ? 'block' : 'none';\n",
              "    })();\n",
              "  </script>\n",
              "</div>\n",
              "    </div>\n",
              "  </div>\n"
            ]
          },
          "metadata": {},
          "execution_count": 169
        }
      ]
    },
    {
      "cell_type": "code",
      "source": [
        "event_filtered=df.loc[df.event_counts >65]\n",
        "\n",
        "print(event_filtered['event'].value_counts())"
      ],
      "metadata": {
        "colab": {
          "base_uri": "https://localhost:8080/"
        },
        "id": "WEyl3OMfp3Ls",
        "outputId": "3fad97d2-41d1-4bd1-e67e-eae0584c6d80"
      },
      "execution_count": null,
      "outputs": [
        {
          "output_type": "stream",
          "name": "stdout",
          "text": [
            "TED-Ed            556\n",
            "TED2017            96\n",
            "TED2018            96\n",
            "TED2019            91\n",
            "TED2014            84\n",
            "TED2009            81\n",
            "TED2013            75\n",
            "TED2015            75\n",
            "TED2016            75\n",
            "TED2011            70\n",
            "TEDGlobal 2012     70\n",
            "TED2007            68\n",
            "TED2010            68\n",
            "TEDGlobal 2011     68\n",
            "TEDGlobal 2013     67\n",
            "Name: event, dtype: int64\n"
          ]
        }
      ]
    },
    {
      "cell_type": "markdown",
      "source": [
        "We can take any threshold of our choice, here i have taken 65 as threshold."
      ],
      "metadata": {
        "id": "ypZOxt3NuHwr"
      }
    },
    {
      "cell_type": "code",
      "source": [
        "#event_filtered.groupby('event').agg({'views':'sum'}).rename('Total_views').reset_index()\n",
        "\n",
        "event_filtered.groupby('event').agg(Total_views=('views', np.sum),Max_views=('views', np.max),Mean_views=('views', np.mean)).reset_index()"
      ],
      "metadata": {
        "colab": {
          "base_uri": "https://localhost:8080/",
          "height": 519
        },
        "id": "a39Ay7HUrQ-_",
        "outputId": "d0308fe1-5311-4f50-86af-04db7682eaa0"
      },
      "execution_count": null,
      "outputs": [
        {
          "output_type": "execute_result",
          "data": {
            "text/plain": [
              "             event  Total_views  Max_views    Mean_views\n",
              "0           TED-Ed   1145357780   18569680  2.059996e+06\n",
              "1          TED2007    126494272   15890639  1.860210e+06\n",
              "2          TED2009    191190144   30977634  2.360372e+06\n",
              "3          TED2010    156244896    9527997  2.297719e+06\n",
              "4          TED2011    173624464   14608373  2.480349e+06\n",
              "5          TED2013    225967516   15339953  3.012900e+06\n",
              "6          TED2014    240295871   13515693  2.860665e+06\n",
              "7          TED2015    247702961   33521780  3.302706e+06\n",
              "8          TED2016    227358612   37976820  3.031448e+06\n",
              "9          TED2017    227847725   16650639  2.373414e+06\n",
              "10         TED2018    196346377    8734144  2.045275e+06\n",
              "11         TED2019    160467082    9975485  1.763375e+06\n",
              "12  TEDGlobal 2011    150473876   28748868  2.212851e+06\n",
              "13  TEDGlobal 2012    176363250   57074270  2.519475e+06\n",
              "14  TEDGlobal 2013    235410234   41504331  3.513586e+06"
            ],
            "text/html": [
              "\n",
              "  <div id=\"df-7ccddc16-1a9a-4163-a4a8-faeed8d4a2d6\" class=\"colab-df-container\">\n",
              "    <div>\n",
              "<style scoped>\n",
              "    .dataframe tbody tr th:only-of-type {\n",
              "        vertical-align: middle;\n",
              "    }\n",
              "\n",
              "    .dataframe tbody tr th {\n",
              "        vertical-align: top;\n",
              "    }\n",
              "\n",
              "    .dataframe thead th {\n",
              "        text-align: right;\n",
              "    }\n",
              "</style>\n",
              "<table border=\"1\" class=\"dataframe\">\n",
              "  <thead>\n",
              "    <tr style=\"text-align: right;\">\n",
              "      <th></th>\n",
              "      <th>event</th>\n",
              "      <th>Total_views</th>\n",
              "      <th>Max_views</th>\n",
              "      <th>Mean_views</th>\n",
              "    </tr>\n",
              "  </thead>\n",
              "  <tbody>\n",
              "    <tr>\n",
              "      <th>0</th>\n",
              "      <td>TED-Ed</td>\n",
              "      <td>1145357780</td>\n",
              "      <td>18569680</td>\n",
              "      <td>2.059996e+06</td>\n",
              "    </tr>\n",
              "    <tr>\n",
              "      <th>1</th>\n",
              "      <td>TED2007</td>\n",
              "      <td>126494272</td>\n",
              "      <td>15890639</td>\n",
              "      <td>1.860210e+06</td>\n",
              "    </tr>\n",
              "    <tr>\n",
              "      <th>2</th>\n",
              "      <td>TED2009</td>\n",
              "      <td>191190144</td>\n",
              "      <td>30977634</td>\n",
              "      <td>2.360372e+06</td>\n",
              "    </tr>\n",
              "    <tr>\n",
              "      <th>3</th>\n",
              "      <td>TED2010</td>\n",
              "      <td>156244896</td>\n",
              "      <td>9527997</td>\n",
              "      <td>2.297719e+06</td>\n",
              "    </tr>\n",
              "    <tr>\n",
              "      <th>4</th>\n",
              "      <td>TED2011</td>\n",
              "      <td>173624464</td>\n",
              "      <td>14608373</td>\n",
              "      <td>2.480349e+06</td>\n",
              "    </tr>\n",
              "    <tr>\n",
              "      <th>5</th>\n",
              "      <td>TED2013</td>\n",
              "      <td>225967516</td>\n",
              "      <td>15339953</td>\n",
              "      <td>3.012900e+06</td>\n",
              "    </tr>\n",
              "    <tr>\n",
              "      <th>6</th>\n",
              "      <td>TED2014</td>\n",
              "      <td>240295871</td>\n",
              "      <td>13515693</td>\n",
              "      <td>2.860665e+06</td>\n",
              "    </tr>\n",
              "    <tr>\n",
              "      <th>7</th>\n",
              "      <td>TED2015</td>\n",
              "      <td>247702961</td>\n",
              "      <td>33521780</td>\n",
              "      <td>3.302706e+06</td>\n",
              "    </tr>\n",
              "    <tr>\n",
              "      <th>8</th>\n",
              "      <td>TED2016</td>\n",
              "      <td>227358612</td>\n",
              "      <td>37976820</td>\n",
              "      <td>3.031448e+06</td>\n",
              "    </tr>\n",
              "    <tr>\n",
              "      <th>9</th>\n",
              "      <td>TED2017</td>\n",
              "      <td>227847725</td>\n",
              "      <td>16650639</td>\n",
              "      <td>2.373414e+06</td>\n",
              "    </tr>\n",
              "    <tr>\n",
              "      <th>10</th>\n",
              "      <td>TED2018</td>\n",
              "      <td>196346377</td>\n",
              "      <td>8734144</td>\n",
              "      <td>2.045275e+06</td>\n",
              "    </tr>\n",
              "    <tr>\n",
              "      <th>11</th>\n",
              "      <td>TED2019</td>\n",
              "      <td>160467082</td>\n",
              "      <td>9975485</td>\n",
              "      <td>1.763375e+06</td>\n",
              "    </tr>\n",
              "    <tr>\n",
              "      <th>12</th>\n",
              "      <td>TEDGlobal 2011</td>\n",
              "      <td>150473876</td>\n",
              "      <td>28748868</td>\n",
              "      <td>2.212851e+06</td>\n",
              "    </tr>\n",
              "    <tr>\n",
              "      <th>13</th>\n",
              "      <td>TEDGlobal 2012</td>\n",
              "      <td>176363250</td>\n",
              "      <td>57074270</td>\n",
              "      <td>2.519475e+06</td>\n",
              "    </tr>\n",
              "    <tr>\n",
              "      <th>14</th>\n",
              "      <td>TEDGlobal 2013</td>\n",
              "      <td>235410234</td>\n",
              "      <td>41504331</td>\n",
              "      <td>3.513586e+06</td>\n",
              "    </tr>\n",
              "  </tbody>\n",
              "</table>\n",
              "</div>\n",
              "    <div class=\"colab-df-buttons\">\n",
              "\n",
              "  <div class=\"colab-df-container\">\n",
              "    <button class=\"colab-df-convert\" onclick=\"convertToInteractive('df-7ccddc16-1a9a-4163-a4a8-faeed8d4a2d6')\"\n",
              "            title=\"Convert this dataframe to an interactive table.\"\n",
              "            style=\"display:none;\">\n",
              "\n",
              "  <svg xmlns=\"http://www.w3.org/2000/svg\" height=\"24px\" viewBox=\"0 -960 960 960\">\n",
              "    <path d=\"M120-120v-720h720v720H120Zm60-500h600v-160H180v160Zm220 220h160v-160H400v160Zm0 220h160v-160H400v160ZM180-400h160v-160H180v160Zm440 0h160v-160H620v160ZM180-180h160v-160H180v160Zm440 0h160v-160H620v160Z\"/>\n",
              "  </svg>\n",
              "    </button>\n",
              "\n",
              "  <style>\n",
              "    .colab-df-container {\n",
              "      display:flex;\n",
              "      gap: 12px;\n",
              "    }\n",
              "\n",
              "    .colab-df-convert {\n",
              "      background-color: #E8F0FE;\n",
              "      border: none;\n",
              "      border-radius: 50%;\n",
              "      cursor: pointer;\n",
              "      display: none;\n",
              "      fill: #1967D2;\n",
              "      height: 32px;\n",
              "      padding: 0 0 0 0;\n",
              "      width: 32px;\n",
              "    }\n",
              "\n",
              "    .colab-df-convert:hover {\n",
              "      background-color: #E2EBFA;\n",
              "      box-shadow: 0px 1px 2px rgba(60, 64, 67, 0.3), 0px 1px 3px 1px rgba(60, 64, 67, 0.15);\n",
              "      fill: #174EA6;\n",
              "    }\n",
              "\n",
              "    .colab-df-buttons div {\n",
              "      margin-bottom: 4px;\n",
              "    }\n",
              "\n",
              "    [theme=dark] .colab-df-convert {\n",
              "      background-color: #3B4455;\n",
              "      fill: #D2E3FC;\n",
              "    }\n",
              "\n",
              "    [theme=dark] .colab-df-convert:hover {\n",
              "      background-color: #434B5C;\n",
              "      box-shadow: 0px 1px 3px 1px rgba(0, 0, 0, 0.15);\n",
              "      filter: drop-shadow(0px 1px 2px rgba(0, 0, 0, 0.3));\n",
              "      fill: #FFFFFF;\n",
              "    }\n",
              "  </style>\n",
              "\n",
              "    <script>\n",
              "      const buttonEl =\n",
              "        document.querySelector('#df-7ccddc16-1a9a-4163-a4a8-faeed8d4a2d6 button.colab-df-convert');\n",
              "      buttonEl.style.display =\n",
              "        google.colab.kernel.accessAllowed ? 'block' : 'none';\n",
              "\n",
              "      async function convertToInteractive(key) {\n",
              "        const element = document.querySelector('#df-7ccddc16-1a9a-4163-a4a8-faeed8d4a2d6');\n",
              "        const dataTable =\n",
              "          await google.colab.kernel.invokeFunction('convertToInteractive',\n",
              "                                                    [key], {});\n",
              "        if (!dataTable) return;\n",
              "\n",
              "        const docLinkHtml = 'Like what you see? Visit the ' +\n",
              "          '<a target=\"_blank\" href=https://colab.research.google.com/notebooks/data_table.ipynb>data table notebook</a>'\n",
              "          + ' to learn more about interactive tables.';\n",
              "        element.innerHTML = '';\n",
              "        dataTable['output_type'] = 'display_data';\n",
              "        await google.colab.output.renderOutput(dataTable, element);\n",
              "        const docLink = document.createElement('div');\n",
              "        docLink.innerHTML = docLinkHtml;\n",
              "        element.appendChild(docLink);\n",
              "      }\n",
              "    </script>\n",
              "  </div>\n",
              "\n",
              "\n",
              "<div id=\"df-70cee32f-fc43-4f21-80f0-43e2f2476c86\">\n",
              "  <button class=\"colab-df-quickchart\" onclick=\"quickchart('df-70cee32f-fc43-4f21-80f0-43e2f2476c86')\"\n",
              "            title=\"Suggest charts.\"\n",
              "            style=\"display:none;\">\n",
              "\n",
              "<svg xmlns=\"http://www.w3.org/2000/svg\" height=\"24px\"viewBox=\"0 0 24 24\"\n",
              "     width=\"24px\">\n",
              "    <g>\n",
              "        <path d=\"M19 3H5c-1.1 0-2 .9-2 2v14c0 1.1.9 2 2 2h14c1.1 0 2-.9 2-2V5c0-1.1-.9-2-2-2zM9 17H7v-7h2v7zm4 0h-2V7h2v10zm4 0h-2v-4h2v4z\"/>\n",
              "    </g>\n",
              "</svg>\n",
              "  </button>\n",
              "\n",
              "<style>\n",
              "  .colab-df-quickchart {\n",
              "    background-color: #E8F0FE;\n",
              "    border: none;\n",
              "    border-radius: 50%;\n",
              "    cursor: pointer;\n",
              "    display: none;\n",
              "    fill: #1967D2;\n",
              "    height: 32px;\n",
              "    padding: 0 0 0 0;\n",
              "    width: 32px;\n",
              "  }\n",
              "\n",
              "  .colab-df-quickchart:hover {\n",
              "    background-color: #E2EBFA;\n",
              "    box-shadow: 0px 1px 2px rgba(60, 64, 67, 0.3), 0px 1px 3px 1px rgba(60, 64, 67, 0.15);\n",
              "    fill: #174EA6;\n",
              "  }\n",
              "\n",
              "  [theme=dark] .colab-df-quickchart {\n",
              "    background-color: #3B4455;\n",
              "    fill: #D2E3FC;\n",
              "  }\n",
              "\n",
              "  [theme=dark] .colab-df-quickchart:hover {\n",
              "    background-color: #434B5C;\n",
              "    box-shadow: 0px 1px 3px 1px rgba(0, 0, 0, 0.15);\n",
              "    filter: drop-shadow(0px 1px 2px rgba(0, 0, 0, 0.3));\n",
              "    fill: #FFFFFF;\n",
              "  }\n",
              "</style>\n",
              "\n",
              "  <script>\n",
              "    async function quickchart(key) {\n",
              "      const charts = await google.colab.kernel.invokeFunction(\n",
              "          'suggestCharts', [key], {});\n",
              "    }\n",
              "    (() => {\n",
              "      let quickchartButtonEl =\n",
              "        document.querySelector('#df-70cee32f-fc43-4f21-80f0-43e2f2476c86 button');\n",
              "      quickchartButtonEl.style.display =\n",
              "        google.colab.kernel.accessAllowed ? 'block' : 'none';\n",
              "    })();\n",
              "  </script>\n",
              "</div>\n",
              "    </div>\n",
              "  </div>\n"
            ]
          },
          "metadata": {},
          "execution_count": 171
        }
      ]
    },
    {
      "cell_type": "code",
      "source": [
        "event_filtered.groupby('event')['views'].mean().plot.bar()\n",
        "plt.xlabel('event')\n",
        "plt.ylabel('views')\n",
        "plt.title('event')\n",
        "plt.show()"
      ],
      "metadata": {
        "colab": {
          "base_uri": "https://localhost:8080/",
          "height": 570
        },
        "id": "-E4KtYfAwKjL",
        "outputId": "23e40d62-d11d-47a9-f60b-c5a634933a05"
      },
      "execution_count": null,
      "outputs": [
        {
          "output_type": "display_data",
          "data": {
            "text/plain": [
              "<Figure size 640x480 with 1 Axes>"
            ],
            "image/png": "[encoded data removed]"
          },
          "metadata": {}
        }
      ]
    },
    {
      "cell_type": "code",
      "source": [
        "event_filtered.groupby('event')['views'].sum().plot.bar()\n",
        "plt.xlabel('event')\n",
        "plt.ylabel('views')\n",
        "plt.title('event')\n",
        "plt.show()\n"
      ],
      "metadata": {
        "colab": {
          "base_uri": "https://localhost:8080/",
          "height": 570
        },
        "id": "AThOjcnNyC3I",
        "outputId": "83cdc1e3-0923-44a7-d254-6bb6eda53351"
      },
      "execution_count": null,
      "outputs": [
        {
          "output_type": "display_data",
          "data": {
            "text/plain": [
              "<Figure size 640x480 with 1 Axes>"
            ],
            "image/png": "[encoded data removed]"
          },
          "metadata": {}
        }
      ]
    },
    {
      "cell_type": "markdown",
      "source": [
        "**Observation**: TED-Ed is most repeated category in event feature as compared to others so it has most views but average of TED-Ed is even lesser than most of the events given here.\n",
        "\n",
        "i. Analysis w.r.to most repeated category TED-Ed\n",
        "1. Total_views = 1,145,357,780\n",
        "2. Mean =  2,059,996\n",
        "\n",
        "ii. Category with highest mean views V/S TED-Ed mean views\n",
        "1. TEDGlobal 2013 mean = 3,513,586\n",
        "2. TED-ED mean = 2,059,996"
      ],
      "metadata": {
        "id": "JJ4YJgun0Yxe"
      }
    },
    {
      "cell_type": "markdown",
      "source": [
        "<h3> 3.4 Explore occupation column & find the 5 most popular occupations amongst the speakers.</h3>\n",
        "\n",
        " - Create a list of all the unique occupations across the entire occupations columns e.g. 100\n",
        " - Pick one occup at a time & check its freq\n",
        "- writer -\n",
        "- author -\n",
        "- educator etc etc"
      ],
      "metadata": {
        "id": "WitZg2lD4zLv"
      }
    },
    {
      "cell_type": "code",
      "source": [
        "df['occupations'][1]"
      ],
      "metadata": {
        "colab": {
          "base_uri": "https://localhost:8080/",
          "height": 36
        },
        "id": "Be-M41W4B9HJ",
        "outputId": "f638970e-9c0d-4509-b8d5-7358e610482a"
      },
      "execution_count": null,
      "outputs": [
        {
          "output_type": "execute_result",
          "data": {
            "text/plain": [
              "\"{0: ['global health expert; data visionary']}\""
            ],
            "application/vnd.google.colaboratory.intrinsic+json": {
              "type": "string"
            }
          },
          "metadata": {},
          "execution_count": 174
        }
      ]
    },
    {
      "cell_type": "code",
      "source": [
        "import ast\n",
        "# This code will handle NaN values as well.\n",
        "def safe_literal_eval(x):\n",
        "    try:\n",
        "        return ast.literal_eval(x)\n",
        "    except (ValueError, SyntaxError):\n",
        "        return x  # Return original value if conversion fails\n",
        "\n",
        "# Apply the function to the column\n",
        "df['occupations'] = df['occupations'].apply(safe_literal_eval)"
      ],
      "metadata": {
        "id": "z_80ha2b-rgK"
      },
      "execution_count": null,
      "outputs": []
    },
    {
      "cell_type": "code",
      "source": [
        "d = df['occupations']\n",
        "\n",
        "d = d.dropna()"
      ],
      "metadata": {
        "id": "PCnD8eDTFWJs"
      },
      "execution_count": null,
      "outputs": []
    },
    {
      "cell_type": "code",
      "source": [
        "list1 = []\n",
        "for element in d:\n",
        "    for key, value in element.items():\n",
        "      list1.append(value)\n"
      ],
      "metadata": {
        "id": "hBED-zDAIE05"
      },
      "execution_count": null,
      "outputs": []
    },
    {
      "cell_type": "code",
      "source": [
        "d1 = pd.DataFrame(list1, columns=['occ1','occ2','occ3','occ4','occ5'])"
      ],
      "metadata": {
        "id": "wo5IPQIYMG3b"
      },
      "execution_count": null,
      "outputs": []
    },
    {
      "cell_type": "code",
      "source": [
        "d1_unique = d1.occ1.unique()\n",
        "d2_unique = d1.occ2.unique()\n",
        "d3_unique = d1.occ3.unique()\n",
        "d4_unique = d1.occ4.unique()\n",
        "d5_unique = d1.occ5.unique()"
      ],
      "metadata": {
        "id": "p6rVTwABS9mP"
      },
      "execution_count": null,
      "outputs": []
    },
    {
      "cell_type": "code",
      "source": [
        "d4_unique=pd.Series(d4_unique)\n",
        "d3_unique = pd.Series(d3_unique)\n",
        "d1_unique = pd.Series(d1_unique)\n",
        "d2_unique = pd.Series(d2_unique)\n",
        "d5_unique = pd.Series(d5_unique)"
      ],
      "metadata": {
        "id": "FF1FTTx0agAp"
      },
      "execution_count": null,
      "outputs": []
    },
    {
      "cell_type": "code",
      "source": [
        "result = pd.concat([d1_unique,d2_unique,d3_unique, d4_unique,d5_unique], ignore_index=True, sort=False)"
      ],
      "metadata": {
        "id": "vs9CyJW9Zm4M"
      },
      "execution_count": null,
      "outputs": []
    },
    {
      "cell_type": "code",
      "source": [
        "d1=result.dropna()\n",
        "#1987"
      ],
      "metadata": {
        "id": "E4sccwd5Z1CR"
      },
      "execution_count": null,
      "outputs": []
    },
    {
      "cell_type": "code",
      "source": [
        "type(d1)\n",
        "d1 = pd.DataFrame(d1, columns=['Unique_Occupations'])"
      ],
      "metadata": {
        "id": "YRTYC0Y4YG7L"
      },
      "execution_count": null,
      "outputs": []
    },
    {
      "cell_type": "code",
      "source": [
        "d1.nunique()"
      ],
      "metadata": {
        "colab": {
          "base_uri": "https://localhost:8080/"
        },
        "id": "UHMw8O7gWDQt",
        "outputId": "9d8f3231-0e99-4ced-f7db-7eaa4cabc7c7"
      },
      "execution_count": null,
      "outputs": [
        {
          "output_type": "execute_result",
          "data": {
            "text/plain": [
              "Unique_Occupations    1796\n",
              "dtype: int64"
            ]
          },
          "metadata": {},
          "execution_count": 184
        }
      ]
    },
    {
      "cell_type": "code",
      "source": [
        "# d1 = d1.values.tolist()\n",
        "d1 = d1.stack().tolist()"
      ],
      "metadata": {
        "id": "FtVXcZgEb2EM"
      },
      "execution_count": null,
      "outputs": []
    },
    {
      "cell_type": "code",
      "source": [
        "print(d1)"
      ],
      "metadata": {
        "colab": {
          "base_uri": "https://localhost:8080/"
        },
        "id": "qsHsQq0wpatL",
        "outputId": "1e073fe1-f524-4c3a-f6b5-6f8a82c98af2"
      },
      "execution_count": null,
      "outputs": [
        {
          "output_type": "stream",
          "name": "stdout",
          "text": [
            "['climate advocate', 'global health expert; data visionary', 'technology columnist', 'activist for environmental justice', 'author', 'architect', 'actor', 'philosopher', 'pastor', 'filmmaker', 'epidemiologist', 'co-founder', 'tech visionary', 'human-computer interface designer', 'pianist', 'violinist', 'inventor', 'industrial designer', 'founder of wikipedia', 'education visionary', 'web humorist', 'blogger; cofounder', 'anthropologist', 'playwright', 'evolutionary biologist', 'physicist', 'writer', 'economist', 'psychologist; happiness expert', 'psychologist', 'neuroscience and cancer researcher', 'crusader against aging', 'investor and advocate for moral leadership', 'founder', 'president-elect of afghanistan', 'nonprofit venture capitalist', 'aircraft engineer', 'polar explorer', 'photographer', 'biomedical inventor', 'musician', 'skeptic', 'mathematician; statistician', 'digital visionary', 'performance poet', 'physician', 'marketer', 'global prioritizer', 'astrophysicist', 'journalist', 'innovation consultant', 'photojournalist', 'biologist', 'activist', 'car designer', 'experimental audio-visual artist', 'designer; creative director', 'graphic designer', 'science writer', 'nature photographer', 'singer', 'master of visual illusions', 'primate authority', 'planetary futurist', 'artist', 'marketer and author', 'primatologist', 'singer/songwriter', 'cellist; singer-songwriter', 'online commerce pioneer', 'electronic music pioneer', 'satirist', 'priest', 'drone maker', 'fiddler', 'computer scientist', 'ceo of google', 'social critic', 'designer', 'environmentalist', 'computer designer', 'marine biologist', 'venture capitalist', 'software architect', 'technologist', 'buddhist scholar', 'military strategist', \"general manager of microsoft's virtual earth\", 'explorer', 'medical futurist', 'game designer', 'medical animator', 'marketing expert', 'investment banker', 'university founder', 'novelist', 'producer', 'dictionary editor', 'paleoanthropologist', 'technology forecaster', 'engineer', 'planetary scientist', 'dancer', 'entrepreneur', 'roboticist', 'illustrator', 'user anthropologist', 'brain expert', 'doctor', 'monk', 'legal activist', 'dna origamist', 'environmental scientist', 'mathematician', 'mathemagician', 'connector', 'tinkerer', 'investor', 'ecologist', 'oceanographer', 'curator of architecture and design', 'guitarist', 'social innovator', 'college president', 'head of ted', 'transport networker', 'city evangelist', 'environmental writer', 'digital community builder', 'theremin player', 'historian of science', 'jugglers', 'kenyan mp', 'researcher', 'astronomer', 'educator and computing pioneer', 'neuroanatomist', 'religious scholar', 'brain researcher', 'theoretical physicist', 'human-computer interaction researcher', 'composer', 'legal expert', 'cardiologist', 'band', 'ceo', 'mycologist', 'juggler', 'hacker', 'food writer', 'sculptor', 'memeticist', 'polymath', 'conductor', 'space activist', 'botanist and activist', 'animating neurobiologist', 'social media theorist', 'preacher', 'magician', 'craft artist', 'architecture critic', 'origamist', 'bioengineer', 'engineer and origamist', 'cellist', 'particle physicist', 'genographer', 'director of photography', 'close-up card magician', 'animal behaviorist', 'musician and inventor', 'education researcher', 'blogger and activist', 'african grey parrot', 'educator', 'digital librarian', 'storyteller', 'traveler', 'lunch lady', 'social psychologist', 'angel investor', 'ai pioneer', 'counselor', 'toy designer', 'constitutional law scholar', 'historian', 'human beatbox', 'expert', 'positive psychologist', 'civilization scholar', 'spiritual leader', 'vedantic teacher', 'chairman of the cordoba initiative', 'finance journalist', 'planet walker', 'nose', 'political scientist and journalist', 'comedian', 'fashion designer', 'technologist and futurist', 'chef', 'internet entrepreneur', 'automotive researcher', 'folk musician', 'bee expert', 'cave scientist', 'reporter', 'biochemist', 'paleontologist', 'cartoonist', 'baker', 'designer at play', 'type designer', 'world-builder', 'athlete and actor', 'idea guy', 'philanthropist', 'mit grad student', 'maestro', 'ensemble', 'visual storyteller', 'ichthyologist', 'photographer and explorer', 'twitter co-founder', 'designer and theorist', 'conservationist', 'tree researcher', 'tv host', 'cognitive scientist and design critic', 'director of research', 'play researcher', 'behavioral economist', 'maker', 'humorist', 'business owner and activist', 'coach', 'virus hunter', 'poet', 'newspaper designer', 'aerialist', 'military analyst', 'political scientist', 'molecular biologist', 'philosopher-comic', 'skeptimist', 'green auto pioneer', 'figurer', 'statistician', 'neuroscientist', 'polymorphic playwright', 'science journalist', 'physicist and military theorist', 'astronaut', 'food and agriculture expert', 'technologist and visionary', 'a capella ensemble', 'sustainable-business pioneer', 'speaker and author', 'first lady of the united states', 'publisher', 'media exec', 'evolutionary psychologist', 'biospherian', 'deprogrammer', 'new philanthropist', 'endurance runner', 'development economist', 'sculptor of light and space', 'physician-scientist', 'neurobiologist', 'british prime minister', 'aquatic ape theorist', 'micro-sculptor', 'chief economist and senior vice president', 'hip-hop artist', 'career analyst', 'wireless electrician', 'biodiversity archivist', 'optical innovator', 'social commentator', 'creative technologist', 'stuntman', 'coldwater swimmer', 'cognitive neuroscientist', 'underworld investigator', 'neurological anthropologist', 'net watchdog', 'internet scientist', 'global strategist', 'food urbanist', 'professor of management', 'landscape ecologist', 'robotics designer', 'advertising guru', 'sound consultant', 'marketing whiz', 'computer graphics pioneer', 'conductor and leadership expert', 'applied scientist', 'tech anthropologist', 'atmospheric chemist', 'cultural diplomacy expert', 'social entrepreneur', 'mythologist', 'resilience leader', 'dune architect', 'politician and writer', 'environmental activist', 'puzzlemaster', 'anti-trafficking crusader', 'vision activist', 'cultural historian', 'arab sexuality expert', 'macroeconomist', 'aphorist', 'solar adventurer', 'x-ray visionary', 'longevity coach', 'herpetologist', 'jazz legend', 'wildlife conservationist', 'illusionist', 'surgeon', 'health and human services expert', 'healthcare revolutionary', 'chemist', 'cancer doctor', 'politician', 'cardiologist and geneticist', 'livestock handling designer', 'visual neuroscientist', 'behavioral economics founder', 'cricket commentator', 'director', 'dance adventurers', 'social scientist', 'adventure physician', 'director and writer', 'executive', 'planetary and atmospheric scientist', 'anti-slavery activist', 'education activist', 'child prodigy', 'media expert', 'curator', 'skeptic and conjuror', 'scientist', 'ocean rower', 'data scientist', 'leadership expert', 'marine ecologist', 'innovation advocate', 'string quartet', 'cancer researcher', 'conservation biologist', 'geophysicist', 'media maven', 'vaccine visionary', 'interface designer', 'creative entrepreneur', 'political philosopher', 'civil and environmental engineer', 'user experience master', 'behavioral ecologist', 'dancer and choreographer', 'hospitality entrepreneur', 'rational optimist', 'blogger', 'internet activist', 'creator', 'psycho-economist', 'cognitive psychologist', 'market transformer', 'game changer', 'data journalist', 'online marketing whiz', 'happiness researcher', 'sustainability expert', 'diplomat', 'arts administrator', 'hiv/aids fighter', 'computational neuroscientist', 'analytical psychologist', 'public health expert', 'green designer', 'brand strategist', 'plant neurobiologist', 'building activist', 'artist and engineer', 'microlender', 'food scientist', 'artist and activist', 'editorial cartoonist', 'entomologist', 'multimedia artist', 'gaming theorist', 'voting system designer', 'optogeneticist', 'humanitarian design activist', 'ethnic conflicts scholar', 'labor-rights activist', 'high seas policy advisor', 'neuropsychologist', 'activist and social entrepreneur', 'software entrepreneur', 'builder', 'aspiring organic farmer', 'mediator', 'ecological entomologist', 'product developer', 'green chef', 'change catalyst', 'corrections pioneer', 'website co-founders', 'trust researcher', 'conservationists', 'coo', 'vulnerability researcher', 'thinker', 'nobel peace laureate', 'cyborg anthropologist', 'wellness specialist', 'instructional designer', 'soprano', 'social justice and green energy activist', 'scientific visualization expert', 'healthcare communicator', 'landscape architect', 'tech publisher', 'author and marketer', 'somali doctors who treat women refugees', 'whistler', 'language', 'former us secretary of state', 'facial surgeon', 'computer theorist', 'piano trio', 'street artist', 'internet activist and computer engineer', 'educator and social entrepreneur', 'cognitive scientist', 'natural resources expert', 'op-ed columnist', 'lighting designer', 'ethicist', \"berkeley bionics' ceo\", 'language teacher', 'security consultant', 'puppeteers', 'military leader', 'google fellow', 'inclusivity activist', 'musician and activist', 'artist and organizer', 'film critic and blogger', 'farmer and technologist', 'sociologist', 'wrongologist', 'health policy expert', 'security expert', 'biological engineer', 'software engineer', 'toymaker', '9/11 mothers', 'online democracy advocate', 'architect and engineer', 'polar photographer', 'biomedical engineer', 'neuroengineer', 'pediatric anesthesiologist', 'data artist', 'iranian visual artist', 'dinosaur digger', 'communicator', 'artist and curator', 'beatjazz inventor and controllerist', 'executive chair', 'linguist', 'e-patient', 'friend of the high line', 'tissue engineering researcher', 'internet freedom activist', 'anti-extremism activist', 'cybersecurity expert', 'algoworld expert', 'theorist', 'anti-hunger leader', 'communications technology innovator', 'engineer and biodiversity scientist', 'penguin expert', 'peace activist', 'stellar astronomer', 'cyber illusionist', 'geneticist', 'actor and writer', 'political economist', 'artist and technologist', 'media executive', 'data researcher', 'global development worker', 'visualizer and gamestorming', 'physician and author', 'debunker', 'media mogul', 'artificial life researcher', 'plastics recycler', 'child development psychologist', 'lie detector', 'science entrepreneur', 'public health researcher', 'research scientist', 'papercutter artist', 'privacy artist', 'neuroeconomist', 'movement expert', 'translator', 'digital preservationist', 'brain scientist', 'tech investor', 'medical image maker', 'jetman', 'developer', 'pro snowboarder', 'science author', 'dance troupe', 'organizer', 'spider silk scientist', 'medical inventor', 'jazz vibraphonist', 'environmental economist', 'education innovator', 'gardening activist', 'anti-torture activist', 'physiotherapist', 'actor and activist', 'science fair winner', 'foreign minister of norway', 'biomedical animator', 'singer-songwriter', 'contemporary music ensemble', 'water data wrangler', 'nasa scientist', '3d printing entrepreneur', 'general', 'medical technologist', 'photographer and retoucher', 'leadership educator', 'teacher', 'healthcare innovator', 'aid worker', 'director of the british museum', 'computer security expert', 'senior editor', 'head of culture & trends', 'fisheries biologist', 'quiet revolutionary', 'public-interest lawyer', 'climatologist', 'code activist', 'social energy entrepreneur', 'professor of economics', 'entrepreneur and energy theorist', 'nuclear scientist', 'materials engineer', 'former director of darpa', 'engineer and artist', 'founder and executive director', 'scientific research team', 'cultural analyst', 'body architect', 'performance artist', 'professor', 'secret keeper', 'clawhammer banjo player', 'web entrepreneur', 'archaeological geneticist', 'social science researcher', 'mayor of rio de janeiro', 'health activist', 'lawyer', 'kinetic sculptor', 'blogger and fashion icon', 'natural history filmmaker', 'professor of music', 'malariologist', 'neuroscience phd student + writer', 'high-wire artist', 'vocalist', 'muslim studies scholar', 'performance ensemble', 'digital money and identity consultant', 'biological miner', 'autism researcher', 'health innovator', 'film director', 'satellite archaeologist + ted prize winner', 'skater', 'death penalty lawyer', 'health reporter', 'physical computing guru', 'digital strategist', 'mental health law scholar', 'quantum researcher', 'global health consultant', 'revolutionary guitarist', 'mechanical engineer', 'global security futurist', 'visualizer', 'assistant professor', 'video sculptor', 'anti-poverty activist', 'sonochromatic cyborg artist', 'computer programmer', 'navy admiral', 'femto-photographer', 'computational architect', 'beekeeper', 'photo retoucher', 'complexity theorist', 'peace builder', 'applied mathematician', 'cofounder', 'filmmaker and remixer', 'public intellectual', 'disaster relief expert', 'visual effects guru', 'data intelligence agent', 'scientist and biofuel guru', 'forensic psychologist', 'mental health care advocate', 'stem cell research advocate', 'open-government expert', 'author and activist', 'network author', 'social justice activist', 'management theorist', 'behavioral neuroscientist', 'artist and historian', 'mapmaker', 'environmental policy influencer', 'museum director', 'business romantic', 'comedian and mental health activist', 'communications teacher', 'art diagnostician', 'business educator', 'data commons advocate', 'student', 'globalization researcher', 'poet and playwright', 'development leader', 'zoologist', 'moustache activist', 'micro photographer', 'writer and radio producer', 'letter enthusiast', 'theater producer', 'cognitive researcher', 'bluegrass musicians', 'sustainable development expert', 'transportation specialist', 'pilot', 'raptor biologist', 'editor', 'recovering politician', 'poet and actor', 'medicine law expert', 'biotechnology entrepreneur', 'film executive', 'author/illustrator', 'clinical researcher', 'mindfulness expert', 'model', 'dermatologist', 'proud dad', 'former u.s. secretary of state', 'surgeon and technologist', 'policy entrepreneur', 'food security expert', 'science enthusiast', 'video maker', 'experimental micromechanics pioneer', 'complex systems theorist', 'relationship therapist', 'transparency activist', 'education surveyor', 'former governor of michigan', 'grassland ecosystem pioneer', 'gardener', 'serial entrepreneur', 'macroencapsulator', 'ornithologist', 'know-it-all', 'robotics entrepreneur', 'science historian', 'curious journalist', 'neuroscientist and psychiatrist', 'neurosurgeon', 'yo-yo champion', 'innovation researcher', 'youtube educator', 'corporate director', 'education reformer', 'clinical psychologist', 'computer engineer', 'anti-sexism educator', 'evolutionary geneticist', 'passionate reader', 'energy software maker', 'undercover journalist', 'dolphin researcher', 'graphic artist', 'autonomous systems pioneer', 'former prime minister of greece', 'sci-fi author', 'women’s rights activist', 'risk economist', 'tech entrepreneur', 'north korean refugee', 'cartoon editor', 'investor and political scientist', 'health and technology activist', 'anti-corruption activist', 'cancer detector inventor', 'sexuality educator', 'natural sounds expert', 'cloudspotter', 'beatboxer', 'shepherd of electrons', 'parents', 'advertising expert', 'life saver', 'electronic systems expert', 'beatboxer and inventor', 'multi-sense designer', 'research psychologist', 'music teacher', 'circadian neuroscientist', 'founder of the beirut marathon', 'science communicator', 'health psychologist', 'plutocracy chronicler', 'visual artist', 'designer and storyteller', 'labor lawyer and activist', 'gentleman thief', 'cybersecurity specialist', 'bees scholar', 'bioprinting entrepreneur', 'political theorist', 'false memories scholar', 'moral philosopher', 'founder and ceo', 'business strategist', 'city transportation expert', 'urban planner', 'urban documentarian', 'privacy economist', 'corporate innovator', 'emerging-markets economist', 'literary critic', 'architect and urbanist', 'explorer and filmmaker', 'bow designer', 'business professor', 'trash anthropologist', 'spinal cord researcher', 'global economist', 'human rights advocate', 'value-based health care advocate', 'drones ecologist', 'airborne ecologist', 'robotics activist', 'airborne logistics activist', 'educational psychology professor', 'social investment visionary', 'bio researcher', 'political pundit', 'colombian politician', 'environmental and literacy activist', 'community-minded architect', 'cave explorer', 'place maker', 'mayor', 'comedian and writer', 'poet and language advocate', 'financial management expert', 'neuroscientist and science writer', 'digital humanities researcher', \"women's-health expert\", 'consultant', 'musician and graphic designer', 'criminal justice reformer', 'teen activist', 'animal scientist', 'violence and abuse prevention expert', 'satellite designer', 'sustainability strategist', 'sustainable investment champion', 'speech scientist', 'biomaterials researcher', 'equality advocate', 'regenerative neurologist', 'financial expert', 'student scientist', 'rating agency reformer', 'privacy researcher and activist', 'visual grammar engine inventor', 'public policy thinker', 'technology writer', 'wild sex biologist', 'philosopher and writer', 'whistleblower', 'deputy director', 'technology designer', 'security maven', 'bionics designer', 'ballroom dancer', 'model and activist', 'amateur musicians', 'community director', 'education pioneer', 'biomechatronics engineer', 'former u.s. representative and nasa astronaut; survivors', 'endocrinologist', 'planet finder', 'plasma physicist', 'interaction designer', 'sports science reporter', 'eye surgeon', 'climate scientist', 'investment expert', 'music producer and dj', 'academic', 'golden gate guardian', 'ocean advocate', 'punter and author', 'journalist and documentarian', 'vagabond photojournalist + conceptual artist', 'open-science advocate', 'poetry critic', 'documentary filmmaker', 'investigative journalist', 'systems biologist', 'language historian', 'poet and educator', 'security researcher', 'music technologist', 'cybersecurity researcher', 'firefly specialist', 'policy advisor', 'relentless mind', 'professor of international law', 'cruciverbalist', 'education entrepreneur', 'molecular animator', 'prison administrator and reformer', 'civic evangelist', 'architect + ecotourism specialist', 'photographer + storyteller', 'microinsurer', 'citizen journalist', 'comedian + designer', 'writer and philosopher', 'eco-entrepreneur', 'strategist', 'director of the gapminder foundation', \"children's book author\", '3d printer', 'climate economist', 'data editor of the economist', 'emergency medical technician', 'environmental engineer', 'cuban health care expert', 'self-esteem advocate', 'democracy activist', 'remittances expert', 'public-health expert', 'cancer technologist', 'voice for refugees', 'data analyst', 'educational entrepreneur', 'veteran aid worker', 'ocean explorer and environmentalist', 'science humorist', 'international litigator', 'aerial robotics researcher', 'chaplain + author', 'political mobilization activist', 'president of mauritius', 'urban architect', 'favela painters', 'drug-resistance economist', 'drug policy reformer', 'emergency physician', 'music icon', 'information security manager', 'space scientist', 'mother + als advocate', 'storytelling activist', 'amazonian ethnobotanist', 'human-rights activist', 'human resources expert', 'choreographer', 'anti-guerrilla creative', 'documentary photographer', 'slow television advocate', 'attorney + privacy advocate', 'diversity advocate', 'livestreaming activist', 'graffiti artist + activist', 'protector of whales', 'map researcher', 'entrepreneur + educator', 'forensic anthropologist', 'forester and sustainability activist', 'innovation strategist', 'megacities expert', 'microroboticist', 'human resources professional', 'peace and conflict researcher', 'cross-cultural consultant', 'creative spirit', 'techno-sociologist', 'organizational changemaker', 'smart product inventor', 'pediatrician', 'space researcher', 'microbial ecologist', 'women’s rights activist and entrepreneur', 'medical researcher', 'conservation technologist', 'poet physician', 'secure email developer', 'civic entrepreneur', 'prison reform advocate', 'management professor', 'humanitarian', 'social activist', 'story collector', 'entrepreneur and philanthropist', 'perceptual navigation specialist', 'international relations expert', 'math educator', 'space explorer', 'children’s rights activist', 'planetary explorer', 'human rights attorney', 'immersive storyteller', 'urban sociologist', 'plant geneticist', 'director/choreographer', 'synthetic biologist', 'sustainable designer', 'digital storyteller', 'inmates', 'transhumanist', 'physical therapy entrepreneur', 'animal rights lawyer', 'surf photographer', 'exoplanet expert', 'last tribes photographer', 'product creator', 'high school principal', 'writer and editor', 'jazz pianist', 'public health journalist', 'circular economy advocate', 'radio researcher', 'global journalist', 'listener', 'photo editor', 'open-source engineer and artist', 'peace expert', 'conflict and security researcher', 'social observer', 'new media artist', 'laser scientist', 'advocate', 'data visualization researcher', 'quantum physicist', 'disaster roboticist', 'social media analyst', 'stratospheric explorer', 'palliative care physician', 'tennis legend and activist', 'foreign policy strategist', 'family activist', 'global leader', 'poet and activist', 'climate scholar', 'cancer physician and writer', 'neural stem cell researcher', \"women's health pioneer\", 'speleologist', 'innovator and social entrepreneur', 'sound artist', 'documentary filmmakers', 'author and journalist', 'journalist and psychologist', 'sneaker data expert', 'virtual reality pioneer', 'president of the republic of kiribati', 'paleoanthropologist and rock art researcher', 'coral reef biologist', 'strategy consultant', 'visionary inventor', 'world champion freediver', 'beatboxers', 'comedian and actor', 'secretary-general of the united nations', 'psychiatrist', 'chief of the community partnership division', 'cave diver', 'professor of molecular and cell biology', 'writer and poet', 'green entrepreneur', 'art historian', 'economist and professor', 'policy expert', 'activists', 'programmer', 'geoscientist', 'mindful addiction doctor', 'computational geneticist', 'special olympics international sargent shriver global messenger', 'human-computer interaction researcher and designer', 'textual scientist', 'entrepreneur and conservationist', 'functional neurosurgeon', 'writer and radio host', 'sustainable investment expert', 'new york city health commissioner', 'conservation photographer', 'textile artist', 'big data techno-\\xadoptimist and internist', 'ocean scientist', 'product designer', 'founder of callisto', 'juvenile justice reformer', 'ceo and co-founder', 'artist and photographer', 'gun-control activist', 'organizational psychologist', 'disrupter', 'campaign leader', 'medical researcher and educator', 'copy editor', 'marine toxicologist', 'mobile finance entrepreneur', 'fixer', \"researchers' dream donator\", 'design critic', 'author and playwright', 'conceptual artist', 'developmental researcher', 'biomedical entrepreneur', 'sex worker and activist', 'physician and men’s health advocate', 'actor and marine corps veteran', 'drummer', 'narrative photographer', 'peacemaker', 'biohacker', 'design thinker', 'survivor and activist', 'personality researcher', 'sonic astrophysicist', \"women's advocate\", 'sustainability crusader', 'forest ecologist', 'machine learning expert', 'space physicist', 'industrial systems thinker', 'anatomical artist', 'media studies scholar', 'stranger enthusiast', 'global affairs thinker', 'pediatric cardiologist', 'currency futurist', 'climate policy expert', 'management researcher', 'biotech entrepreneur', 'nanobiotechnologist', 'immigration scholar', 'creative arts therapist', 'organizational change expert', 'artistic director', 'bioelectronics innovator', 'electoral consultant', 'global citizen', 'painter', 'musical explorers', 'data activist', 'civil rights advocate', 'blockchain entrepreneur and researcher', 'logician', 'broadcast personality', 'energy scholar', 'human rights activist', 'social geographer', 'transgender activist', 'rocket scientist', 'bioethicist', 'rabbi', 'experimental particle physicist', 'nuclear reformer', 'food entrepreneur', 'sex researcher', 'materials scientist', 'software pioneer', 'developmental and regeneration biologist', 'cybercrime fighter', 'data visualisation editor', 'learning expert', 'spacecraft operations engineer', 'co-author', 'cancer fighter', 'humanitarian psychologist', 'communications researcher', 'guitar duo', 'cultural theorist', 'public sector researcher', 'media researcher', 'pediatric psychologist', 'theater director', 'poet of code', 'progressive mortician', 'asteroid hunter', 'literary scholar', 'pediatric icu doctor', 'youth inventor', 'lactation researcher', 'drug policy expert', 'epigeneticist', 'pricing consultant', 'tv journalist', 'gospel ensemble', 'imaging scientist', 'information security specialist', 'public health sociologist', 'information designer', 'futurist', 'first aid instructor', \"women's health advocate\", 'video game designer', 'financial literacy advocate', 'bishop of rome', 'athlete', 'cyberspace analyst', 'photographic ethnographer', 'ai expert', 'caregiver', 'sleep researcher', 'mental health advocate', 'attorney', 'chemical oceanographer', 'grandmaster', 'human justice advocate', 'autism advocate', 'ai and machine learning engineer', 'citizen biomedical researcher', 'refugee advocate', 'refugee activist', 'religious leader', 'technology ethnographer', 'business executive', 'physiologist', 'art editor', 'ai product designer', 'microbiologist', 'movement artist', 'spoken word artist', 'fancy dancer', 'artist and filmmaker', 'clinical professor of law', 'mayor of albuquerque', 'urban designer', 'developmental psychologist', 'computational social scientist', 'chemical biologist', 'child protection leader', 'surveillance and cybersecurity counsel', 'digital archaeologist', 'policy researcher', 'hedge fund chair', 'fertility doctor', 'marketing leader', 'talent development leader', 'border specialist', 'genomics researcher', 'astrobiologist', 'robotics engineer', 'place-maker', 'logistics expert', 'interdisciplinary artist', 'multimedia producer', 'technology entrepreneur', 'indigenous knowledge expert', 'innovation leader', 'children’s media expert', 'glaciologist', 'commissioner for competition', 'business development manager', 'actress', 'management consultant', 'encourager-in-chief', 'geoengineering researcher', 'paleobiologist', 'science fiction writer', 'wildlife ecologist', 'research ecologist', 'youtuber', 'perfection enthusiast', 'criminal and social justice reform advocate', 'homeless advocate', 'meteorologist', 'nurse. writer. realistic idealist.', 'human-centered strategist', 'professor of marketing', 'craftivist', 'restaurateur', 'dangerous woman', 'freelance journalist', 'mayor of tulsa', 'lettering designer', 'sleep scientist', 'brand protection manager', 'food activist', 'media analytics expert', 'urbanist', 'domestic peace advocate', 'retail expert', 'radiation scientist', 'transport entrepreneur', 'essayist', 'water conservation activist', 'space entrepreneur', 'naturalist', 'art fair curator', 'technology innovator', 'record digger', 'behavioral and learning scientist', 'legal empowerment advocate', 'project and change professional', 'patient advocate', 'environmental policy expert', 'infectious disease specialist', 'social impact strategist', 'aerial photographer', 'plastics alchemist', 'mosquito scientist', 'general counsel', 'space engineer and development scholar', 'web developer', 'marine microbiologist', 'agriculturalist', 'design ambassador', 'blues musician', 'businessman', 'medical student', 'fashion enthusiast', 'ai research scientist', 'software programmer', 'racial literacy leader', 'urban refugee expert', 'ai researcher', 'material researcher', 'it manager', 'radio glaciologist', 'mental health awareness advocate', 'experimental psychologist', 'fashion revolutionary', 'cell engineer', 'master inventor', \"women's rights activist\", 'ethnomusicologist', 'audio documentarian', 'afro-pop innovators', 'business developer', 'encryption expert', 'body activist', 'counter-extremism specialist', 'social innovation expert', 'disability rights activist', 'theoretical biologist', 'material innovator', 'tribal attorney and advocate', 'arts curator', 'advocate for visually impaired people', 'public defender', 'strategic marketer', 'marine scientist', 'crusader for dialogue', 'space leader', 'cultural media builder', 'male reproductive health expert', \"victims' rights attorney\", 'biomedical engineering professor', 'voice expert', 'culture builder', 'multicultural millenial', 'international trade expert', 'numbers romantic', 'digital housing developer', 'sex educator', 'renegade economist', 'humanitarian aid entrepreneur', 'research investigator', 'life preserver', 'ear surgeon', 'social artist', 'applied physicist', 'librarian', 'geopolitical technologist', 'mental health specialist', 'flight junkie', 'microbial oceanographer', 'developmental psychology professor', 'chemical engineer', 'organic chemist', 'agricultural leader', 'computational microbiologist', 'genome writer', 'psychological scientist', 'technology journalist', 'research leader and ancient dna specialist', 'songwriter', 'performer', 'oncologist', 'creative director', 'banker', 'child advocate', 'inclusion advocate', 'craft curator', 'environmental data scientist', 'reproductive psychiatrist', 'money coach', 'equal housing maven', 'author of mcmansionhell', 'human rights lawyer', 'ai and music entrepreneur', 'analytical chemist', 'brass ensemble', 'health care futurist', 'regenerative tissue engineer', 'archaeologist', 'compositor', 'law enforcement professional', 'prosecutor', 'publicist', 'community servant', 'environmental justice advocate', 'clinical sexologist and psychotherapist', 'brand creator', 'rock climber', 'fraud researcher', 'infectious disease doctor', 'robot ethicist', 'investment agitator', 'action and hardware architect', 'dj collective', 'author/protecther', 'editorial director and curator', 'information security researcher', 'redistricting advocate', 'bridge builder', 'community engagement specialist', 'film producer', 'finance professor', 'comics writer', 'comics creator', 'interactive storyteller', 'global supply chain leader', 'legal scholar', 'systems strategist', 'civil rights activist', 'energy storyteller', 'visual educator', 'técnica agropecuaria y agroalimentaria', 'audio/video editor', 'technology mentor', 'media theorist', 'assistant professor of cognitive science and neuroscience at the university of california at san diego', 'sign language interpreter', 'formulation scientist', 'stratification economist', 'afro-latina researcher and curator', 'humanitarian warrior', 'leadership development expert', 'language mentor', 'transformation expert', 'sound geneticist', 'structural biologist', 'urban landscape architect', 'civic engagement champion', 'climate activist', 'physics + education', 'peer educator', 'biological anthropologist', 'organizational ethnographer', 'democratizer', 'behavioral scientist', 'podcaster', 'equity visionary', 'physics + communication', 'sleep and noise researcher', 'haptic designer', 'paleontologist - head of the school of biological sciences at the university of bristol.', 'rural social worker', 'wife', 'technology developer', 'bench scientist', 'dementia-care visionary', 'ear', 'social and personality psychologist', 'musicians', 'ai technologist', 'solar designer', 'nanophysicist', 'maverick producer', 'psychology researcher', 'community organizer', 'co-founder of \\u200btelebuddy', 'scholar', 'ted current affairs curator', 'behavioral biologist', 'environmental entrepreneur', 'happiness teacher', 'serious comedian', 'creative activist', 'computer graphics software researcher', 'biobehavioral scientist', 'relationship revolutionary', 'food innovator', 'yogurt maker', 'motivational speaker', 'justice and education scholar', 'spoken word poet', 'senior researcher assistant', 'assistant professor of neurobiology', 'former national park ranger', 'divinity professor', 'theoretical astrophysicist', 'conflict mediator', 'mayor of the city of stockton', 'associate professor in marine biology & global change', 'computational biologist', 'ancient technology architect', 'digital creator', 'science advocate', 'screenwriter', 'food enthusiast', 'distinguished professor of neuroeconomics', 'space environmentalist', 'president of sierra leone', 'venture investor', 'psychedelics researcher', 'robotician', 'obituaries editor', 'refugee and immigrants rights attorney', 'psychological illusionist', 'early education innovator', 'maternal health reformer', 'network scientist', 'first minister of scotland', 'police captain', 'microbiology maverick', 'scuba instructor', 'undersea explorer', 'science curator', 'professor of neuroscience and of music', 'science storyteller', 'climate innovation activist', 'rapper', 'broadcast journalist', 'soil scientist', 'improvisor', 'child safety advocate', 'justice scientist', 'law professor', 'cross-disciplinary scientist', 'programador', 'lion conservationist', 'language creator', 'journalism entrepreneur', 'dance company', 'botanist', 'social worker', 'ocean conservationist', 'nanotechnologist', 'public sector strategist', 'misinformation expert', 'fishing cat conservationist', 'circus arts entertainers', 'energy scientist', 'labor entrepreneur', 'animal-borne disease researcher', 'psychotherapist', 'open water swimmer', 'corporate sustainability expert', 'leaders of the yawanawá', 'evolutionary anthropologist', 'human rights protector', 'rocket entrepreneur', 'cryptographer', 'immigration attorney', 'bióloga', 'nuclear security expert', 'language activist', 'planetary astronomer', 'electrochemist', 'artist and creative technologist', 'development strategist', 'business leader', 'water protector', 'microbiome researcher', 'astrophyscist', 'hunger hero', 'jpl education specialist', 'productor audiovisual', 'gymnastics coach', 'human rights and disability activist', 'bioprocess engineer', 'comparative anatomist', 'e-governance expert', 'climate justice and human rights lawyer', 'immigration policy analyst', 'democracy advisor', 'physics', 'health justice advocate', 'ob/gyn', 'enzyme engineer', 'travel photographer', 'biological oceanographer', 'holocaust survivor', 'molecular engineer', 'global health activist', 'secondary school english literature educator @tcis', 'political cartoonist', 'professor of african american and diaspora studies', 'medical clown', 'tribologist', 'human-elephant ambassador', 'banking executive', 'digital anthropologist', 'digital markets expert', 'science and environment correspondent', 'design evangelist', 'public health leader', 'filmmaking pioneer', 'legal identity expert', 'gender equity expert', 'digital security expert', 'climate psychologist', 'perception designer', 'interplanetary navigator', 'global health fighter', 'communications consultant', 'biophysicist', 'infectious disease scientist', 'tech strategist', 'farmer', 'sex chromosome editor', 'electrical engineer', 'digital marketing consultant', 'neurodiversity advocate', 'social designer', 'classicist', 'business curator', 'interdisciplinary researcher', 'space chemist', 'experimental physicist', 'analyst', 'political strategist', 'law researcher', 'educator', 'comedian', 'cognitive scientist', 'author', 'philanthropist', 'architecture for humanity', 'composer', 'engineer', 'six apart', 'expert on love', 'activist', 'grameenphone', 'futurist', 'multimedia artist', 'success analyst', 'ethnobotanist', 'philosopher', 'playwright', 'personal fab pioneer', 'thinker', 'biomechanics researcher', 'nobel laureate', 'ideo', 'academic', 'innovation consultant', 'performance artist', 'genetics pioneer', 'environmentalist', 'entrepreneur and philanthropist', 'brain researcher', 'digital product designer', 'experience designer', 'inventor', 'storyteller', 'poet', 'energy guru', 'publisher', 'education activist', 'public radio international (pri)', 'product designer', 'national geographic', 'marketer', 'disaster-preparedness activist', 'coach and baker', 'samsung research america', 'psychiatrist', 'critical thinker', 'human guinea pig', 'rock climber', 'executive', 'world bank', 'development visionary', 'innovator', 'actor', 'lawyer', 'explorer', 'voice artist', 'endurance artist', 'transparency international', 'autism activist', 'cell biologist', 'simplicity guru', 'city councilman', 'social scientist', 'journalist', '4chan', 'artist', 'illustrator', 'lego enthusiast', 'designer', 'writer', 'digital visionary', 'the 99', 'photographer', 'biogeochemist', 'singer-songwriter', 'filmmakers', 'facebook', 'psychologist', 'cancer researcher', 'columnist', 'scientist and entrepreneur', 'runner', 'ethnographer', 'volunteer firefighter', 'entrepreneur', 'conductor', 'biofabrication pioneer', 'cosmologist', 'ford motor co.', 'producer', 'zen priest', 'tv host', 'plain language activist', '12 year old', 'geneticist', 'urban farmer', 'social entrepreneur', 'nuclear technologist', 'swimmer', 'broadcaster', 'kiva systems', 'techno-activist', 'presentation designer', 'doha film institute', 'time magazine', 'youtube', 'university of waterloo', 'intensive care specialist', 'nobelist', 'earthspark international', 'beatboxer', 'rare book scholar', 'data activist', 'incredible edible', 'filmmaker', 'expert witness', 'mozilla foundation', 'disgust researcher', 'team rubicon', 'lumos', 'wildlife photographer', 'community science advocate', 'blogger', 'speaker', 'physician', 'performer', 'ethicist', 'director', 'researcher', 'future today institute', 'policy influencer', 'urban activist', 'unilever', 'animator', 'community manager', 'nsa', 'ocean swimmer', 'advocate', 'singer', 'historian', 'visionary', 'sanitation activist', 'social progress expert', 'public health advocate', 'evolutionary biologist', 'google', 'biologist', 'data scientist', 'potter', 'stand-up comic', 'dancer', 'composer and culturist', 'social advocate', 'mathematician', 'traveler', 'coach', 'anthropologist', 'social entrepreneur and author', 'psychoanalyst', 'astrobiologist', 'baltimore police department', 'explorer-photographer', 'storyteller and illustrator', 'infectious disease researcher', 'author and social justice advocate', 'co-founder of airbnb', 'meta', 'irelaunch', 'pixar', 'global witness', 'co-founder of menstrupedia', 'bioengineer and entrepreneur', 'activist and legal analyst', 'gates foundation', 'writer and humanitarian', 'activision', 'indigenous rights activist', 'venturer', 'musician', 'graphic designer', 'choreographer', 'electrical engineer', 'transportation geek', 'politician', 'organizer', 'student scientist', 'landscape gardener', 'radio host', 'songwriter', 'singer/songwriter', 'global health policy analyst', \"women's empowerment advocate\", 'novelist', 'primatologist', 'climate expert', 'public-interest activist', 'analyst', 'critic', 'essayist', 'gravity', 'songwriter and producer', 'news anchor', 'peace advocate', 'inventor and strategist', 'podcaster', 'human rights activist', 'editor', 'european union', 'diversity researcher', 'creative technologist', 'ted residency', 'nature photographer and safari guide', 'social psychologist', 'economist', 'investor', 'oklahoma', 'technologist', 'lyricist', 'dj', 'lecturer', 'energy optimist', 'peace activist', 'molecular epidemiologist', 'youth worker', 'fairness crusader', 'talent expert', 'theatre-maker', 'science fan', 'social worker', 'helpline advocate', 'architect', 'pencil store owner', 'urbanist', 'teacher', 'model', 'screenwriter', 'percussionist', 'humanitarian', 'human rights advocate', 'student activist', 'robotics enthusiast', 'scientist', 'cellist', 'bridge designer', 'youtuber', 'investigative journalist', 'banjoist', 'mentor', 'tobacco-free advocate', 'computer scientist', 'venture capitalist', 'speechwriter', 'addiction treatment specialist', 'actor & activist', 'government affairs professional', 'collaboration catalyst', 'museum curator', 'strategist and music advocate', 'games specialist', 'venom researcher', 'set designer', 'documentary filmmaker', 'ted institute', 'professor', 'comics artist', 'champion debater', 'synthetic biologist', 'coalition-builder', 'charity worker', 'counselor', 'equity advocate', 'social justice scholar', 'scholar', 'maven', 'consultant', 'community organizer', 'mother', 'bioinformatician', 'pianist', 'nose and throat surgeon', 'dedicated to scientific research at the european space agency', 'pediatrician', 'podcast host', 'mechanical engineer', 'programmer', 'policy analyst', 'visual artist', 'medical entomologist', 'community clothing', 'california', 'dishwasher', 'dog trainer', 'writer and historian of typography', 'shark diver', 'diplomat', 'singer and writer', 'diversity advocate', 'facilitator', 'deepfake scholar', 'coder', 'theater director', 'scriptwriter', 'health policy expert', 'video game creator', 'stellar mortician', '\"co-conspirator\"', 'paleontologist', 'supply chain innovator', 'pain medicine physician', 'magician', 'business systems consultant manager', 'neuroscientist', 'student', 'political theorist', 'psychosomatic psychiatrist', 'playwright', 'social critic', 'activist', 'futurist', 'conservationist', 'outer space dreamer', 'internet anthropologist', 'photographer', 'education activist', 'skeptic', 'author', 'entrepreneur', 'poet', 'writer', 'typographer', 'speaker', 'broadcaster', 'public health innovator', 'comedian', 'educator', 'urban planner', 'reformer', 'podcaster', 'philanthropist ...', 'inventor', 'optical physicist', 'artist', 'community builder', 'artist ...', 'consultant', 'zen priest', 'actor', 'engineer', 'composer', 'filmmaker', 'human rights advocate', 'computer scientist', 'actress', 'death care advocate', 'media entrepreneur', 'lawyer', 'guest host', 'researcher', 'producer', 'editor', 'social entrepreneur', 'screenwriter', 'music entrepreneur', '\"idea acupuncturist\"', 'freedom fighter', 'musician', 'media consultant', 'performer', 'pop culture enthusiast', 'private investigator', 'social change agent', 'community organizer', 'explorer', 'visual artist', 'public health expert', 'motivational speaker', 'storyteller', 'comics creator', 'senior publishing executive', 'advocate', 'acoustic engineer', 'cultural worker', 'cultural critic', 'grandmother', 'designer', 'journalist', 'marine biologist & model', 'academic', 'teacher', 'professor', 'theater and film director', 'investor', 'host', 'youth leadership advocate', 'physician and educator', 'podcaster', 'actor', 'writer', 'activist', 'lawyer', 'author', 'editor', 'friend', 'activist', 'publisher']\n"
          ]
        }
      ]
    },
    {
      "cell_type": "markdown",
      "source": [
        "<h3>3.4 Temporial Data Analysis</h3>"
      ],
      "metadata": {
        "id": "U5B_Dc5p0Zxm"
      }
    },
    {
      "cell_type": "markdown",
      "source": [
        "Get the release day. e.g. Monday,.....\n",
        "- Release day is impacting the views or not ?"
      ],
      "metadata": {
        "id": "o1ZWv6hKxTSg"
      }
    },
    {
      "cell_type": "code",
      "source": [
        "df['published_date'] = pd.to_datetime(df['published_date'])\n",
        "df['published_day'] = df['published_date'].dt.day_name()"
      ],
      "metadata": {
        "id": "RzKAjkP2qFo2"
      },
      "execution_count": null,
      "outputs": []
    },
    {
      "cell_type": "code",
      "source": [
        "df[['published_date','published_day','published_month','published_year']].tail(5)"
      ],
      "metadata": {
        "colab": {
          "base_uri": "https://localhost:8080/",
          "height": 206
        },
        "id": "zIZ6CaDywUEm",
        "outputId": "784736ef-d7e2-4bde-e09f-4460d4a6a167"
      },
      "execution_count": null,
      "outputs": [
        {
          "output_type": "execute_result",
          "data": {
            "text/plain": [
              "     published_date published_day  published_month  published_year\n",
              "4000     2020-04-27        Monday                4            2020\n",
              "4001     2020-04-27        Monday                4            2020\n",
              "4002     2020-04-28       Tuesday                4            2020\n",
              "4003     2020-04-30      Thursday                4            2020\n",
              "4004     2020-04-30      Thursday                4            2020"
            ],
            "text/html": [
              "\n",
              "  <div id=\"df-26f3af88-9229-4f95-9634-532d6772f496\" class=\"colab-df-container\">\n",
              "    <div>\n",
              "<style scoped>\n",
              "    .dataframe tbody tr th:only-of-type {\n",
              "        vertical-align: middle;\n",
              "    }\n",
              "\n",
              "    .dataframe tbody tr th {\n",
              "        vertical-align: top;\n",
              "    }\n",
              "\n",
              "    .dataframe thead th {\n",
              "        text-align: right;\n",
              "    }\n",
              "</style>\n",
              "<table border=\"1\" class=\"dataframe\">\n",
              "  <thead>\n",
              "    <tr style=\"text-align: right;\">\n",
              "      <th></th>\n",
              "      <th>published_date</th>\n",
              "      <th>published_day</th>\n",
              "      <th>published_month</th>\n",
              "      <th>published_year</th>\n",
              "    </tr>\n",
              "  </thead>\n",
              "  <tbody>\n",
              "    <tr>\n",
              "      <th>4000</th>\n",
              "      <td>2020-04-27</td>\n",
              "      <td>Monday</td>\n",
              "      <td>4</td>\n",
              "      <td>2020</td>\n",
              "    </tr>\n",
              "    <tr>\n",
              "      <th>4001</th>\n",
              "      <td>2020-04-27</td>\n",
              "      <td>Monday</td>\n",
              "      <td>4</td>\n",
              "      <td>2020</td>\n",
              "    </tr>\n",
              "    <tr>\n",
              "      <th>4002</th>\n",
              "      <td>2020-04-28</td>\n",
              "      <td>Tuesday</td>\n",
              "      <td>4</td>\n",
              "      <td>2020</td>\n",
              "    </tr>\n",
              "    <tr>\n",
              "      <th>4003</th>\n",
              "      <td>2020-04-30</td>\n",
              "      <td>Thursday</td>\n",
              "      <td>4</td>\n",
              "      <td>2020</td>\n",
              "    </tr>\n",
              "    <tr>\n",
              "      <th>4004</th>\n",
              "      <td>2020-04-30</td>\n",
              "      <td>Thursday</td>\n",
              "      <td>4</td>\n",
              "      <td>2020</td>\n",
              "    </tr>\n",
              "  </tbody>\n",
              "</table>\n",
              "</div>\n",
              "    <div class=\"colab-df-buttons\">\n",
              "\n",
              "  <div class=\"colab-df-container\">\n",
              "    <button class=\"colab-df-convert\" onclick=\"convertToInteractive('df-26f3af88-9229-4f95-9634-532d6772f496')\"\n",
              "            title=\"Convert this dataframe to an interactive table.\"\n",
              "            style=\"display:none;\">\n",
              "\n",
              "  <svg xmlns=\"http://www.w3.org/2000/svg\" height=\"24px\" viewBox=\"0 -960 960 960\">\n",
              "    <path d=\"M120-120v-720h720v720H120Zm60-500h600v-160H180v160Zm220 220h160v-160H400v160Zm0 220h160v-160H400v160ZM180-400h160v-160H180v160Zm440 0h160v-160H620v160ZM180-180h160v-160H180v160Zm440 0h160v-160H620v160Z\"/>\n",
              "  </svg>\n",
              "    </button>\n",
              "\n",
              "  <style>\n",
              "    .colab-df-container {\n",
              "      display:flex;\n",
              "      gap: 12px;\n",
              "    }\n",
              "\n",
              "    .colab-df-convert {\n",
              "      background-color: #E8F0FE;\n",
              "      border: none;\n",
              "      border-radius: 50%;\n",
              "      cursor: pointer;\n",
              "      display: none;\n",
              "      fill: #1967D2;\n",
              "      height: 32px;\n",
              "      padding: 0 0 0 0;\n",
              "      width: 32px;\n",
              "    }\n",
              "\n",
              "    .colab-df-convert:hover {\n",
              "      background-color: #E2EBFA;\n",
              "      box-shadow: 0px 1px 2px rgba(60, 64, 67, 0.3), 0px 1px 3px 1px rgba(60, 64, 67, 0.15);\n",
              "      fill: #174EA6;\n",
              "    }\n",
              "\n",
              "    .colab-df-buttons div {\n",
              "      margin-bottom: 4px;\n",
              "    }\n",
              "\n",
              "    [theme=dark] .colab-df-convert {\n",
              "      background-color: #3B4455;\n",
              "      fill: #D2E3FC;\n",
              "    }\n",
              "\n",
              "    [theme=dark] .colab-df-convert:hover {\n",
              "      background-color: #434B5C;\n",
              "      box-shadow: 0px 1px 3px 1px rgba(0, 0, 0, 0.15);\n",
              "      filter: drop-shadow(0px 1px 2px rgba(0, 0, 0, 0.3));\n",
              "      fill: #FFFFFF;\n",
              "    }\n",
              "  </style>\n",
              "\n",
              "    <script>\n",
              "      const buttonEl =\n",
              "        document.querySelector('#df-26f3af88-9229-4f95-9634-532d6772f496 button.colab-df-convert');\n",
              "      buttonEl.style.display =\n",
              "        google.colab.kernel.accessAllowed ? 'block' : 'none';\n",
              "\n",
              "      async function convertToInteractive(key) {\n",
              "        const element = document.querySelector('#df-26f3af88-9229-4f95-9634-532d6772f496');\n",
              "        const dataTable =\n",
              "          await google.colab.kernel.invokeFunction('convertToInteractive',\n",
              "                                                    [key], {});\n",
              "        if (!dataTable) return;\n",
              "\n",
              "        const docLinkHtml = 'Like what you see? Visit the ' +\n",
              "          '<a target=\"_blank\" href=https://colab.research.google.com/notebooks/data_table.ipynb>data table notebook</a>'\n",
              "          + ' to learn more about interactive tables.';\n",
              "        element.innerHTML = '';\n",
              "        dataTable['output_type'] = 'display_data';\n",
              "        await google.colab.output.renderOutput(dataTable, element);\n",
              "        const docLink = document.createElement('div');\n",
              "        docLink.innerHTML = docLinkHtml;\n",
              "        element.appendChild(docLink);\n",
              "      }\n",
              "    </script>\n",
              "  </div>\n",
              "\n",
              "\n",
              "<div id=\"df-d0502344-0e1d-45f5-a868-9357beffb550\">\n",
              "  <button class=\"colab-df-quickchart\" onclick=\"quickchart('df-d0502344-0e1d-45f5-a868-9357beffb550')\"\n",
              "            title=\"Suggest charts.\"\n",
              "            style=\"display:none;\">\n",
              "\n",
              "<svg xmlns=\"http://www.w3.org/2000/svg\" height=\"24px\"viewBox=\"0 0 24 24\"\n",
              "     width=\"24px\">\n",
              "    <g>\n",
              "        <path d=\"M19 3H5c-1.1 0-2 .9-2 2v14c0 1.1.9 2 2 2h14c1.1 0 2-.9 2-2V5c0-1.1-.9-2-2-2zM9 17H7v-7h2v7zm4 0h-2V7h2v10zm4 0h-2v-4h2v4z\"/>\n",
              "    </g>\n",
              "</svg>\n",
              "  </button>\n",
              "\n",
              "<style>\n",
              "  .colab-df-quickchart {\n",
              "    background-color: #E8F0FE;\n",
              "    border: none;\n",
              "    border-radius: 50%;\n",
              "    cursor: pointer;\n",
              "    display: none;\n",
              "    fill: #1967D2;\n",
              "    height: 32px;\n",
              "    padding: 0 0 0 0;\n",
              "    width: 32px;\n",
              "  }\n",
              "\n",
              "  .colab-df-quickchart:hover {\n",
              "    background-color: #E2EBFA;\n",
              "    box-shadow: 0px 1px 2px rgba(60, 64, 67, 0.3), 0px 1px 3px 1px rgba(60, 64, 67, 0.15);\n",
              "    fill: #174EA6;\n",
              "  }\n",
              "\n",
              "  [theme=dark] .colab-df-quickchart {\n",
              "    background-color: #3B4455;\n",
              "    fill: #D2E3FC;\n",
              "  }\n",
              "\n",
              "  [theme=dark] .colab-df-quickchart:hover {\n",
              "    background-color: #434B5C;\n",
              "    box-shadow: 0px 1px 3px 1px rgba(0, 0, 0, 0.15);\n",
              "    filter: drop-shadow(0px 1px 2px rgba(0, 0, 0, 0.3));\n",
              "    fill: #FFFFFF;\n",
              "  }\n",
              "</style>\n",
              "\n",
              "  <script>\n",
              "    async function quickchart(key) {\n",
              "      const charts = await google.colab.kernel.invokeFunction(\n",
              "          'suggestCharts', [key], {});\n",
              "    }\n",
              "    (() => {\n",
              "      let quickchartButtonEl =\n",
              "        document.querySelector('#df-d0502344-0e1d-45f5-a868-9357beffb550 button');\n",
              "      quickchartButtonEl.style.display =\n",
              "        google.colab.kernel.accessAllowed ? 'block' : 'none';\n",
              "    })();\n",
              "  </script>\n",
              "</div>\n",
              "    </div>\n",
              "  </div>\n"
            ]
          },
          "metadata": {},
          "execution_count": 188
        }
      ]
    },
    {
      "cell_type": "code",
      "source": [
        "df['published_day'].value_counts(sort=True)"
      ],
      "metadata": {
        "colab": {
          "base_uri": "https://localhost:8080/"
        },
        "id": "JIXT1G9qxzAu",
        "outputId": "6bcf4034-a237-4538-cdfd-7c243e653e51"
      },
      "execution_count": null,
      "outputs": [
        {
          "output_type": "execute_result",
          "data": {
            "text/plain": [
              "Tuesday      857\n",
              "Thursday     832\n",
              "Friday       789\n",
              "Monday       727\n",
              "Wednesday    703\n",
              "Sunday        55\n",
              "Saturday      42\n",
              "Name: published_day, dtype: int64"
            ]
          },
          "metadata": {},
          "execution_count": 189
        }
      ]
    },
    {
      "cell_type": "markdown",
      "source": [
        "<h5>From the given data it seems to be that TED talk are mostly not published on Saturday & Sunday rather than publishing it in Weekdays i.e Tuesday,Monday,Thursday</h5>"
      ],
      "metadata": {
        "id": "lnLYc5gKyzHD"
      }
    },
    {
      "cell_type": "code",
      "source": [
        "df.groupby('published_day').agg(Total_views=('views', np.sum),Mean_views=('views', np.mean)).reset_index()"
      ],
      "metadata": {
        "colab": {
          "base_uri": "https://localhost:8080/",
          "height": 269
        },
        "id": "6PIws9abHIb9",
        "outputId": "5e22fadd-1918-40ec-cc71-57711318e7ea"
      },
      "execution_count": null,
      "outputs": [
        {
          "output_type": "execute_result",
          "data": {
            "text/plain": [
              "  published_day  Total_views    Mean_views\n",
              "0        Friday   2125417422  2.693812e+06\n",
              "1        Monday   1420460738  1.953866e+06\n",
              "2      Saturday     41251046  9.821678e+05\n",
              "3        Sunday     80193747  1.458068e+06\n",
              "4      Thursday   1587451192  1.907994e+06\n",
              "5       Tuesday   1735726562  2.025352e+06\n",
              "6     Wednesday   1612261616  2.293402e+06"
            ],
            "text/html": [
              "\n",
              "  <div id=\"df-560bcf55-0354-4268-a5ee-faae6dc12230\" class=\"colab-df-container\">\n",
              "    <div>\n",
              "<style scoped>\n",
              "    .dataframe tbody tr th:only-of-type {\n",
              "        vertical-align: middle;\n",
              "    }\n",
              "\n",
              "    .dataframe tbody tr th {\n",
              "        vertical-align: top;\n",
              "    }\n",
              "\n",
              "    .dataframe thead th {\n",
              "        text-align: right;\n",
              "    }\n",
              "</style>\n",
              "<table border=\"1\" class=\"dataframe\">\n",
              "  <thead>\n",
              "    <tr style=\"text-align: right;\">\n",
              "      <th></th>\n",
              "      <th>published_day</th>\n",
              "      <th>Total_views</th>\n",
              "      <th>Mean_views</th>\n",
              "    </tr>\n",
              "  </thead>\n",
              "  <tbody>\n",
              "    <tr>\n",
              "      <th>0</th>\n",
              "      <td>Friday</td>\n",
              "      <td>2125417422</td>\n",
              "      <td>2.693812e+06</td>\n",
              "    </tr>\n",
              "    <tr>\n",
              "      <th>1</th>\n",
              "      <td>Monday</td>\n",
              "      <td>1420460738</td>\n",
              "      <td>1.953866e+06</td>\n",
              "    </tr>\n",
              "    <tr>\n",
              "      <th>2</th>\n",
              "      <td>Saturday</td>\n",
              "      <td>41251046</td>\n",
              "      <td>9.821678e+05</td>\n",
              "    </tr>\n",
              "    <tr>\n",
              "      <th>3</th>\n",
              "      <td>Sunday</td>\n",
              "      <td>80193747</td>\n",
              "      <td>1.458068e+06</td>\n",
              "    </tr>\n",
              "    <tr>\n",
              "      <th>4</th>\n",
              "      <td>Thursday</td>\n",
              "      <td>1587451192</td>\n",
              "      <td>1.907994e+06</td>\n",
              "    </tr>\n",
              "    <tr>\n",
              "      <th>5</th>\n",
              "      <td>Tuesday</td>\n",
              "      <td>1735726562</td>\n",
              "      <td>2.025352e+06</td>\n",
              "    </tr>\n",
              "    <tr>\n",
              "      <th>6</th>\n",
              "      <td>Wednesday</td>\n",
              "      <td>1612261616</td>\n",
              "      <td>2.293402e+06</td>\n",
              "    </tr>\n",
              "  </tbody>\n",
              "</table>\n",
              "</div>\n",
              "    <div class=\"colab-df-buttons\">\n",
              "\n",
              "  <div class=\"colab-df-container\">\n",
              "    <button class=\"colab-df-convert\" onclick=\"convertToInteractive('df-560bcf55-0354-4268-a5ee-faae6dc12230')\"\n",
              "            title=\"Convert this dataframe to an interactive table.\"\n",
              "            style=\"display:none;\">\n",
              "\n",
              "  <svg xmlns=\"http://www.w3.org/2000/svg\" height=\"24px\" viewBox=\"0 -960 960 960\">\n",
              "    <path d=\"M120-120v-720h720v720H120Zm60-500h600v-160H180v160Zm220 220h160v-160H400v160Zm0 220h160v-160H400v160ZM180-400h160v-160H180v160Zm440 0h160v-160H620v160ZM180-180h160v-160H180v160Zm440 0h160v-160H620v160Z\"/>\n",
              "  </svg>\n",
              "    </button>\n",
              "\n",
              "  <style>\n",
              "    .colab-df-container {\n",
              "      display:flex;\n",
              "      gap: 12px;\n",
              "    }\n",
              "\n",
              "    .colab-df-convert {\n",
              "      background-color: #E8F0FE;\n",
              "      border: none;\n",
              "      border-radius: 50%;\n",
              "      cursor: pointer;\n",
              "      display: none;\n",
              "      fill: #1967D2;\n",
              "      height: 32px;\n",
              "      padding: 0 0 0 0;\n",
              "      width: 32px;\n",
              "    }\n",
              "\n",
              "    .colab-df-convert:hover {\n",
              "      background-color: #E2EBFA;\n",
              "      box-shadow: 0px 1px 2px rgba(60, 64, 67, 0.3), 0px 1px 3px 1px rgba(60, 64, 67, 0.15);\n",
              "      fill: #174EA6;\n",
              "    }\n",
              "\n",
              "    .colab-df-buttons div {\n",
              "      margin-bottom: 4px;\n",
              "    }\n",
              "\n",
              "    [theme=dark] .colab-df-convert {\n",
              "      background-color: #3B4455;\n",
              "      fill: #D2E3FC;\n",
              "    }\n",
              "\n",
              "    [theme=dark] .colab-df-convert:hover {\n",
              "      background-color: #434B5C;\n",
              "      box-shadow: 0px 1px 3px 1px rgba(0, 0, 0, 0.15);\n",
              "      filter: drop-shadow(0px 1px 2px rgba(0, 0, 0, 0.3));\n",
              "      fill: #FFFFFF;\n",
              "    }\n",
              "  </style>\n",
              "\n",
              "    <script>\n",
              "      const buttonEl =\n",
              "        document.querySelector('#df-560bcf55-0354-4268-a5ee-faae6dc12230 button.colab-df-convert');\n",
              "      buttonEl.style.display =\n",
              "        google.colab.kernel.accessAllowed ? 'block' : 'none';\n",
              "\n",
              "      async function convertToInteractive(key) {\n",
              "        const element = document.querySelector('#df-560bcf55-0354-4268-a5ee-faae6dc12230');\n",
              "        const dataTable =\n",
              "          await google.colab.kernel.invokeFunction('convertToInteractive',\n",
              "                                                    [key], {});\n",
              "        if (!dataTable) return;\n",
              "\n",
              "        const docLinkHtml = 'Like what you see? Visit the ' +\n",
              "          '<a target=\"_blank\" href=https://colab.research.google.com/notebooks/data_table.ipynb>data table notebook</a>'\n",
              "          + ' to learn more about interactive tables.';\n",
              "        element.innerHTML = '';\n",
              "        dataTable['output_type'] = 'display_data';\n",
              "        await google.colab.output.renderOutput(dataTable, element);\n",
              "        const docLink = document.createElement('div');\n",
              "        docLink.innerHTML = docLinkHtml;\n",
              "        element.appendChild(docLink);\n",
              "      }\n",
              "    </script>\n",
              "  </div>\n",
              "\n",
              "\n",
              "<div id=\"df-96fb6a73-50ff-4446-9a11-fa9f1781f34d\">\n",
              "  <button class=\"colab-df-quickchart\" onclick=\"quickchart('df-96fb6a73-50ff-4446-9a11-fa9f1781f34d')\"\n",
              "            title=\"Suggest charts.\"\n",
              "            style=\"display:none;\">\n",
              "\n",
              "<svg xmlns=\"http://www.w3.org/2000/svg\" height=\"24px\"viewBox=\"0 0 24 24\"\n",
              "     width=\"24px\">\n",
              "    <g>\n",
              "        <path d=\"M19 3H5c-1.1 0-2 .9-2 2v14c0 1.1.9 2 2 2h14c1.1 0 2-.9 2-2V5c0-1.1-.9-2-2-2zM9 17H7v-7h2v7zm4 0h-2V7h2v10zm4 0h-2v-4h2v4z\"/>\n",
              "    </g>\n",
              "</svg>\n",
              "  </button>\n",
              "\n",
              "<style>\n",
              "  .colab-df-quickchart {\n",
              "    background-color: #E8F0FE;\n",
              "    border: none;\n",
              "    border-radius: 50%;\n",
              "    cursor: pointer;\n",
              "    display: none;\n",
              "    fill: #1967D2;\n",
              "    height: 32px;\n",
              "    padding: 0 0 0 0;\n",
              "    width: 32px;\n",
              "  }\n",
              "\n",
              "  .colab-df-quickchart:hover {\n",
              "    background-color: #E2EBFA;\n",
              "    box-shadow: 0px 1px 2px rgba(60, 64, 67, 0.3), 0px 1px 3px 1px rgba(60, 64, 67, 0.15);\n",
              "    fill: #174EA6;\n",
              "  }\n",
              "\n",
              "  [theme=dark] .colab-df-quickchart {\n",
              "    background-color: #3B4455;\n",
              "    fill: #D2E3FC;\n",
              "  }\n",
              "\n",
              "  [theme=dark] .colab-df-quickchart:hover {\n",
              "    background-color: #434B5C;\n",
              "    box-shadow: 0px 1px 3px 1px rgba(0, 0, 0, 0.15);\n",
              "    filter: drop-shadow(0px 1px 2px rgba(0, 0, 0, 0.3));\n",
              "    fill: #FFFFFF;\n",
              "  }\n",
              "</style>\n",
              "\n",
              "  <script>\n",
              "    async function quickchart(key) {\n",
              "      const charts = await google.colab.kernel.invokeFunction(\n",
              "          'suggestCharts', [key], {});\n",
              "    }\n",
              "    (() => {\n",
              "      let quickchartButtonEl =\n",
              "        document.querySelector('#df-96fb6a73-50ff-4446-9a11-fa9f1781f34d button');\n",
              "      quickchartButtonEl.style.display =\n",
              "        google.colab.kernel.accessAllowed ? 'block' : 'none';\n",
              "    })();\n",
              "  </script>\n",
              "</div>\n",
              "    </div>\n",
              "  </div>\n"
            ]
          },
          "metadata": {},
          "execution_count": 190
        }
      ]
    },
    {
      "cell_type": "code",
      "source": [
        "result = df.groupby('published_day')['views'].mean()\n",
        "import seaborn as sns\n",
        "sns.barplot(x=result.index, y=result, order=result.sort_values(ascending = False).index)\n",
        "plt.xlabel('published_day')\n",
        "plt.ylabel('Total_Views')"
      ],
      "metadata": {
        "colab": {
          "base_uri": "https://localhost:8080/",
          "height": 482
        },
        "id": "Id33g9u4HRjI",
        "outputId": "9875bb17-4062-4528-f394-2e2fb407e58a"
      },
      "execution_count": null,
      "outputs": [
        {
          "output_type": "execute_result",
          "data": {
            "text/plain": [
              "Text(0, 0.5, 'Total_Views')"
            ]
          },
          "metadata": {},
          "execution_count": 191
        },
        {
          "output_type": "display_data",
          "data": {
            "text/plain": [
              "<Figure size 640x480 with 1 Axes>"
            ],
            "image/png": "[encoded data removed]"
          },
          "metadata": {}
        }
      ]
    },
    {
      "cell_type": "code",
      "source": [
        "result = df.groupby('published_day')['views'].sum()\n",
        "sns.barplot(x=result.index, y=result, order=result.sort_values(ascending = False).index)\n",
        "plt.xlabel('published_day')\n",
        "plt.ylabel('Total_Views')"
      ],
      "metadata": {
        "colab": {
          "base_uri": "https://localhost:8080/",
          "height": 482
        },
        "id": "2W3Fy9wlLpOb",
        "outputId": "c054468a-d467-4f32-96b5-7e6ba0d5fd3c"
      },
      "execution_count": null,
      "outputs": [
        {
          "output_type": "execute_result",
          "data": {
            "text/plain": [
              "Text(0, 0.5, 'Total_Views')"
            ]
          },
          "metadata": {},
          "execution_count": 192
        },
        {
          "output_type": "display_data",
          "data": {
            "text/plain": [
              "<Figure size 640x480 with 1 Axes>"
            ],
            "image/png": "[encoded data removed]"
          },
          "metadata": {}
        }
      ]
    },
    {
      "cell_type": "markdown",
      "source": [
        "Observation: Even though there are enough amounts of TED Talks been released on Friday so we have max amount of views for Friday"
      ],
      "metadata": {
        "id": "OH7D84FzzZab"
      }
    },
    {
      "cell_type": "markdown",
      "source": [
        "<h4>Get the Published Month</h4>\n",
        "\n",
        "Is Published Month impacting the views or not ?"
      ],
      "metadata": {
        "id": "jjwETCYQ0tAj"
      }
    },
    {
      "cell_type": "code",
      "source": [
        "df[['published_date','published_day','published_month','published_year']].tail(2)"
      ],
      "metadata": {
        "colab": {
          "base_uri": "https://localhost:8080/",
          "height": 112
        },
        "id": "Jp-_NCJkyuU_",
        "outputId": "51bd2c6a-67e4-4256-cff5-f1741aa70713"
      },
      "execution_count": null,
      "outputs": [
        {
          "output_type": "execute_result",
          "data": {
            "text/plain": [
              "     published_date published_day  published_month  published_year\n",
              "4003     2020-04-30      Thursday                4            2020\n",
              "4004     2020-04-30      Thursday                4            2020"
            ],
            "text/html": [
              "\n",
              "  <div id=\"df-3546bba5-4508-4a70-ad82-5912e575c1a6\" class=\"colab-df-container\">\n",
              "    <div>\n",
              "<style scoped>\n",
              "    .dataframe tbody tr th:only-of-type {\n",
              "        vertical-align: middle;\n",
              "    }\n",
              "\n",
              "    .dataframe tbody tr th {\n",
              "        vertical-align: top;\n",
              "    }\n",
              "\n",
              "    .dataframe thead th {\n",
              "        text-align: right;\n",
              "    }\n",
              "</style>\n",
              "<table border=\"1\" class=\"dataframe\">\n",
              "  <thead>\n",
              "    <tr style=\"text-align: right;\">\n",
              "      <th></th>\n",
              "      <th>published_date</th>\n",
              "      <th>published_day</th>\n",
              "      <th>published_month</th>\n",
              "      <th>published_year</th>\n",
              "    </tr>\n",
              "  </thead>\n",
              "  <tbody>\n",
              "    <tr>\n",
              "      <th>4003</th>\n",
              "      <td>2020-04-30</td>\n",
              "      <td>Thursday</td>\n",
              "      <td>4</td>\n",
              "      <td>2020</td>\n",
              "    </tr>\n",
              "    <tr>\n",
              "      <th>4004</th>\n",
              "      <td>2020-04-30</td>\n",
              "      <td>Thursday</td>\n",
              "      <td>4</td>\n",
              "      <td>2020</td>\n",
              "    </tr>\n",
              "  </tbody>\n",
              "</table>\n",
              "</div>\n",
              "    <div class=\"colab-df-buttons\">\n",
              "\n",
              "  <div class=\"colab-df-container\">\n",
              "    <button class=\"colab-df-convert\" onclick=\"convertToInteractive('df-3546bba5-4508-4a70-ad82-5912e575c1a6')\"\n",
              "            title=\"Convert this dataframe to an interactive table.\"\n",
              "            style=\"display:none;\">\n",
              "\n",
              "  <svg xmlns=\"http://www.w3.org/2000/svg\" height=\"24px\" viewBox=\"0 -960 960 960\">\n",
              "    <path d=\"M120-120v-720h720v720H120Zm60-500h600v-160H180v160Zm220 220h160v-160H400v160Zm0 220h160v-160H400v160ZM180-400h160v-160H180v160Zm440 0h160v-160H620v160ZM180-180h160v-160H180v160Zm440 0h160v-160H620v160Z\"/>\n",
              "  </svg>\n",
              "    </button>\n",
              "\n",
              "  <style>\n",
              "    .colab-df-container {\n",
              "      display:flex;\n",
              "      gap: 12px;\n",
              "    }\n",
              "\n",
              "    .colab-df-convert {\n",
              "      background-color: #E8F0FE;\n",
              "      border: none;\n",
              "      border-radius: 50%;\n",
              "      cursor: pointer;\n",
              "      display: none;\n",
              "      fill: #1967D2;\n",
              "      height: 32px;\n",
              "      padding: 0 0 0 0;\n",
              "      width: 32px;\n",
              "    }\n",
              "\n",
              "    .colab-df-convert:hover {\n",
              "      background-color: #E2EBFA;\n",
              "      box-shadow: 0px 1px 2px rgba(60, 64, 67, 0.3), 0px 1px 3px 1px rgba(60, 64, 67, 0.15);\n",
              "      fill: #174EA6;\n",
              "    }\n",
              "\n",
              "    .colab-df-buttons div {\n",
              "      margin-bottom: 4px;\n",
              "    }\n",
              "\n",
              "    [theme=dark] .colab-df-convert {\n",
              "      background-color: #3B4455;\n",
              "      fill: #D2E3FC;\n",
              "    }\n",
              "\n",
              "    [theme=dark] .colab-df-convert:hover {\n",
              "      background-color: #434B5C;\n",
              "      box-shadow: 0px 1px 3px 1px rgba(0, 0, 0, 0.15);\n",
              "      filter: drop-shadow(0px 1px 2px rgba(0, 0, 0, 0.3));\n",
              "      fill: #FFFFFF;\n",
              "    }\n",
              "  </style>\n",
              "\n",
              "    <script>\n",
              "      const buttonEl =\n",
              "        document.querySelector('#df-3546bba5-4508-4a70-ad82-5912e575c1a6 button.colab-df-convert');\n",
              "      buttonEl.style.display =\n",
              "        google.colab.kernel.accessAllowed ? 'block' : 'none';\n",
              "\n",
              "      async function convertToInteractive(key) {\n",
              "        const element = document.querySelector('#df-3546bba5-4508-4a70-ad82-5912e575c1a6');\n",
              "        const dataTable =\n",
              "          await google.colab.kernel.invokeFunction('convertToInteractive',\n",
              "                                                    [key], {});\n",
              "        if (!dataTable) return;\n",
              "\n",
              "        const docLinkHtml = 'Like what you see? Visit the ' +\n",
              "          '<a target=\"_blank\" href=https://colab.research.google.com/notebooks/data_table.ipynb>data table notebook</a>'\n",
              "          + ' to learn more about interactive tables.';\n",
              "        element.innerHTML = '';\n",
              "        dataTable['output_type'] = 'display_data';\n",
              "        await google.colab.output.renderOutput(dataTable, element);\n",
              "        const docLink = document.createElement('div');\n",
              "        docLink.innerHTML = docLinkHtml;\n",
              "        element.appendChild(docLink);\n",
              "      }\n",
              "    </script>\n",
              "  </div>\n",
              "\n",
              "\n",
              "<div id=\"df-2ccbbabc-2f27-465c-be2c-1828e7a68b10\">\n",
              "  <button class=\"colab-df-quickchart\" onclick=\"quickchart('df-2ccbbabc-2f27-465c-be2c-1828e7a68b10')\"\n",
              "            title=\"Suggest charts.\"\n",
              "            style=\"display:none;\">\n",
              "\n",
              "<svg xmlns=\"http://www.w3.org/2000/svg\" height=\"24px\"viewBox=\"0 0 24 24\"\n",
              "     width=\"24px\">\n",
              "    <g>\n",
              "        <path d=\"M19 3H5c-1.1 0-2 .9-2 2v14c0 1.1.9 2 2 2h14c1.1 0 2-.9 2-2V5c0-1.1-.9-2-2-2zM9 17H7v-7h2v7zm4 0h-2V7h2v10zm4 0h-2v-4h2v4z\"/>\n",
              "    </g>\n",
              "</svg>\n",
              "  </button>\n",
              "\n",
              "<style>\n",
              "  .colab-df-quickchart {\n",
              "    background-color: #E8F0FE;\n",
              "    border: none;\n",
              "    border-radius: 50%;\n",
              "    cursor: pointer;\n",
              "    display: none;\n",
              "    fill: #1967D2;\n",
              "    height: 32px;\n",
              "    padding: 0 0 0 0;\n",
              "    width: 32px;\n",
              "  }\n",
              "\n",
              "  .colab-df-quickchart:hover {\n",
              "    background-color: #E2EBFA;\n",
              "    box-shadow: 0px 1px 2px rgba(60, 64, 67, 0.3), 0px 1px 3px 1px rgba(60, 64, 67, 0.15);\n",
              "    fill: #174EA6;\n",
              "  }\n",
              "\n",
              "  [theme=dark] .colab-df-quickchart {\n",
              "    background-color: #3B4455;\n",
              "    fill: #D2E3FC;\n",
              "  }\n",
              "\n",
              "  [theme=dark] .colab-df-quickchart:hover {\n",
              "    background-color: #434B5C;\n",
              "    box-shadow: 0px 1px 3px 1px rgba(0, 0, 0, 0.15);\n",
              "    filter: drop-shadow(0px 1px 2px rgba(0, 0, 0, 0.3));\n",
              "    fill: #FFFFFF;\n",
              "  }\n",
              "</style>\n",
              "\n",
              "  <script>\n",
              "    async function quickchart(key) {\n",
              "      const charts = await google.colab.kernel.invokeFunction(\n",
              "          'suggestCharts', [key], {});\n",
              "    }\n",
              "    (() => {\n",
              "      let quickchartButtonEl =\n",
              "        document.querySelector('#df-2ccbbabc-2f27-465c-be2c-1828e7a68b10 button');\n",
              "      quickchartButtonEl.style.display =\n",
              "        google.colab.kernel.accessAllowed ? 'block' : 'none';\n",
              "    })();\n",
              "  </script>\n",
              "</div>\n",
              "    </div>\n",
              "  </div>\n"
            ]
          },
          "metadata": {},
          "execution_count": 193
        }
      ]
    },
    {
      "cell_type": "code",
      "source": [
        "df['published_month'].value_counts(sort=True)"
      ],
      "metadata": {
        "colab": {
          "base_uri": "https://localhost:8080/"
        },
        "id": "-_LWfDYd1Vs1",
        "outputId": "8e70dd32-b9d6-4734-d719-4a2d6f1ee2dd"
      },
      "execution_count": null,
      "outputs": [
        {
          "output_type": "execute_result",
          "data": {
            "text/plain": [
              "4     423\n",
              "3     419\n",
              "2     412\n",
              "10    350\n",
              "1     348\n",
              "9     347\n",
              "5     312\n",
              "6     310\n",
              "11    305\n",
              "7     278\n",
              "12    265\n",
              "8     236\n",
              "Name: published_month, dtype: int64"
            ]
          },
          "metadata": {},
          "execution_count": 194
        }
      ]
    },
    {
      "cell_type": "code",
      "source": [
        "df.groupby('published_month').agg(Total_views=('views', np.sum),Mean_views=('views', np.mean)).reset_index()"
      ],
      "metadata": {
        "colab": {
          "base_uri": "https://localhost:8080/",
          "height": 425
        },
        "id": "yID_iq301ctN",
        "outputId": "c9eeaa60-ab2e-48f2-9130-0545a239362a"
      },
      "execution_count": null,
      "outputs": [
        {
          "output_type": "execute_result",
          "data": {
            "text/plain": [
              "    published_month  Total_views    Mean_views\n",
              "0                 1    700983110  2.014319e+06\n",
              "1                 2    880010961  2.135949e+06\n",
              "2                 3   1107919668  2.644200e+06\n",
              "3                 4    922484942  2.180815e+06\n",
              "4                 5    764392825  2.449977e+06\n",
              "5                 6    658906510  2.125505e+06\n",
              "6                 7    591555821  2.127899e+06\n",
              "7                 8    444666494  1.884180e+06\n",
              "8                 9    772027122  2.224862e+06\n",
              "9                10    668248714  1.909282e+06\n",
              "10               11    532563724  1.746111e+06\n",
              "11               12    559002432  2.109443e+06"
            ],
            "text/html": [
              "\n",
              "  <div id=\"df-61c24253-0380-4a28-943b-8ea2b2027ca8\" class=\"colab-df-container\">\n",
              "    <div>\n",
              "<style scoped>\n",
              "    .dataframe tbody tr th:only-of-type {\n",
              "        vertical-align: middle;\n",
              "    }\n",
              "\n",
              "    .dataframe tbody tr th {\n",
              "        vertical-align: top;\n",
              "    }\n",
              "\n",
              "    .dataframe thead th {\n",
              "        text-align: right;\n",
              "    }\n",
              "</style>\n",
              "<table border=\"1\" class=\"dataframe\">\n",
              "  <thead>\n",
              "    <tr style=\"text-align: right;\">\n",
              "      <th></th>\n",
              "      <th>published_month</th>\n",
              "      <th>Total_views</th>\n",
              "      <th>Mean_views</th>\n",
              "    </tr>\n",
              "  </thead>\n",
              "  <tbody>\n",
              "    <tr>\n",
              "      <th>0</th>\n",
              "      <td>1</td>\n",
              "      <td>700983110</td>\n",
              "      <td>2.014319e+06</td>\n",
              "    </tr>\n",
              "    <tr>\n",
              "      <th>1</th>\n",
              "      <td>2</td>\n",
              "      <td>880010961</td>\n",
              "      <td>2.135949e+06</td>\n",
              "    </tr>\n",
              "    <tr>\n",
              "      <th>2</th>\n",
              "      <td>3</td>\n",
              "      <td>1107919668</td>\n",
              "      <td>2.644200e+06</td>\n",
              "    </tr>\n",
              "    <tr>\n",
              "      <th>3</th>\n",
              "      <td>4</td>\n",
              "      <td>922484942</td>\n",
              "      <td>2.180815e+06</td>\n",
              "    </tr>\n",
              "    <tr>\n",
              "      <th>4</th>\n",
              "      <td>5</td>\n",
              "      <td>764392825</td>\n",
              "      <td>2.449977e+06</td>\n",
              "    </tr>\n",
              "    <tr>\n",
              "      <th>5</th>\n",
              "      <td>6</td>\n",
              "      <td>658906510</td>\n",
              "      <td>2.125505e+06</td>\n",
              "    </tr>\n",
              "    <tr>\n",
              "      <th>6</th>\n",
              "      <td>7</td>\n",
              "      <td>591555821</td>\n",
              "      <td>2.127899e+06</td>\n",
              "    </tr>\n",
              "    <tr>\n",
              "      <th>7</th>\n",
              "      <td>8</td>\n",
              "      <td>444666494</td>\n",
              "      <td>1.884180e+06</td>\n",
              "    </tr>\n",
              "    <tr>\n",
              "      <th>8</th>\n",
              "      <td>9</td>\n",
              "      <td>772027122</td>\n",
              "      <td>2.224862e+06</td>\n",
              "    </tr>\n",
              "    <tr>\n",
              "      <th>9</th>\n",
              "      <td>10</td>\n",
              "      <td>668248714</td>\n",
              "      <td>1.909282e+06</td>\n",
              "    </tr>\n",
              "    <tr>\n",
              "      <th>10</th>\n",
              "      <td>11</td>\n",
              "      <td>532563724</td>\n",
              "      <td>1.746111e+06</td>\n",
              "    </tr>\n",
              "    <tr>\n",
              "      <th>11</th>\n",
              "      <td>12</td>\n",
              "      <td>559002432</td>\n",
              "      <td>2.109443e+06</td>\n",
              "    </tr>\n",
              "  </tbody>\n",
              "</table>\n",
              "</div>\n",
              "    <div class=\"colab-df-buttons\">\n",
              "\n",
              "  <div class=\"colab-df-container\">\n",
              "    <button class=\"colab-df-convert\" onclick=\"convertToInteractive('df-61c24253-0380-4a28-943b-8ea2b2027ca8')\"\n",
              "            title=\"Convert this dataframe to an interactive table.\"\n",
              "            style=\"display:none;\">\n",
              "\n",
              "  <svg xmlns=\"http://www.w3.org/2000/svg\" height=\"24px\" viewBox=\"0 -960 960 960\">\n",
              "    <path d=\"M120-120v-720h720v720H120Zm60-500h600v-160H180v160Zm220 220h160v-160H400v160Zm0 220h160v-160H400v160ZM180-400h160v-160H180v160Zm440 0h160v-160H620v160ZM180-180h160v-160H180v160Zm440 0h160v-160H620v160Z\"/>\n",
              "  </svg>\n",
              "    </button>\n",
              "\n",
              "  <style>\n",
              "    .colab-df-container {\n",
              "      display:flex;\n",
              "      gap: 12px;\n",
              "    }\n",
              "\n",
              "    .colab-df-convert {\n",
              "      background-color: #E8F0FE;\n",
              "      border: none;\n",
              "      border-radius: 50%;\n",
              "      cursor: pointer;\n",
              "      display: none;\n",
              "      fill: #1967D2;\n",
              "      height: 32px;\n",
              "      padding: 0 0 0 0;\n",
              "      width: 32px;\n",
              "    }\n",
              "\n",
              "    .colab-df-convert:hover {\n",
              "      background-color: #E2EBFA;\n",
              "      box-shadow: 0px 1px 2px rgba(60, 64, 67, 0.3), 0px 1px 3px 1px rgba(60, 64, 67, 0.15);\n",
              "      fill: #174EA6;\n",
              "    }\n",
              "\n",
              "    .colab-df-buttons div {\n",
              "      margin-bottom: 4px;\n",
              "    }\n",
              "\n",
              "    [theme=dark] .colab-df-convert {\n",
              "      background-color: #3B4455;\n",
              "      fill: #D2E3FC;\n",
              "    }\n",
              "\n",
              "    [theme=dark] .colab-df-convert:hover {\n",
              "      background-color: #434B5C;\n",
              "      box-shadow: 0px 1px 3px 1px rgba(0, 0, 0, 0.15);\n",
              "      filter: drop-shadow(0px 1px 2px rgba(0, 0, 0, 0.3));\n",
              "      fill: #FFFFFF;\n",
              "    }\n",
              "  </style>\n",
              "\n",
              "    <script>\n",
              "      const buttonEl =\n",
              "        document.querySelector('#df-61c24253-0380-4a28-943b-8ea2b2027ca8 button.colab-df-convert');\n",
              "      buttonEl.style.display =\n",
              "        google.colab.kernel.accessAllowed ? 'block' : 'none';\n",
              "\n",
              "      async function convertToInteractive(key) {\n",
              "        const element = document.querySelector('#df-61c24253-0380-4a28-943b-8ea2b2027ca8');\n",
              "        const dataTable =\n",
              "          await google.colab.kernel.invokeFunction('convertToInteractive',\n",
              "                                                    [key], {});\n",
              "        if (!dataTable) return;\n",
              "\n",
              "        const docLinkHtml = 'Like what you see? Visit the ' +\n",
              "          '<a target=\"_blank\" href=https://colab.research.google.com/notebooks/data_table.ipynb>data table notebook</a>'\n",
              "          + ' to learn more about interactive tables.';\n",
              "        element.innerHTML = '';\n",
              "        dataTable['output_type'] = 'display_data';\n",
              "        await google.colab.output.renderOutput(dataTable, element);\n",
              "        const docLink = document.createElement('div');\n",
              "        docLink.innerHTML = docLinkHtml;\n",
              "        element.appendChild(docLink);\n",
              "      }\n",
              "    </script>\n",
              "  </div>\n",
              "\n",
              "\n",
              "<div id=\"df-be79b870-1be9-4a03-87d4-5ac4b317ca4d\">\n",
              "  <button class=\"colab-df-quickchart\" onclick=\"quickchart('df-be79b870-1be9-4a03-87d4-5ac4b317ca4d')\"\n",
              "            title=\"Suggest charts.\"\n",
              "            style=\"display:none;\">\n",
              "\n",
              "<svg xmlns=\"http://www.w3.org/2000/svg\" height=\"24px\"viewBox=\"0 0 24 24\"\n",
              "     width=\"24px\">\n",
              "    <g>\n",
              "        <path d=\"M19 3H5c-1.1 0-2 .9-2 2v14c0 1.1.9 2 2 2h14c1.1 0 2-.9 2-2V5c0-1.1-.9-2-2-2zM9 17H7v-7h2v7zm4 0h-2V7h2v10zm4 0h-2v-4h2v4z\"/>\n",
              "    </g>\n",
              "</svg>\n",
              "  </button>\n",
              "\n",
              "<style>\n",
              "  .colab-df-quickchart {\n",
              "    background-color: #E8F0FE;\n",
              "    border: none;\n",
              "    border-radius: 50%;\n",
              "    cursor: pointer;\n",
              "    display: none;\n",
              "    fill: #1967D2;\n",
              "    height: 32px;\n",
              "    padding: 0 0 0 0;\n",
              "    width: 32px;\n",
              "  }\n",
              "\n",
              "  .colab-df-quickchart:hover {\n",
              "    background-color: #E2EBFA;\n",
              "    box-shadow: 0px 1px 2px rgba(60, 64, 67, 0.3), 0px 1px 3px 1px rgba(60, 64, 67, 0.15);\n",
              "    fill: #174EA6;\n",
              "  }\n",
              "\n",
              "  [theme=dark] .colab-df-quickchart {\n",
              "    background-color: #3B4455;\n",
              "    fill: #D2E3FC;\n",
              "  }\n",
              "\n",
              "  [theme=dark] .colab-df-quickchart:hover {\n",
              "    background-color: #434B5C;\n",
              "    box-shadow: 0px 1px 3px 1px rgba(0, 0, 0, 0.15);\n",
              "    filter: drop-shadow(0px 1px 2px rgba(0, 0, 0, 0.3));\n",
              "    fill: #FFFFFF;\n",
              "  }\n",
              "</style>\n",
              "\n",
              "  <script>\n",
              "    async function quickchart(key) {\n",
              "      const charts = await google.colab.kernel.invokeFunction(\n",
              "          'suggestCharts', [key], {});\n",
              "    }\n",
              "    (() => {\n",
              "      let quickchartButtonEl =\n",
              "        document.querySelector('#df-be79b870-1be9-4a03-87d4-5ac4b317ca4d button');\n",
              "      quickchartButtonEl.style.display =\n",
              "        google.colab.kernel.accessAllowed ? 'block' : 'none';\n",
              "    })();\n",
              "  </script>\n",
              "</div>\n",
              "    </div>\n",
              "  </div>\n"
            ]
          },
          "metadata": {},
          "execution_count": 195
        }
      ]
    },
    {
      "cell_type": "code",
      "source": [
        "result = df.groupby('published_month')['views'].sum()\n",
        "sns.barplot(x=result.index, y=result, order=result.sort_values(ascending = False).index)\n",
        "plt.xlabel('published_day')\n",
        "plt.ylabel('Total_Views')"
      ],
      "metadata": {
        "colab": {
          "base_uri": "https://localhost:8080/",
          "height": 482
        },
        "id": "obaYDeAG1mok",
        "outputId": "789e832e-0473-4eb3-f774-ca4040dbce59"
      },
      "execution_count": null,
      "outputs": [
        {
          "output_type": "execute_result",
          "data": {
            "text/plain": [
              "Text(0, 0.5, 'Total_Views')"
            ]
          },
          "metadata": {},
          "execution_count": 196
        },
        {
          "output_type": "display_data",
          "data": {
            "text/plain": [
              "<Figure size 640x480 with 1 Axes>"
            ],
            "image/png": "[encoded data removed]"
          },
          "metadata": {}
        }
      ]
    },
    {
      "cell_type": "code",
      "source": [
        "result = df.groupby('published_month')['views'].mean()\n",
        "sns.barplot(x=result.index, y=result, order=result.sort_values(ascending = False).index)\n",
        "plt.xlabel('published_day')\n",
        "plt.ylabel('Total_Views')"
      ],
      "metadata": {
        "colab": {
          "base_uri": "https://localhost:8080/",
          "height": 482
        },
        "id": "dWdBeHxA1ye2",
        "outputId": "bbcfcfc4-8983-4ebf-b137-1a88d11c53c5"
      },
      "execution_count": null,
      "outputs": [
        {
          "output_type": "execute_result",
          "data": {
            "text/plain": [
              "Text(0, 0.5, 'Total_Views')"
            ]
          },
          "metadata": {},
          "execution_count": 197
        },
        {
          "output_type": "display_data",
          "data": {
            "text/plain": [
              "<Figure size 640x480 with 1 Axes>"
            ],
            "image/png": "[encoded data removed]"
          },
          "metadata": {}
        }
      ]
    },
    {
      "cell_type": "markdown",
      "source": [
        "Observation: If we look at average views w.r.to Months then all the months except Oct, Nov & Aug performs better and if we look at Total Views w.r.to Months then Quarter 1 performs better than other Quarters"
      ],
      "metadata": {
        "id": "A-82Q-lF3I3I"
      }
    },
    {
      "cell_type": "code",
      "source": [
        "# df.to_csv('df.csv',index = 'False')"
      ],
      "metadata": {
        "id": "eG-NlsGoJH0K"
      },
      "execution_count": null,
      "outputs": []
    },
    {
      "cell_type": "code",
      "source": [],
      "metadata": {
        "id": "oHuzAJ0_LjgF"
      },
      "execution_count": null,
      "outputs": []
    }
  ]
}